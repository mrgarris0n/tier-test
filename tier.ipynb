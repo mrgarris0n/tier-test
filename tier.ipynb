{
  "nbformat": 4,
  "nbformat_minor": 0,
  "metadata": {
    "colab": {
      "name": "tier.ipynb",
      "provenance": [],
      "collapsed_sections": [],
      "authorship_tag": "ABX9TyNFQdSeR2wYTRtjLES8F3oT",
      "include_colab_link": true
    },
    "kernelspec": {
      "name": "python3",
      "display_name": "Python 3"
    },
    "language_info": {
      "name": "python"
    },
    "widgets": {
      "application/vnd.jupyter.widget-state+json": {
        "dfd2561aec0846e3bf3b60e34ee77f1e": {
          "model_module": "jupyter-leaflet",
          "model_name": "LeafletMapModel",
          "model_module_version": "^0.17.0",
          "state": {
            "_dom_classes": [],
            "_model_module": "jupyter-leaflet",
            "_model_module_version": "^0.17.0",
            "_model_name": "LeafletMapModel",
            "_view_count": null,
            "_view_module": "jupyter-leaflet",
            "_view_module_version": "^0.17.0",
            "_view_name": "LeafletMapView",
            "bottom": 46345,
            "bounce_at_zoom_limits": true,
            "box_zoom": true,
            "center": [
              47.663537612601345,
              20.33843111452003
            ],
            "close_popup_on_click": true,
            "controls": [
              "IPY_MODEL_8c9dc819c30047d8923c73a3007996bb",
              "IPY_MODEL_57c9d8788ccf46f3a4143c5dbeb09cde",
              "IPY_MODEL_bb92744607c14ef395cdd114f5ae0d92"
            ],
            "crs": {
              "name": "EPSG3857",
              "custom": false
            },
            "default_style": "IPY_MODEL_04120ea75876402fabe50dd7781f5560",
            "double_click_zoom": true,
            "dragging": true,
            "dragging_style": "IPY_MODEL_dbe43bb28dcb4129851239eb023460e9",
            "east": 22.66203951295753,
            "fullscreen": false,
            "inertia": true,
            "inertia_deceleration": 3000,
            "inertia_max_speed": 1500,
            "interpolation": "bilinear",
            "keyboard": true,
            "keyboard_pan_offset": 80,
            "keyboard_zoom_offset": 1,
            "layers": [
              "IPY_MODEL_110b73f8b7b842f7ae1382c941cad993",
              "IPY_MODEL_5fa66654afe04673a3bfda486833d915",
              "IPY_MODEL_a0b0925708d24dad9004685a3fee534a",
              "IPY_MODEL_ebe8c0aa7ee54dd392e91a00e21a8e3d",
              "IPY_MODEL_706099c79f2f4010806a11d4fad3b535",
              "IPY_MODEL_6d48ef95020e45b68df634ecfe5a1c87",
              "IPY_MODEL_2e8af21b9cc440f68288668a6dc07bc4",
              "IPY_MODEL_dcf9afa105ae4cc3bbadb9ca6e5a8181",
              "IPY_MODEL_af30374191034dacbbf3482ffeb92a98",
              "IPY_MODEL_ecbf04b406354edabc24c810bde5e1ca",
              "IPY_MODEL_40d3eb491b5e4d9799fd2c4bbb804651",
              "IPY_MODEL_60128deebe6a45aaa7fda70460b26bd3",
              "IPY_MODEL_6433733b733a4e9bb326f1463f6eae3f",
              "IPY_MODEL_b35db267b8ad42fb844c6b927bb61d86",
              "IPY_MODEL_32a804865d774fa9a2851efffdb732a6",
              "IPY_MODEL_bb2de84e4051416eb35fc6511bcabf24",
              "IPY_MODEL_7a9d703e9d8043849597b8b7d326044e",
              "IPY_MODEL_356a63bdb8cc4d47aa070414b35fa1bd",
              "IPY_MODEL_051b28d81cc941359523343d780f7f4c",
              "IPY_MODEL_f1042fdda7794df28c446f6d86ab3aea",
              "IPY_MODEL_c64a700449194836a3847b1704945d47",
              "IPY_MODEL_fc18f953801b42f49ae359ab4ae43f21",
              "IPY_MODEL_b71f2289ac2d4360bf0e650fa74891e2",
              "IPY_MODEL_c4d0174804bb435696b3a4547719628d",
              "IPY_MODEL_a53b67689a5f45689e5de0e681b2c99d",
              "IPY_MODEL_1d4c16e3592845019c064a16eb9b98fd",
              "IPY_MODEL_3f61506cac0646099d10ce2c77e5320f",
              "IPY_MODEL_e27c48b7ae6f4d3caf7d59d0a5e8b7ab",
              "IPY_MODEL_3d370c7255214399814c7f0a78580a12",
              "IPY_MODEL_a64851675611427681d6e2314bedf58d",
              "IPY_MODEL_6683b87de5754f65b7e27bbac2a94e84",
              "IPY_MODEL_43234f285d5d4825bb240999342f2065",
              "IPY_MODEL_446e2166a7244143817fb98ccd935e36",
              "IPY_MODEL_0ccc790b7b864321b744971d04c5b79d",
              "IPY_MODEL_b7c8566488034caeaf9f1511338a0ba5",
              "IPY_MODEL_11d2d5eebded442991db65ca6314d2cb",
              "IPY_MODEL_619aa7d3456c45e6b4c684979e594b4a",
              "IPY_MODEL_ed65434beba24977a716312cace622eb",
              "IPY_MODEL_e6fab6fc43c1460b81d99f1eb7736956",
              "IPY_MODEL_ff2a947b78604546ac4e7848b65886f2",
              "IPY_MODEL_afefd15738814bc8b0777961aed13894",
              "IPY_MODEL_44744f88e2ed46ebb80b5d57d9f6d0ce",
              "IPY_MODEL_d6be6bb7320e46ad82a4394459ba72e7",
              "IPY_MODEL_e4f63816178b4622a11351aba173f033",
              "IPY_MODEL_8c4ac9a50a094b9f902bef5983b06ffc",
              "IPY_MODEL_044de6a916ff4827a49b539c174d1f5f",
              "IPY_MODEL_81c6f2d1a72749458b422fd7adbfb3f1",
              "IPY_MODEL_ff5b7ddbb2374b2a99b2d162d8d41a38",
              "IPY_MODEL_e9d6fbaafd4745beb50085de3725a3ca",
              "IPY_MODEL_a17a594f863f4280ac9e85b2ac1ee600",
              "IPY_MODEL_d87b2da802494e038b098374baec54a2",
              "IPY_MODEL_e49b3a48f3504d27b7de0c1bd142b516",
              "IPY_MODEL_3008579f9e96490f8b58f23e90010597",
              "IPY_MODEL_1186beba04024930a583e439e9470207",
              "IPY_MODEL_faf0974e71164ecdad9f45b64d5425b6",
              "IPY_MODEL_4f21248ad42c4e1e8809b1d351820219",
              "IPY_MODEL_d3302645831b46ae9c8cb5480bf4d38a",
              "IPY_MODEL_b9687436659045f3a9e5f3b8faae2e77",
              "IPY_MODEL_e5e09ab8adde43fd8cd4666c6b2cb397",
              "IPY_MODEL_14558c10f2174e009e45063c02fcfa32",
              "IPY_MODEL_ffa27280e7a441da9fa93eab9500ebfb",
              "IPY_MODEL_ca2cbc7da5844938836da306104334dc",
              "IPY_MODEL_bc09d086165a4b1aba2ac56269803b93",
              "IPY_MODEL_74e6c8f8a15d4031aa07e9c6049eb132",
              "IPY_MODEL_dc0c28914b254ba589cd4f70db5abb92",
              "IPY_MODEL_f4b495d8cf4e4804ba373dfd62640882"
            ],
            "layout": "IPY_MODEL_a2852fab8e1146c0b99162605886bb6f",
            "left": 72094.9967862288,
            "max_zoom": null,
            "min_zoom": null,
            "modisdate": "2022-07-30",
            "north": 48.76162064203734,
            "options": [
              "bounce_at_zoom_limits",
              "box_zoom",
              "center",
              "close_popup_on_click",
              "double_click_zoom",
              "dragging",
              "fullscreen",
              "inertia",
              "inertia_deceleration",
              "inertia_max_speed",
              "interpolation",
              "keyboard",
              "keyboard_pan_offset",
              "keyboard_zoom_offset",
              "max_zoom",
              "min_zoom",
              "prefer_canvas",
              "scroll_wheel_zoom",
              "tap",
              "tap_tolerance",
              "touch_zoom",
              "world_copy_jump",
              "zoom",
              "zoom_animation_threshold",
              "zoom_delta",
              "zoom_snap"
            ],
            "panes": {},
            "prefer_canvas": false,
            "right": 73786.9967862288,
            "scroll_wheel_zoom": true,
            "south": 46.541860469382804,
            "style": "IPY_MODEL_04120ea75876402fabe50dd7781f5560",
            "tap": true,
            "tap_tolerance": 15,
            "top": 45145,
            "touch_zoom": true,
            "west": 18.01482271608253,
            "window_url": "https://hcz2wsiq77-496ff2e9c6d22116-0-colab.googleusercontent.com/outputframe.html?vrz=colab-20220728-060048-RC00_463807217",
            "world_copy_jump": false,
            "zoom": 9,
            "zoom_animation_threshold": 4,
            "zoom_delta": 1,
            "zoom_snap": 1
          }
        },
        "8c9dc819c30047d8923c73a3007996bb": {
          "model_module": "jupyter-leaflet",
          "model_name": "LeafletZoomControlModel",
          "model_module_version": "^0.17.0",
          "state": {
            "_model_module": "jupyter-leaflet",
            "_model_module_version": "^0.17.0",
            "_model_name": "LeafletZoomControlModel",
            "_view_count": null,
            "_view_module": "jupyter-leaflet",
            "_view_module_version": "^0.17.0",
            "_view_name": "LeafletZoomControlView",
            "options": [
              "position",
              "zoom_in_text",
              "zoom_in_title",
              "zoom_out_text",
              "zoom_out_title"
            ],
            "position": "topleft",
            "zoom_in_text": "+",
            "zoom_in_title": "Zoom in",
            "zoom_out_text": "-",
            "zoom_out_title": "Zoom out"
          }
        },
        "57c9d8788ccf46f3a4143c5dbeb09cde": {
          "model_module": "jupyter-leaflet",
          "model_name": "LeafletAttributionControlModel",
          "model_module_version": "^0.17.0",
          "state": {
            "_model_module": "jupyter-leaflet",
            "_model_module_version": "^0.17.0",
            "_model_name": "LeafletAttributionControlModel",
            "_view_count": null,
            "_view_module": "jupyter-leaflet",
            "_view_module_version": "^0.17.0",
            "_view_name": "LeafletAttributionControlView",
            "options": [
              "position",
              "prefix"
            ],
            "position": "bottomright",
            "prefix": "ipyleaflet"
          }
        },
        "bb92744607c14ef395cdd114f5ae0d92": {
          "model_module": "jupyter-leaflet",
          "model_name": "LeafletLayersControlModel",
          "model_module_version": "^0.17.0",
          "state": {
            "_model_module": "jupyter-leaflet",
            "_model_module_version": "^0.17.0",
            "_model_name": "LeafletLayersControlModel",
            "_view_count": null,
            "_view_module": "jupyter-leaflet",
            "_view_module_version": "^0.17.0",
            "_view_name": "LeafletLayersControlView",
            "options": [
              "position"
            ],
            "position": "topright"
          }
        },
        "04120ea75876402fabe50dd7781f5560": {
          "model_module": "jupyter-leaflet",
          "model_name": "LeafletMapStyleModel",
          "model_module_version": "^0.17.0",
          "state": {
            "_model_module": "jupyter-leaflet",
            "_model_module_version": "^0.17.0",
            "_model_name": "LeafletMapStyleModel",
            "_view_count": null,
            "_view_module": "@jupyter-widgets/base",
            "_view_module_version": "1.2.0",
            "_view_name": "StyleView",
            "cursor": "grab"
          }
        },
        "dbe43bb28dcb4129851239eb023460e9": {
          "model_module": "jupyter-leaflet",
          "model_name": "LeafletMapStyleModel",
          "model_module_version": "^0.17.0",
          "state": {
            "_model_module": "jupyter-leaflet",
            "_model_module_version": "^0.17.0",
            "_model_name": "LeafletMapStyleModel",
            "_view_count": null,
            "_view_module": "@jupyter-widgets/base",
            "_view_module_version": "1.2.0",
            "_view_name": "StyleView",
            "cursor": "move"
          }
        },
        "110b73f8b7b842f7ae1382c941cad993": {
          "model_module": "jupyter-leaflet",
          "model_name": "LeafletTileLayerModel",
          "model_module_version": "^0.17.0",
          "state": {
            "_model_module": "jupyter-leaflet",
            "_model_module_version": "^0.17.0",
            "_model_name": "LeafletTileLayerModel",
            "_view_count": null,
            "_view_module": "jupyter-leaflet",
            "_view_module_version": "^0.17.0",
            "_view_name": "LeafletTileLayerView",
            "attribution": "&copy; <a href=\"https://www.openstreetmap.org/copyright\">OpenStreetMap</a> contributors",
            "base": true,
            "bottom": true,
            "bounds": null,
            "detect_retina": false,
            "loading": false,
            "max_native_zoom": null,
            "max_zoom": 19,
            "min_native_zoom": null,
            "min_zoom": 1,
            "name": "OpenStreetMap.Mapnik",
            "no_wrap": false,
            "opacity": 1,
            "options": [
              "attribution",
              "bounds",
              "detect_retina",
              "max_native_zoom",
              "max_zoom",
              "min_native_zoom",
              "min_zoom",
              "no_wrap",
              "tile_size",
              "tms"
            ],
            "pane": "",
            "popup": null,
            "popup_max_height": null,
            "popup_max_width": 300,
            "popup_min_width": 50,
            "show_loading": false,
            "tile_size": 256,
            "tms": false,
            "url": "https://a.tile.openstreetmap.org/{z}/{x}/{y}.png",
            "visible": true
          }
        },
        "a2852fab8e1146c0b99162605886bb6f": {
          "model_module": "@jupyter-widgets/base",
          "model_name": "LayoutModel",
          "model_module_version": "1.2.0",
          "state": {
            "_model_module": "@jupyter-widgets/base",
            "_model_module_version": "1.2.0",
            "_model_name": "LayoutModel",
            "_view_count": null,
            "_view_module": "@jupyter-widgets/base",
            "_view_module_version": "1.2.0",
            "_view_name": "LayoutView",
            "align_content": null,
            "align_items": null,
            "align_self": null,
            "border": null,
            "bottom": null,
            "display": null,
            "flex": null,
            "flex_flow": null,
            "grid_area": null,
            "grid_auto_columns": null,
            "grid_auto_flow": null,
            "grid_auto_rows": null,
            "grid_column": null,
            "grid_gap": null,
            "grid_row": null,
            "grid_template_areas": null,
            "grid_template_columns": null,
            "grid_template_rows": null,
            "height": "1200px",
            "justify_content": null,
            "justify_items": null,
            "left": null,
            "margin": null,
            "max_height": null,
            "max_width": null,
            "min_height": null,
            "min_width": null,
            "object_fit": null,
            "object_position": null,
            "order": null,
            "overflow": null,
            "overflow_x": null,
            "overflow_y": null,
            "padding": null,
            "right": null,
            "top": null,
            "visibility": null,
            "width": "95%"
          }
        },
        "fd8f38d8be084725ba24d8bfff52a485": {
          "model_module": "jupyter-leaflet",
          "model_name": "LeafletMapStyleModel",
          "model_module_version": "^0.17.0",
          "state": {
            "_model_module": "jupyter-leaflet",
            "_model_module_version": "^0.17.0",
            "_model_name": "LeafletMapStyleModel",
            "_view_count": null,
            "_view_module": "@jupyter-widgets/base",
            "_view_module_version": "1.2.0",
            "_view_name": "StyleView",
            "cursor": "grab"
          }
        },
        "5fa66654afe04673a3bfda486833d915": {
          "model_module": "jupyter-leaflet",
          "model_name": "LeafletMarkerModel",
          "model_module_version": "^0.17.0",
          "state": {
            "_model_module": "jupyter-leaflet",
            "_model_module_version": "^0.17.0",
            "_model_name": "LeafletMarkerModel",
            "_view_count": null,
            "_view_module": "jupyter-leaflet",
            "_view_module_version": "^0.17.0",
            "_view_name": "LeafletMarkerView",
            "alt": "",
            "base": false,
            "bottom": false,
            "draggable": false,
            "icon": null,
            "keyboard": true,
            "location": [
              47.49832,
              19.034189
            ],
            "name": "",
            "opacity": 0.57,
            "options": [
              "alt",
              "draggable",
              "keyboard",
              "rise_offset",
              "rise_on_hover",
              "rotation_angle",
              "rotation_origin",
              "title",
              "z_index_offset"
            ],
            "pane": "",
            "popup": null,
            "popup_max_height": null,
            "popup_max_width": 300,
            "popup_min_width": 50,
            "rise_offset": 250,
            "rise_on_hover": false,
            "rotation_angle": 0,
            "rotation_origin": "",
            "title": "Battery Level: 57%, range: 23.0 km",
            "visible": true,
            "z_index_offset": 0
          }
        },
        "a0b0925708d24dad9004685a3fee534a": {
          "model_module": "jupyter-leaflet",
          "model_name": "LeafletMarkerModel",
          "model_module_version": "^0.17.0",
          "state": {
            "_model_module": "jupyter-leaflet",
            "_model_module_version": "^0.17.0",
            "_model_name": "LeafletMarkerModel",
            "_view_count": null,
            "_view_module": "jupyter-leaflet",
            "_view_module_version": "^0.17.0",
            "_view_name": "LeafletMarkerView",
            "alt": "",
            "base": false,
            "bottom": false,
            "draggable": false,
            "icon": null,
            "keyboard": true,
            "location": [
              47.498562,
              19.030193
            ],
            "name": "",
            "opacity": 0.57,
            "options": [
              "alt",
              "draggable",
              "keyboard",
              "rise_offset",
              "rise_on_hover",
              "rotation_angle",
              "rotation_origin",
              "title",
              "z_index_offset"
            ],
            "pane": "",
            "popup": null,
            "popup_max_height": null,
            "popup_max_width": 300,
            "popup_min_width": 50,
            "rise_offset": 250,
            "rise_on_hover": false,
            "rotation_angle": 0,
            "rotation_origin": "",
            "title": "Battery Level: 57%, range: 23.0 km",
            "visible": true,
            "z_index_offset": 0
          }
        },
        "ebe8c0aa7ee54dd392e91a00e21a8e3d": {
          "model_module": "jupyter-leaflet",
          "model_name": "LeafletMarkerModel",
          "model_module_version": "^0.17.0",
          "state": {
            "_model_module": "jupyter-leaflet",
            "_model_module_version": "^0.17.0",
            "_model_name": "LeafletMarkerModel",
            "_view_count": null,
            "_view_module": "jupyter-leaflet",
            "_view_module_version": "^0.17.0",
            "_view_name": "LeafletMarkerView",
            "alt": "",
            "base": false,
            "bottom": false,
            "draggable": false,
            "icon": null,
            "keyboard": true,
            "location": [
              47.487146,
              19.010321
            ],
            "name": "",
            "opacity": 0.37,
            "options": [
              "alt",
              "draggable",
              "keyboard",
              "rise_offset",
              "rise_on_hover",
              "rotation_angle",
              "rotation_origin",
              "title",
              "z_index_offset"
            ],
            "pane": "",
            "popup": null,
            "popup_max_height": null,
            "popup_max_width": 300,
            "popup_min_width": 50,
            "rise_offset": 250,
            "rise_on_hover": false,
            "rotation_angle": 0,
            "rotation_origin": "",
            "title": "Battery Level: 37%, range: 12.0 km",
            "visible": true,
            "z_index_offset": 0
          }
        },
        "706099c79f2f4010806a11d4fad3b535": {
          "model_module": "jupyter-leaflet",
          "model_name": "LeafletMarkerModel",
          "model_module_version": "^0.17.0",
          "state": {
            "_model_module": "jupyter-leaflet",
            "_model_module_version": "^0.17.0",
            "_model_name": "LeafletMarkerModel",
            "_view_count": null,
            "_view_module": "jupyter-leaflet",
            "_view_module_version": "^0.17.0",
            "_view_name": "LeafletMarkerView",
            "alt": "",
            "base": false,
            "bottom": false,
            "draggable": false,
            "icon": null,
            "keyboard": true,
            "location": [
              47.486955,
              19.009979
            ],
            "name": "",
            "opacity": 0.39,
            "options": [
              "alt",
              "draggable",
              "keyboard",
              "rise_offset",
              "rise_on_hover",
              "rotation_angle",
              "rotation_origin",
              "title",
              "z_index_offset"
            ],
            "pane": "",
            "popup": null,
            "popup_max_height": null,
            "popup_max_width": 300,
            "popup_min_width": 50,
            "rise_offset": 250,
            "rise_on_hover": false,
            "rotation_angle": 0,
            "rotation_origin": "",
            "title": "Battery Level: 39%, range: 13.0 km",
            "visible": true,
            "z_index_offset": 0
          }
        },
        "6d48ef95020e45b68df634ecfe5a1c87": {
          "model_module": "jupyter-leaflet",
          "model_name": "LeafletMarkerModel",
          "model_module_version": "^0.17.0",
          "state": {
            "_model_module": "jupyter-leaflet",
            "_model_module_version": "^0.17.0",
            "_model_name": "LeafletMarkerModel",
            "_view_count": null,
            "_view_module": "jupyter-leaflet",
            "_view_module_version": "^0.17.0",
            "_view_name": "LeafletMarkerView",
            "alt": "",
            "base": false,
            "bottom": false,
            "draggable": false,
            "icon": null,
            "keyboard": true,
            "location": [
              47.498568,
              19.030357
            ],
            "name": "",
            "opacity": 0.72,
            "options": [
              "alt",
              "draggable",
              "keyboard",
              "rise_offset",
              "rise_on_hover",
              "rotation_angle",
              "rotation_origin",
              "title",
              "z_index_offset"
            ],
            "pane": "",
            "popup": null,
            "popup_max_height": null,
            "popup_max_width": 300,
            "popup_min_width": 50,
            "rise_offset": 250,
            "rise_on_hover": false,
            "rotation_angle": 0,
            "rotation_origin": "",
            "title": "Battery Level: 72%, range: 31.0 km",
            "visible": true,
            "z_index_offset": 0
          }
        },
        "2e8af21b9cc440f68288668a6dc07bc4": {
          "model_module": "jupyter-leaflet",
          "model_name": "LeafletMarkerModel",
          "model_module_version": "^0.17.0",
          "state": {
            "_model_module": "jupyter-leaflet",
            "_model_module_version": "^0.17.0",
            "_model_name": "LeafletMarkerModel",
            "_view_count": null,
            "_view_module": "jupyter-leaflet",
            "_view_module_version": "^0.17.0",
            "_view_name": "LeafletMarkerView",
            "alt": "",
            "base": false,
            "bottom": false,
            "draggable": false,
            "icon": null,
            "keyboard": true,
            "location": [
              47.507871,
              19.028446
            ],
            "name": "",
            "opacity": 0.49,
            "options": [
              "alt",
              "draggable",
              "keyboard",
              "rise_offset",
              "rise_on_hover",
              "rotation_angle",
              "rotation_origin",
              "title",
              "z_index_offset"
            ],
            "pane": "",
            "popup": null,
            "popup_max_height": null,
            "popup_max_width": 300,
            "popup_min_width": 50,
            "rise_offset": 250,
            "rise_on_hover": false,
            "rotation_angle": 0,
            "rotation_origin": "",
            "title": "Battery Level: 49%, range: 19.0 km",
            "visible": true,
            "z_index_offset": 0
          }
        },
        "dcf9afa105ae4cc3bbadb9ca6e5a8181": {
          "model_module": "jupyter-leaflet",
          "model_name": "LeafletMarkerModel",
          "model_module_version": "^0.17.0",
          "state": {
            "_model_module": "jupyter-leaflet",
            "_model_module_version": "^0.17.0",
            "_model_name": "LeafletMarkerModel",
            "_view_count": null,
            "_view_module": "jupyter-leaflet",
            "_view_module_version": "^0.17.0",
            "_view_name": "LeafletMarkerView",
            "alt": "",
            "base": false,
            "bottom": false,
            "draggable": false,
            "icon": null,
            "keyboard": true,
            "location": [
              47.506505,
              19.018145
            ],
            "name": "",
            "opacity": 0.74,
            "options": [
              "alt",
              "draggable",
              "keyboard",
              "rise_offset",
              "rise_on_hover",
              "rotation_angle",
              "rotation_origin",
              "title",
              "z_index_offset"
            ],
            "pane": "",
            "popup": null,
            "popup_max_height": null,
            "popup_max_width": 300,
            "popup_min_width": 50,
            "rise_offset": 250,
            "rise_on_hover": false,
            "rotation_angle": 0,
            "rotation_origin": "",
            "title": "Battery Level: 74%, range: 32.0 km",
            "visible": true,
            "z_index_offset": 0
          }
        },
        "af30374191034dacbbf3482ffeb92a98": {
          "model_module": "jupyter-leaflet",
          "model_name": "LeafletMarkerModel",
          "model_module_version": "^0.17.0",
          "state": {
            "_model_module": "jupyter-leaflet",
            "_model_module_version": "^0.17.0",
            "_model_name": "LeafletMarkerModel",
            "_view_count": null,
            "_view_module": "jupyter-leaflet",
            "_view_module_version": "^0.17.0",
            "_view_name": "LeafletMarkerView",
            "alt": "",
            "base": false,
            "bottom": false,
            "draggable": false,
            "icon": null,
            "keyboard": true,
            "location": [
              47.50767,
              19.028277
            ],
            "name": "",
            "opacity": 0.45,
            "options": [
              "alt",
              "draggable",
              "keyboard",
              "rise_offset",
              "rise_on_hover",
              "rotation_angle",
              "rotation_origin",
              "title",
              "z_index_offset"
            ],
            "pane": "",
            "popup": null,
            "popup_max_height": null,
            "popup_max_width": 300,
            "popup_min_width": 50,
            "rise_offset": 250,
            "rise_on_hover": false,
            "rotation_angle": 0,
            "rotation_origin": "",
            "title": "Battery Level: 45%, range: 17.0 km",
            "visible": true,
            "z_index_offset": 0
          }
        },
        "ecbf04b406354edabc24c810bde5e1ca": {
          "model_module": "jupyter-leaflet",
          "model_name": "LeafletMarkerModel",
          "model_module_version": "^0.17.0",
          "state": {
            "_model_module": "jupyter-leaflet",
            "_model_module_version": "^0.17.0",
            "_model_name": "LeafletMarkerModel",
            "_view_count": null,
            "_view_module": "jupyter-leaflet",
            "_view_module_version": "^0.17.0",
            "_view_name": "LeafletMarkerView",
            "alt": "",
            "base": false,
            "bottom": false,
            "draggable": false,
            "icon": null,
            "keyboard": true,
            "location": [
              47.49929,
              19.026672
            ],
            "name": "",
            "opacity": 0.29,
            "options": [
              "alt",
              "draggable",
              "keyboard",
              "rise_offset",
              "rise_on_hover",
              "rotation_angle",
              "rotation_origin",
              "title",
              "z_index_offset"
            ],
            "pane": "",
            "popup": null,
            "popup_max_height": null,
            "popup_max_width": 300,
            "popup_min_width": 50,
            "rise_offset": 250,
            "rise_on_hover": false,
            "rotation_angle": 0,
            "rotation_origin": "",
            "title": "Battery Level: 29%, range: 8.0 km",
            "visible": true,
            "z_index_offset": 0
          }
        },
        "40d3eb491b5e4d9799fd2c4bbb804651": {
          "model_module": "jupyter-leaflet",
          "model_name": "LeafletMarkerModel",
          "model_module_version": "^0.17.0",
          "state": {
            "_model_module": "jupyter-leaflet",
            "_model_module_version": "^0.17.0",
            "_model_name": "LeafletMarkerModel",
            "_view_count": null,
            "_view_module": "jupyter-leaflet",
            "_view_module_version": "^0.17.0",
            "_view_name": "LeafletMarkerView",
            "alt": "",
            "base": false,
            "bottom": false,
            "draggable": false,
            "icon": null,
            "keyboard": true,
            "location": [
              47.498384,
              19.034239
            ],
            "name": "",
            "opacity": 0.26,
            "options": [
              "alt",
              "draggable",
              "keyboard",
              "rise_offset",
              "rise_on_hover",
              "rotation_angle",
              "rotation_origin",
              "title",
              "z_index_offset"
            ],
            "pane": "",
            "popup": null,
            "popup_max_height": null,
            "popup_max_width": 300,
            "popup_min_width": 50,
            "rise_offset": 250,
            "rise_on_hover": false,
            "rotation_angle": 0,
            "rotation_origin": "",
            "title": "Battery Level: 26%, range: 6.0 km",
            "visible": true,
            "z_index_offset": 0
          }
        },
        "60128deebe6a45aaa7fda70460b26bd3": {
          "model_module": "jupyter-leaflet",
          "model_name": "LeafletMarkerModel",
          "model_module_version": "^0.17.0",
          "state": {
            "_model_module": "jupyter-leaflet",
            "_model_module_version": "^0.17.0",
            "_model_name": "LeafletMarkerModel",
            "_view_count": null,
            "_view_module": "jupyter-leaflet",
            "_view_module_version": "^0.17.0",
            "_view_name": "LeafletMarkerView",
            "alt": "",
            "base": false,
            "bottom": false,
            "draggable": false,
            "icon": null,
            "keyboard": true,
            "location": [
              47.490227,
              19.024603
            ],
            "name": "",
            "opacity": 0.45,
            "options": [
              "alt",
              "draggable",
              "keyboard",
              "rise_offset",
              "rise_on_hover",
              "rotation_angle",
              "rotation_origin",
              "title",
              "z_index_offset"
            ],
            "pane": "",
            "popup": null,
            "popup_max_height": null,
            "popup_max_width": 300,
            "popup_min_width": 50,
            "rise_offset": 250,
            "rise_on_hover": false,
            "rotation_angle": 0,
            "rotation_origin": "",
            "title": "Battery Level: 45%, range: 17.0 km",
            "visible": true,
            "z_index_offset": 0
          }
        },
        "6433733b733a4e9bb326f1463f6eae3f": {
          "model_module": "jupyter-leaflet",
          "model_name": "LeafletMarkerModel",
          "model_module_version": "^0.17.0",
          "state": {
            "_model_module": "jupyter-leaflet",
            "_model_module_version": "^0.17.0",
            "_model_name": "LeafletMarkerModel",
            "_view_count": null,
            "_view_module": "jupyter-leaflet",
            "_view_module_version": "^0.17.0",
            "_view_name": "LeafletMarkerView",
            "alt": "",
            "base": false,
            "bottom": false,
            "draggable": false,
            "icon": null,
            "keyboard": true,
            "location": [
              47.508378,
              19.008203
            ],
            "name": "",
            "opacity": 0.91,
            "options": [
              "alt",
              "draggable",
              "keyboard",
              "rise_offset",
              "rise_on_hover",
              "rotation_angle",
              "rotation_origin",
              "title",
              "z_index_offset"
            ],
            "pane": "",
            "popup": null,
            "popup_max_height": null,
            "popup_max_width": 300,
            "popup_min_width": 50,
            "rise_offset": 250,
            "rise_on_hover": false,
            "rotation_angle": 0,
            "rotation_origin": "",
            "title": "Battery Level: 91%, range: 41.0 km",
            "visible": true,
            "z_index_offset": 0
          }
        },
        "b35db267b8ad42fb844c6b927bb61d86": {
          "model_module": "jupyter-leaflet",
          "model_name": "LeafletMarkerModel",
          "model_module_version": "^0.17.0",
          "state": {
            "_model_module": "jupyter-leaflet",
            "_model_module_version": "^0.17.0",
            "_model_name": "LeafletMarkerModel",
            "_view_count": null,
            "_view_module": "jupyter-leaflet",
            "_view_module_version": "^0.17.0",
            "_view_name": "LeafletMarkerView",
            "alt": "",
            "base": false,
            "bottom": false,
            "draggable": false,
            "icon": null,
            "keyboard": true,
            "location": [
              47.495098,
              19.014867
            ],
            "name": "",
            "opacity": 0.69,
            "options": [
              "alt",
              "draggable",
              "keyboard",
              "rise_offset",
              "rise_on_hover",
              "rotation_angle",
              "rotation_origin",
              "title",
              "z_index_offset"
            ],
            "pane": "",
            "popup": null,
            "popup_max_height": null,
            "popup_max_width": 300,
            "popup_min_width": 50,
            "rise_offset": 250,
            "rise_on_hover": false,
            "rotation_angle": 0,
            "rotation_origin": "",
            "title": "Battery Level: 69%, range: 29.0 km",
            "visible": true,
            "z_index_offset": 0
          }
        },
        "32a804865d774fa9a2851efffdb732a6": {
          "model_module": "jupyter-leaflet",
          "model_name": "LeafletMarkerModel",
          "model_module_version": "^0.17.0",
          "state": {
            "_model_module": "jupyter-leaflet",
            "_model_module_version": "^0.17.0",
            "_model_name": "LeafletMarkerModel",
            "_view_count": null,
            "_view_module": "jupyter-leaflet",
            "_view_module_version": "^0.17.0",
            "_view_name": "LeafletMarkerView",
            "alt": "",
            "base": false,
            "bottom": false,
            "draggable": false,
            "icon": null,
            "keyboard": true,
            "location": [
              47.487722,
              19.007777
            ],
            "name": "",
            "opacity": 0.9,
            "options": [
              "alt",
              "draggable",
              "keyboard",
              "rise_offset",
              "rise_on_hover",
              "rotation_angle",
              "rotation_origin",
              "title",
              "z_index_offset"
            ],
            "pane": "",
            "popup": null,
            "popup_max_height": null,
            "popup_max_width": 300,
            "popup_min_width": 50,
            "rise_offset": 250,
            "rise_on_hover": false,
            "rotation_angle": 0,
            "rotation_origin": "",
            "title": "Battery Level: 90%, range: 41.0 km",
            "visible": true,
            "z_index_offset": 0
          }
        },
        "bb2de84e4051416eb35fc6511bcabf24": {
          "model_module": "jupyter-leaflet",
          "model_name": "LeafletMarkerModel",
          "model_module_version": "^0.17.0",
          "state": {
            "_model_module": "jupyter-leaflet",
            "_model_module_version": "^0.17.0",
            "_model_name": "LeafletMarkerModel",
            "_view_count": null,
            "_view_module": "jupyter-leaflet",
            "_view_module_version": "^0.17.0",
            "_view_name": "LeafletMarkerView",
            "alt": "",
            "base": false,
            "bottom": false,
            "draggable": false,
            "icon": null,
            "keyboard": true,
            "location": [
              47.507086,
              19.025715
            ],
            "name": "",
            "opacity": 0.29,
            "options": [
              "alt",
              "draggable",
              "keyboard",
              "rise_offset",
              "rise_on_hover",
              "rotation_angle",
              "rotation_origin",
              "title",
              "z_index_offset"
            ],
            "pane": "",
            "popup": null,
            "popup_max_height": null,
            "popup_max_width": 300,
            "popup_min_width": 50,
            "rise_offset": 250,
            "rise_on_hover": false,
            "rotation_angle": 0,
            "rotation_origin": "",
            "title": "Battery Level: 29%, range: 8.0 km",
            "visible": true,
            "z_index_offset": 0
          }
        },
        "7a9d703e9d8043849597b8b7d326044e": {
          "model_module": "jupyter-leaflet",
          "model_name": "LeafletMarkerModel",
          "model_module_version": "^0.17.0",
          "state": {
            "_model_module": "jupyter-leaflet",
            "_model_module_version": "^0.17.0",
            "_model_name": "LeafletMarkerModel",
            "_view_count": null,
            "_view_module": "jupyter-leaflet",
            "_view_module_version": "^0.17.0",
            "_view_name": "LeafletMarkerView",
            "alt": "",
            "base": false,
            "bottom": false,
            "draggable": false,
            "icon": null,
            "keyboard": true,
            "location": [
              47.509033,
              19.009354
            ],
            "name": "",
            "opacity": 0.91,
            "options": [
              "alt",
              "draggable",
              "keyboard",
              "rise_offset",
              "rise_on_hover",
              "rotation_angle",
              "rotation_origin",
              "title",
              "z_index_offset"
            ],
            "pane": "",
            "popup": null,
            "popup_max_height": null,
            "popup_max_width": 300,
            "popup_min_width": 50,
            "rise_offset": 250,
            "rise_on_hover": false,
            "rotation_angle": 0,
            "rotation_origin": "",
            "title": "Battery Level: 91%, range: 41.0 km",
            "visible": true,
            "z_index_offset": 0
          }
        },
        "356a63bdb8cc4d47aa070414b35fa1bd": {
          "model_module": "jupyter-leaflet",
          "model_name": "LeafletMarkerModel",
          "model_module_version": "^0.17.0",
          "state": {
            "_model_module": "jupyter-leaflet",
            "_model_module_version": "^0.17.0",
            "_model_name": "LeafletMarkerModel",
            "_view_count": null,
            "_view_module": "jupyter-leaflet",
            "_view_module_version": "^0.17.0",
            "_view_name": "LeafletMarkerView",
            "alt": "",
            "base": false,
            "bottom": false,
            "draggable": false,
            "icon": null,
            "keyboard": true,
            "location": [
              47.504315,
              19.020429
            ],
            "name": "",
            "opacity": 0.35,
            "options": [
              "alt",
              "draggable",
              "keyboard",
              "rise_offset",
              "rise_on_hover",
              "rotation_angle",
              "rotation_origin",
              "title",
              "z_index_offset"
            ],
            "pane": "",
            "popup": null,
            "popup_max_height": null,
            "popup_max_width": 300,
            "popup_min_width": 50,
            "rise_offset": 250,
            "rise_on_hover": false,
            "rotation_angle": 0,
            "rotation_origin": "",
            "title": "Battery Level: 35%, range: 11.0 km",
            "visible": true,
            "z_index_offset": 0
          }
        },
        "051b28d81cc941359523343d780f7f4c": {
          "model_module": "jupyter-leaflet",
          "model_name": "LeafletMarkerModel",
          "model_module_version": "^0.17.0",
          "state": {
            "_model_module": "jupyter-leaflet",
            "_model_module_version": "^0.17.0",
            "_model_name": "LeafletMarkerModel",
            "_view_count": null,
            "_view_module": "jupyter-leaflet",
            "_view_module_version": "^0.17.0",
            "_view_name": "LeafletMarkerView",
            "alt": "",
            "base": false,
            "bottom": false,
            "draggable": false,
            "icon": null,
            "keyboard": true,
            "location": [
              47.506521,
              19.012574
            ],
            "name": "",
            "opacity": 0.29,
            "options": [
              "alt",
              "draggable",
              "keyboard",
              "rise_offset",
              "rise_on_hover",
              "rotation_angle",
              "rotation_origin",
              "title",
              "z_index_offset"
            ],
            "pane": "",
            "popup": null,
            "popup_max_height": null,
            "popup_max_width": 300,
            "popup_min_width": 50,
            "rise_offset": 250,
            "rise_on_hover": false,
            "rotation_angle": 0,
            "rotation_origin": "",
            "title": "Battery Level: 29%, range: 8.0 km",
            "visible": true,
            "z_index_offset": 0
          }
        },
        "f1042fdda7794df28c446f6d86ab3aea": {
          "model_module": "jupyter-leaflet",
          "model_name": "LeafletMarkerModel",
          "model_module_version": "^0.17.0",
          "state": {
            "_model_module": "jupyter-leaflet",
            "_model_module_version": "^0.17.0",
            "_model_name": "LeafletMarkerModel",
            "_view_count": null,
            "_view_module": "jupyter-leaflet",
            "_view_module_version": "^0.17.0",
            "_view_name": "LeafletMarkerView",
            "alt": "",
            "base": false,
            "bottom": false,
            "draggable": false,
            "icon": null,
            "keyboard": true,
            "location": [
              47.495068,
              19.011587
            ],
            "name": "",
            "opacity": 0.46,
            "options": [
              "alt",
              "draggable",
              "keyboard",
              "rise_offset",
              "rise_on_hover",
              "rotation_angle",
              "rotation_origin",
              "title",
              "z_index_offset"
            ],
            "pane": "",
            "popup": null,
            "popup_max_height": null,
            "popup_max_width": 300,
            "popup_min_width": 50,
            "rise_offset": 250,
            "rise_on_hover": false,
            "rotation_angle": 0,
            "rotation_origin": "",
            "title": "Battery Level: 46%, range: 17.0 km",
            "visible": true,
            "z_index_offset": 0
          }
        },
        "c64a700449194836a3847b1704945d47": {
          "model_module": "jupyter-leaflet",
          "model_name": "LeafletMarkerModel",
          "model_module_version": "^0.17.0",
          "state": {
            "_model_module": "jupyter-leaflet",
            "_model_module_version": "^0.17.0",
            "_model_name": "LeafletMarkerModel",
            "_view_count": null,
            "_view_module": "jupyter-leaflet",
            "_view_module_version": "^0.17.0",
            "_view_name": "LeafletMarkerView",
            "alt": "",
            "base": false,
            "bottom": false,
            "draggable": false,
            "icon": null,
            "keyboard": true,
            "location": [
              47.502982,
              19.005979
            ],
            "name": "",
            "opacity": 0.31,
            "options": [
              "alt",
              "draggable",
              "keyboard",
              "rise_offset",
              "rise_on_hover",
              "rotation_angle",
              "rotation_origin",
              "title",
              "z_index_offset"
            ],
            "pane": "",
            "popup": null,
            "popup_max_height": null,
            "popup_max_width": 300,
            "popup_min_width": 50,
            "rise_offset": 250,
            "rise_on_hover": false,
            "rotation_angle": 0,
            "rotation_origin": "",
            "title": "Battery Level: 31%, range: 9.0 km",
            "visible": true,
            "z_index_offset": 0
          }
        },
        "fc18f953801b42f49ae359ab4ae43f21": {
          "model_module": "jupyter-leaflet",
          "model_name": "LeafletMarkerModel",
          "model_module_version": "^0.17.0",
          "state": {
            "_model_module": "jupyter-leaflet",
            "_model_module_version": "^0.17.0",
            "_model_name": "LeafletMarkerModel",
            "_view_count": null,
            "_view_module": "jupyter-leaflet",
            "_view_module_version": "^0.17.0",
            "_view_name": "LeafletMarkerView",
            "alt": "",
            "base": false,
            "bottom": false,
            "draggable": false,
            "icon": null,
            "keyboard": true,
            "location": [
              47.501052,
              19.016694
            ],
            "name": "",
            "opacity": 0.66,
            "options": [
              "alt",
              "draggable",
              "keyboard",
              "rise_offset",
              "rise_on_hover",
              "rotation_angle",
              "rotation_origin",
              "title",
              "z_index_offset"
            ],
            "pane": "",
            "popup": null,
            "popup_max_height": null,
            "popup_max_width": 300,
            "popup_min_width": 50,
            "rise_offset": 250,
            "rise_on_hover": false,
            "rotation_angle": 0,
            "rotation_origin": "",
            "title": "Battery Level: 66%, range: 28.0 km",
            "visible": true,
            "z_index_offset": 0
          }
        },
        "b71f2289ac2d4360bf0e650fa74891e2": {
          "model_module": "jupyter-leaflet",
          "model_name": "LeafletMarkerModel",
          "model_module_version": "^0.17.0",
          "state": {
            "_model_module": "jupyter-leaflet",
            "_model_module_version": "^0.17.0",
            "_model_name": "LeafletMarkerModel",
            "_view_count": null,
            "_view_module": "jupyter-leaflet",
            "_view_module_version": "^0.17.0",
            "_view_name": "LeafletMarkerView",
            "alt": "",
            "base": false,
            "bottom": false,
            "draggable": false,
            "icon": null,
            "keyboard": true,
            "location": [
              47.498327,
              19.034192
            ],
            "name": "",
            "opacity": 0.26,
            "options": [
              "alt",
              "draggable",
              "keyboard",
              "rise_offset",
              "rise_on_hover",
              "rotation_angle",
              "rotation_origin",
              "title",
              "z_index_offset"
            ],
            "pane": "",
            "popup": null,
            "popup_max_height": null,
            "popup_max_width": 300,
            "popup_min_width": 50,
            "rise_offset": 250,
            "rise_on_hover": false,
            "rotation_angle": 0,
            "rotation_origin": "",
            "title": "Battery Level: 26%, range: 6.0 km",
            "visible": true,
            "z_index_offset": 0
          }
        },
        "c4d0174804bb435696b3a4547719628d": {
          "model_module": "jupyter-leaflet",
          "model_name": "LeafletMarkerModel",
          "model_module_version": "^0.17.0",
          "state": {
            "_model_module": "jupyter-leaflet",
            "_model_module_version": "^0.17.0",
            "_model_name": "LeafletMarkerModel",
            "_view_count": null,
            "_view_module": "jupyter-leaflet",
            "_view_module_version": "^0.17.0",
            "_view_name": "LeafletMarkerView",
            "alt": "",
            "base": false,
            "bottom": false,
            "draggable": false,
            "icon": null,
            "keyboard": true,
            "location": [
              47.490273,
              19.024643
            ],
            "name": "",
            "opacity": 0.33,
            "options": [
              "alt",
              "draggable",
              "keyboard",
              "rise_offset",
              "rise_on_hover",
              "rotation_angle",
              "rotation_origin",
              "title",
              "z_index_offset"
            ],
            "pane": "",
            "popup": null,
            "popup_max_height": null,
            "popup_max_width": 300,
            "popup_min_width": 50,
            "rise_offset": 250,
            "rise_on_hover": false,
            "rotation_angle": 0,
            "rotation_origin": "",
            "title": "Battery Level: 33%, range: 10.0 km",
            "visible": true,
            "z_index_offset": 0
          }
        },
        "a53b67689a5f45689e5de0e681b2c99d": {
          "model_module": "jupyter-leaflet",
          "model_name": "LeafletMarkerModel",
          "model_module_version": "^0.17.0",
          "state": {
            "_model_module": "jupyter-leaflet",
            "_model_module_version": "^0.17.0",
            "_model_name": "LeafletMarkerModel",
            "_view_count": null,
            "_view_module": "jupyter-leaflet",
            "_view_module_version": "^0.17.0",
            "_view_name": "LeafletMarkerView",
            "alt": "",
            "base": false,
            "bottom": false,
            "draggable": false,
            "icon": null,
            "keyboard": true,
            "location": [
              47.506242,
              19.031712
            ],
            "name": "",
            "opacity": 0.21,
            "options": [
              "alt",
              "draggable",
              "keyboard",
              "rise_offset",
              "rise_on_hover",
              "rotation_angle",
              "rotation_origin",
              "title",
              "z_index_offset"
            ],
            "pane": "",
            "popup": null,
            "popup_max_height": null,
            "popup_max_width": 300,
            "popup_min_width": 50,
            "rise_offset": 250,
            "rise_on_hover": false,
            "rotation_angle": 0,
            "rotation_origin": "",
            "title": "Battery Level: 21%, range: 4.0 km",
            "visible": true,
            "z_index_offset": 0
          }
        },
        "1d4c16e3592845019c064a16eb9b98fd": {
          "model_module": "jupyter-leaflet",
          "model_name": "LeafletMarkerModel",
          "model_module_version": "^0.17.0",
          "state": {
            "_model_module": "jupyter-leaflet",
            "_model_module_version": "^0.17.0",
            "_model_name": "LeafletMarkerModel",
            "_view_count": null,
            "_view_module": "jupyter-leaflet",
            "_view_module_version": "^0.17.0",
            "_view_name": "LeafletMarkerView",
            "alt": "",
            "base": false,
            "bottom": false,
            "draggable": false,
            "icon": null,
            "keyboard": true,
            "location": [
              47.507086,
              19.025727
            ],
            "name": "",
            "opacity": 0.26,
            "options": [
              "alt",
              "draggable",
              "keyboard",
              "rise_offset",
              "rise_on_hover",
              "rotation_angle",
              "rotation_origin",
              "title",
              "z_index_offset"
            ],
            "pane": "",
            "popup": null,
            "popup_max_height": null,
            "popup_max_width": 300,
            "popup_min_width": 50,
            "rise_offset": 250,
            "rise_on_hover": false,
            "rotation_angle": 0,
            "rotation_origin": "",
            "title": "Battery Level: 26%, range: 6.0 km",
            "visible": true,
            "z_index_offset": 0
          }
        },
        "3f61506cac0646099d10ce2c77e5320f": {
          "model_module": "jupyter-leaflet",
          "model_name": "LeafletMarkerModel",
          "model_module_version": "^0.17.0",
          "state": {
            "_model_module": "jupyter-leaflet",
            "_model_module_version": "^0.17.0",
            "_model_name": "LeafletMarkerModel",
            "_view_count": null,
            "_view_module": "jupyter-leaflet",
            "_view_module_version": "^0.17.0",
            "_view_name": "LeafletMarkerView",
            "alt": "",
            "base": false,
            "bottom": false,
            "draggable": false,
            "icon": null,
            "keyboard": true,
            "location": [
              47.496538,
              19.033142
            ],
            "name": "",
            "opacity": 0.3,
            "options": [
              "alt",
              "draggable",
              "keyboard",
              "rise_offset",
              "rise_on_hover",
              "rotation_angle",
              "rotation_origin",
              "title",
              "z_index_offset"
            ],
            "pane": "",
            "popup": null,
            "popup_max_height": null,
            "popup_max_width": 300,
            "popup_min_width": 50,
            "rise_offset": 250,
            "rise_on_hover": false,
            "rotation_angle": 0,
            "rotation_origin": "",
            "title": "Battery Level: 30%, range: 7.0 km",
            "visible": true,
            "z_index_offset": 0
          }
        },
        "e27c48b7ae6f4d3caf7d59d0a5e8b7ab": {
          "model_module": "jupyter-leaflet",
          "model_name": "LeafletMarkerModel",
          "model_module_version": "^0.17.0",
          "state": {
            "_model_module": "jupyter-leaflet",
            "_model_module_version": "^0.17.0",
            "_model_name": "LeafletMarkerModel",
            "_view_count": null,
            "_view_module": "jupyter-leaflet",
            "_view_module_version": "^0.17.0",
            "_view_name": "LeafletMarkerView",
            "alt": "",
            "base": false,
            "bottom": false,
            "draggable": false,
            "icon": null,
            "keyboard": true,
            "location": [
              47.50776,
              19.028395
            ],
            "name": "",
            "opacity": 0.65,
            "options": [
              "alt",
              "draggable",
              "keyboard",
              "rise_offset",
              "rise_on_hover",
              "rotation_angle",
              "rotation_origin",
              "title",
              "z_index_offset"
            ],
            "pane": "",
            "popup": null,
            "popup_max_height": null,
            "popup_max_width": 300,
            "popup_min_width": 50,
            "rise_offset": 250,
            "rise_on_hover": false,
            "rotation_angle": 0,
            "rotation_origin": "",
            "title": "Battery Level: 65%, range: 19.0 km",
            "visible": true,
            "z_index_offset": 0
          }
        },
        "3d370c7255214399814c7f0a78580a12": {
          "model_module": "jupyter-leaflet",
          "model_name": "LeafletMarkerModel",
          "model_module_version": "^0.17.0",
          "state": {
            "_model_module": "jupyter-leaflet",
            "_model_module_version": "^0.17.0",
            "_model_name": "LeafletMarkerModel",
            "_view_count": null,
            "_view_module": "jupyter-leaflet",
            "_view_module_version": "^0.17.0",
            "_view_name": "LeafletMarkerView",
            "alt": "",
            "base": false,
            "bottom": false,
            "draggable": false,
            "icon": null,
            "keyboard": true,
            "location": [
              47.500115,
              19.025669
            ],
            "name": "",
            "opacity": 0.43,
            "options": [
              "alt",
              "draggable",
              "keyboard",
              "rise_offset",
              "rise_on_hover",
              "rotation_angle",
              "rotation_origin",
              "title",
              "z_index_offset"
            ],
            "pane": "",
            "popup": null,
            "popup_max_height": null,
            "popup_max_width": 300,
            "popup_min_width": 50,
            "rise_offset": 250,
            "rise_on_hover": false,
            "rotation_angle": 0,
            "rotation_origin": "",
            "title": "Battery Level: 43%, range: 12.0 km",
            "visible": true,
            "z_index_offset": 0
          }
        },
        "a64851675611427681d6e2314bedf58d": {
          "model_module": "jupyter-leaflet",
          "model_name": "LeafletMarkerModel",
          "model_module_version": "^0.17.0",
          "state": {
            "_model_module": "jupyter-leaflet",
            "_model_module_version": "^0.17.0",
            "_model_name": "LeafletMarkerModel",
            "_view_count": null,
            "_view_module": "jupyter-leaflet",
            "_view_module_version": "^0.17.0",
            "_view_name": "LeafletMarkerView",
            "alt": "",
            "base": false,
            "bottom": false,
            "draggable": false,
            "icon": null,
            "keyboard": true,
            "location": [
              47.491222,
              19.012163
            ],
            "name": "",
            "opacity": 0.51,
            "options": [
              "alt",
              "draggable",
              "keyboard",
              "rise_offset",
              "rise_on_hover",
              "rotation_angle",
              "rotation_origin",
              "title",
              "z_index_offset"
            ],
            "pane": "",
            "popup": null,
            "popup_max_height": null,
            "popup_max_width": 300,
            "popup_min_width": 50,
            "rise_offset": 250,
            "rise_on_hover": false,
            "rotation_angle": 0,
            "rotation_origin": "",
            "title": "Battery Level: 51%, range: 15.0 km",
            "visible": true,
            "z_index_offset": 0
          }
        },
        "6683b87de5754f65b7e27bbac2a94e84": {
          "model_module": "jupyter-leaflet",
          "model_name": "LeafletMarkerModel",
          "model_module_version": "^0.17.0",
          "state": {
            "_model_module": "jupyter-leaflet",
            "_model_module_version": "^0.17.0",
            "_model_name": "LeafletMarkerModel",
            "_view_count": null,
            "_view_module": "jupyter-leaflet",
            "_view_module_version": "^0.17.0",
            "_view_name": "LeafletMarkerView",
            "alt": "",
            "base": false,
            "bottom": false,
            "draggable": false,
            "icon": null,
            "keyboard": true,
            "location": [
              47.501065,
              19.025459
            ],
            "name": "",
            "opacity": 0.91,
            "options": [
              "alt",
              "draggable",
              "keyboard",
              "rise_offset",
              "rise_on_hover",
              "rotation_angle",
              "rotation_origin",
              "title",
              "z_index_offset"
            ],
            "pane": "",
            "popup": null,
            "popup_max_height": null,
            "popup_max_width": 300,
            "popup_min_width": 50,
            "rise_offset": 250,
            "rise_on_hover": false,
            "rotation_angle": 0,
            "rotation_origin": "",
            "title": "Battery Level: 91%, range: 29.0 km",
            "visible": true,
            "z_index_offset": 0
          }
        },
        "43234f285d5d4825bb240999342f2065": {
          "model_module": "jupyter-leaflet",
          "model_name": "LeafletMarkerModel",
          "model_module_version": "^0.17.0",
          "state": {
            "_model_module": "jupyter-leaflet",
            "_model_module_version": "^0.17.0",
            "_model_name": "LeafletMarkerModel",
            "_view_count": null,
            "_view_module": "jupyter-leaflet",
            "_view_module_version": "^0.17.0",
            "_view_name": "LeafletMarkerView",
            "alt": "",
            "base": false,
            "bottom": false,
            "draggable": false,
            "icon": null,
            "keyboard": true,
            "location": [
              47.507501,
              19.02401
            ],
            "name": "",
            "opacity": 0.35,
            "options": [
              "alt",
              "draggable",
              "keyboard",
              "rise_offset",
              "rise_on_hover",
              "rotation_angle",
              "rotation_origin",
              "title",
              "z_index_offset"
            ],
            "pane": "",
            "popup": null,
            "popup_max_height": null,
            "popup_max_width": 300,
            "popup_min_width": 50,
            "rise_offset": 250,
            "rise_on_hover": false,
            "rotation_angle": 0,
            "rotation_origin": "",
            "title": "Battery Level: 35%, range: 9.0 km",
            "visible": true,
            "z_index_offset": 0
          }
        },
        "446e2166a7244143817fb98ccd935e36": {
          "model_module": "jupyter-leaflet",
          "model_name": "LeafletMarkerModel",
          "model_module_version": "^0.17.0",
          "state": {
            "_model_module": "jupyter-leaflet",
            "_model_module_version": "^0.17.0",
            "_model_name": "LeafletMarkerModel",
            "_view_count": null,
            "_view_module": "jupyter-leaflet",
            "_view_module_version": "^0.17.0",
            "_view_name": "LeafletMarkerView",
            "alt": "",
            "base": false,
            "bottom": false,
            "draggable": false,
            "icon": null,
            "keyboard": true,
            "location": [
              47.507064,
              19.025702
            ],
            "name": "",
            "opacity": 0.61,
            "options": [
              "alt",
              "draggable",
              "keyboard",
              "rise_offset",
              "rise_on_hover",
              "rotation_angle",
              "rotation_origin",
              "title",
              "z_index_offset"
            ],
            "pane": "",
            "popup": null,
            "popup_max_height": null,
            "popup_max_width": 300,
            "popup_min_width": 50,
            "rise_offset": 250,
            "rise_on_hover": false,
            "rotation_angle": 0,
            "rotation_origin": "",
            "title": "Battery Level: 61%, range: 18.0 km",
            "visible": true,
            "z_index_offset": 0
          }
        },
        "0ccc790b7b864321b744971d04c5b79d": {
          "model_module": "jupyter-leaflet",
          "model_name": "LeafletMarkerModel",
          "model_module_version": "^0.17.0",
          "state": {
            "_model_module": "jupyter-leaflet",
            "_model_module_version": "^0.17.0",
            "_model_name": "LeafletMarkerModel",
            "_view_count": null,
            "_view_module": "jupyter-leaflet",
            "_view_module_version": "^0.17.0",
            "_view_name": "LeafletMarkerView",
            "alt": "",
            "base": false,
            "bottom": false,
            "draggable": false,
            "icon": null,
            "keyboard": true,
            "location": [
              47.508343,
              19.023465
            ],
            "name": "",
            "opacity": 0.57,
            "options": [
              "alt",
              "draggable",
              "keyboard",
              "rise_offset",
              "rise_on_hover",
              "rotation_angle",
              "rotation_origin",
              "title",
              "z_index_offset"
            ],
            "pane": "",
            "popup": null,
            "popup_max_height": null,
            "popup_max_width": 300,
            "popup_min_width": 50,
            "rise_offset": 250,
            "rise_on_hover": false,
            "rotation_angle": 0,
            "rotation_origin": "",
            "title": "Battery Level: 57%, range: 17.0 km",
            "visible": true,
            "z_index_offset": 0
          }
        },
        "b7c8566488034caeaf9f1511338a0ba5": {
          "model_module": "jupyter-leaflet",
          "model_name": "LeafletMarkerModel",
          "model_module_version": "^0.17.0",
          "state": {
            "_model_module": "jupyter-leaflet",
            "_model_module_version": "^0.17.0",
            "_model_name": "LeafletMarkerModel",
            "_view_count": null,
            "_view_module": "jupyter-leaflet",
            "_view_module_version": "^0.17.0",
            "_view_name": "LeafletMarkerView",
            "alt": "",
            "base": false,
            "bottom": false,
            "draggable": false,
            "icon": null,
            "keyboard": true,
            "location": [
              47.491942,
              19.024081
            ],
            "name": "",
            "opacity": 0.87,
            "options": [
              "alt",
              "draggable",
              "keyboard",
              "rise_offset",
              "rise_on_hover",
              "rotation_angle",
              "rotation_origin",
              "title",
              "z_index_offset"
            ],
            "pane": "",
            "popup": null,
            "popup_max_height": null,
            "popup_max_width": 300,
            "popup_min_width": 50,
            "rise_offset": 250,
            "rise_on_hover": false,
            "rotation_angle": 0,
            "rotation_origin": "",
            "title": "Battery Level: 87%, range: 27.0 km",
            "visible": true,
            "z_index_offset": 0
          }
        },
        "11d2d5eebded442991db65ca6314d2cb": {
          "model_module": "jupyter-leaflet",
          "model_name": "LeafletMarkerModel",
          "model_module_version": "^0.17.0",
          "state": {
            "_model_module": "jupyter-leaflet",
            "_model_module_version": "^0.17.0",
            "_model_name": "LeafletMarkerModel",
            "_view_count": null,
            "_view_module": "jupyter-leaflet",
            "_view_module_version": "^0.17.0",
            "_view_name": "LeafletMarkerView",
            "alt": "",
            "base": false,
            "bottom": false,
            "draggable": false,
            "icon": null,
            "keyboard": true,
            "location": [
              47.498625,
              19.030278
            ],
            "name": "",
            "opacity": 0.89,
            "options": [
              "alt",
              "draggable",
              "keyboard",
              "rise_offset",
              "rise_on_hover",
              "rotation_angle",
              "rotation_origin",
              "title",
              "z_index_offset"
            ],
            "pane": "",
            "popup": null,
            "popup_max_height": null,
            "popup_max_width": 300,
            "popup_min_width": 50,
            "rise_offset": 250,
            "rise_on_hover": false,
            "rotation_angle": 0,
            "rotation_origin": "",
            "title": "Battery Level: 89%, range: 28.0 km",
            "visible": true,
            "z_index_offset": 0
          }
        },
        "619aa7d3456c45e6b4c684979e594b4a": {
          "model_module": "jupyter-leaflet",
          "model_name": "LeafletMarkerModel",
          "model_module_version": "^0.17.0",
          "state": {
            "_model_module": "jupyter-leaflet",
            "_model_module_version": "^0.17.0",
            "_model_name": "LeafletMarkerModel",
            "_view_count": null,
            "_view_module": "jupyter-leaflet",
            "_view_module_version": "^0.17.0",
            "_view_name": "LeafletMarkerView",
            "alt": "",
            "base": false,
            "bottom": false,
            "draggable": false,
            "icon": null,
            "keyboard": true,
            "location": [
              47.49925,
              19.026673
            ],
            "name": "",
            "opacity": 0.72,
            "options": [
              "alt",
              "draggable",
              "keyboard",
              "rise_offset",
              "rise_on_hover",
              "rotation_angle",
              "rotation_origin",
              "title",
              "z_index_offset"
            ],
            "pane": "",
            "popup": null,
            "popup_max_height": null,
            "popup_max_width": 300,
            "popup_min_width": 50,
            "rise_offset": 250,
            "rise_on_hover": false,
            "rotation_angle": 0,
            "rotation_origin": "",
            "title": "Battery Level: 72%, range: 22.0 km",
            "visible": true,
            "z_index_offset": 0
          }
        },
        "ed65434beba24977a716312cace622eb": {
          "model_module": "jupyter-leaflet",
          "model_name": "LeafletMarkerModel",
          "model_module_version": "^0.17.0",
          "state": {
            "_model_module": "jupyter-leaflet",
            "_model_module_version": "^0.17.0",
            "_model_name": "LeafletMarkerModel",
            "_view_count": null,
            "_view_module": "jupyter-leaflet",
            "_view_module_version": "^0.17.0",
            "_view_name": "LeafletMarkerView",
            "alt": "",
            "base": false,
            "bottom": false,
            "draggable": false,
            "icon": null,
            "keyboard": true,
            "location": [
              47.49308,
              19.013609
            ],
            "name": "",
            "opacity": 0.34,
            "options": [
              "alt",
              "draggable",
              "keyboard",
              "rise_offset",
              "rise_on_hover",
              "rotation_angle",
              "rotation_origin",
              "title",
              "z_index_offset"
            ],
            "pane": "",
            "popup": null,
            "popup_max_height": null,
            "popup_max_width": 300,
            "popup_min_width": 50,
            "rise_offset": 250,
            "rise_on_hover": false,
            "rotation_angle": 0,
            "rotation_origin": "",
            "title": "Battery Level: 34%, range: 9.0 km",
            "visible": true,
            "z_index_offset": 0
          }
        },
        "e6fab6fc43c1460b81d99f1eb7736956": {
          "model_module": "jupyter-leaflet",
          "model_name": "LeafletMarkerModel",
          "model_module_version": "^0.17.0",
          "state": {
            "_model_module": "jupyter-leaflet",
            "_model_module_version": "^0.17.0",
            "_model_name": "LeafletMarkerModel",
            "_view_count": null,
            "_view_module": "jupyter-leaflet",
            "_view_module_version": "^0.17.0",
            "_view_name": "LeafletMarkerView",
            "alt": "",
            "base": false,
            "bottom": false,
            "draggable": false,
            "icon": null,
            "keyboard": true,
            "location": [
              47.507084,
              19.025764
            ],
            "name": "",
            "opacity": 0.33,
            "options": [
              "alt",
              "draggable",
              "keyboard",
              "rise_offset",
              "rise_on_hover",
              "rotation_angle",
              "rotation_origin",
              "title",
              "z_index_offset"
            ],
            "pane": "",
            "popup": null,
            "popup_max_height": null,
            "popup_max_width": 300,
            "popup_min_width": 50,
            "rise_offset": 250,
            "rise_on_hover": false,
            "rotation_angle": 0,
            "rotation_origin": "",
            "title": "Battery Level: 33%, range: 8.0 km",
            "visible": true,
            "z_index_offset": 0
          }
        },
        "ff2a947b78604546ac4e7848b65886f2": {
          "model_module": "jupyter-leaflet",
          "model_name": "LeafletMarkerModel",
          "model_module_version": "^0.17.0",
          "state": {
            "_model_module": "jupyter-leaflet",
            "_model_module_version": "^0.17.0",
            "_model_name": "LeafletMarkerModel",
            "_view_count": null,
            "_view_module": "jupyter-leaflet",
            "_view_module_version": "^0.17.0",
            "_view_name": "LeafletMarkerView",
            "alt": "",
            "base": false,
            "bottom": false,
            "draggable": false,
            "icon": null,
            "keyboard": true,
            "location": [
              47.496086,
              19.020028
            ],
            "name": "",
            "opacity": 0.45,
            "options": [
              "alt",
              "draggable",
              "keyboard",
              "rise_offset",
              "rise_on_hover",
              "rotation_angle",
              "rotation_origin",
              "title",
              "z_index_offset"
            ],
            "pane": "",
            "popup": null,
            "popup_max_height": null,
            "popup_max_width": 300,
            "popup_min_width": 50,
            "rise_offset": 250,
            "rise_on_hover": false,
            "rotation_angle": 0,
            "rotation_origin": "",
            "title": "Battery Level: 45%, range: 12.0 km",
            "visible": true,
            "z_index_offset": 0
          }
        },
        "afefd15738814bc8b0777961aed13894": {
          "model_module": "jupyter-leaflet",
          "model_name": "LeafletMarkerModel",
          "model_module_version": "^0.17.0",
          "state": {
            "_model_module": "jupyter-leaflet",
            "_model_module_version": "^0.17.0",
            "_model_name": "LeafletMarkerModel",
            "_view_count": null,
            "_view_module": "jupyter-leaflet",
            "_view_module_version": "^0.17.0",
            "_view_name": "LeafletMarkerView",
            "alt": "",
            "base": false,
            "bottom": false,
            "draggable": false,
            "icon": null,
            "keyboard": true,
            "location": [
              47.499304,
              19.026699
            ],
            "name": "",
            "opacity": 0.53,
            "options": [
              "alt",
              "draggable",
              "keyboard",
              "rise_offset",
              "rise_on_hover",
              "rotation_angle",
              "rotation_origin",
              "title",
              "z_index_offset"
            ],
            "pane": "",
            "popup": null,
            "popup_max_height": null,
            "popup_max_width": 300,
            "popup_min_width": 50,
            "rise_offset": 250,
            "rise_on_hover": false,
            "rotation_angle": 0,
            "rotation_origin": "",
            "title": "Battery Level: 53%, range: 15.0 km",
            "visible": true,
            "z_index_offset": 0
          }
        },
        "44744f88e2ed46ebb80b5d57d9f6d0ce": {
          "model_module": "jupyter-leaflet",
          "model_name": "LeafletMarkerModel",
          "model_module_version": "^0.17.0",
          "state": {
            "_model_module": "jupyter-leaflet",
            "_model_module_version": "^0.17.0",
            "_model_name": "LeafletMarkerModel",
            "_view_count": null,
            "_view_module": "jupyter-leaflet",
            "_view_module_version": "^0.17.0",
            "_view_name": "LeafletMarkerView",
            "alt": "",
            "base": false,
            "bottom": false,
            "draggable": false,
            "icon": null,
            "keyboard": true,
            "location": [
              47.490198,
              19.024178
            ],
            "name": "",
            "opacity": 0.6,
            "options": [
              "alt",
              "draggable",
              "keyboard",
              "rise_offset",
              "rise_on_hover",
              "rotation_angle",
              "rotation_origin",
              "title",
              "z_index_offset"
            ],
            "pane": "",
            "popup": null,
            "popup_max_height": null,
            "popup_max_width": 300,
            "popup_min_width": 50,
            "rise_offset": 250,
            "rise_on_hover": false,
            "rotation_angle": 0,
            "rotation_origin": "",
            "title": "Battery Level: 60%, range: 18.0 km",
            "visible": true,
            "z_index_offset": 0
          }
        },
        "d6be6bb7320e46ad82a4394459ba72e7": {
          "model_module": "jupyter-leaflet",
          "model_name": "LeafletMarkerModel",
          "model_module_version": "^0.17.0",
          "state": {
            "_model_module": "jupyter-leaflet",
            "_model_module_version": "^0.17.0",
            "_model_name": "LeafletMarkerModel",
            "_view_count": null,
            "_view_module": "jupyter-leaflet",
            "_view_module_version": "^0.17.0",
            "_view_name": "LeafletMarkerView",
            "alt": "",
            "base": false,
            "bottom": false,
            "draggable": false,
            "icon": null,
            "keyboard": true,
            "location": [
              47.504189,
              19.02518
            ],
            "name": "",
            "opacity": 0.86,
            "options": [
              "alt",
              "draggable",
              "keyboard",
              "rise_offset",
              "rise_on_hover",
              "rotation_angle",
              "rotation_origin",
              "title",
              "z_index_offset"
            ],
            "pane": "",
            "popup": null,
            "popup_max_height": null,
            "popup_max_width": 300,
            "popup_min_width": 50,
            "rise_offset": 250,
            "rise_on_hover": false,
            "rotation_angle": 0,
            "rotation_origin": "",
            "title": "Battery Level: 86%, range: 27.0 km",
            "visible": true,
            "z_index_offset": 0
          }
        },
        "e4f63816178b4622a11351aba173f033": {
          "model_module": "jupyter-leaflet",
          "model_name": "LeafletMarkerModel",
          "model_module_version": "^0.17.0",
          "state": {
            "_model_module": "jupyter-leaflet",
            "_model_module_version": "^0.17.0",
            "_model_name": "LeafletMarkerModel",
            "_view_count": null,
            "_view_module": "jupyter-leaflet",
            "_view_module_version": "^0.17.0",
            "_view_name": "LeafletMarkerView",
            "alt": "",
            "base": false,
            "bottom": false,
            "draggable": false,
            "icon": null,
            "keyboard": true,
            "location": [
              47.507191,
              19.015445
            ],
            "name": "",
            "opacity": 0.94,
            "options": [
              "alt",
              "draggable",
              "keyboard",
              "rise_offset",
              "rise_on_hover",
              "rotation_angle",
              "rotation_origin",
              "title",
              "z_index_offset"
            ],
            "pane": "",
            "popup": null,
            "popup_max_height": null,
            "popup_max_width": 300,
            "popup_min_width": 50,
            "rise_offset": 250,
            "rise_on_hover": false,
            "rotation_angle": 0,
            "rotation_origin": "",
            "title": "Battery Level: 94%, range: 30.0 km",
            "visible": true,
            "z_index_offset": 0
          }
        },
        "8c4ac9a50a094b9f902bef5983b06ffc": {
          "model_module": "jupyter-leaflet",
          "model_name": "LeafletMarkerModel",
          "model_module_version": "^0.17.0",
          "state": {
            "_model_module": "jupyter-leaflet",
            "_model_module_version": "^0.17.0",
            "_model_name": "LeafletMarkerModel",
            "_view_count": null,
            "_view_module": "jupyter-leaflet",
            "_view_module_version": "^0.17.0",
            "_view_name": "LeafletMarkerView",
            "alt": "",
            "base": false,
            "bottom": false,
            "draggable": false,
            "icon": null,
            "keyboard": true,
            "location": [
              47.510945,
              19.023502
            ],
            "name": "",
            "opacity": 0.93,
            "options": [
              "alt",
              "draggable",
              "keyboard",
              "rise_offset",
              "rise_on_hover",
              "rotation_angle",
              "rotation_origin",
              "title",
              "z_index_offset"
            ],
            "pane": "",
            "popup": null,
            "popup_max_height": null,
            "popup_max_width": 300,
            "popup_min_width": 50,
            "rise_offset": 250,
            "rise_on_hover": false,
            "rotation_angle": 0,
            "rotation_origin": "",
            "title": "Battery Level: 93%, range: 29.0 km",
            "visible": true,
            "z_index_offset": 0
          }
        },
        "044de6a916ff4827a49b539c174d1f5f": {
          "model_module": "jupyter-leaflet",
          "model_name": "LeafletMarkerModel",
          "model_module_version": "^0.17.0",
          "state": {
            "_model_module": "jupyter-leaflet",
            "_model_module_version": "^0.17.0",
            "_model_name": "LeafletMarkerModel",
            "_view_count": null,
            "_view_module": "jupyter-leaflet",
            "_view_module_version": "^0.17.0",
            "_view_name": "LeafletMarkerView",
            "alt": "",
            "base": false,
            "bottom": false,
            "draggable": false,
            "icon": null,
            "keyboard": true,
            "location": [
              47.499358,
              19.026723
            ],
            "name": "",
            "opacity": 0.43,
            "options": [
              "alt",
              "draggable",
              "keyboard",
              "rise_offset",
              "rise_on_hover",
              "rotation_angle",
              "rotation_origin",
              "title",
              "z_index_offset"
            ],
            "pane": "",
            "popup": null,
            "popup_max_height": null,
            "popup_max_width": 300,
            "popup_min_width": 50,
            "rise_offset": 250,
            "rise_on_hover": false,
            "rotation_angle": 0,
            "rotation_origin": "",
            "title": "Battery Level: 43%, range: 12.0 km",
            "visible": true,
            "z_index_offset": 0
          }
        },
        "81c6f2d1a72749458b422fd7adbfb3f1": {
          "model_module": "jupyter-leaflet",
          "model_name": "LeafletMarkerModel",
          "model_module_version": "^0.17.0",
          "state": {
            "_model_module": "jupyter-leaflet",
            "_model_module_version": "^0.17.0",
            "_model_name": "LeafletMarkerModel",
            "_view_count": null,
            "_view_module": "jupyter-leaflet",
            "_view_module_version": "^0.17.0",
            "_view_name": "LeafletMarkerView",
            "alt": "",
            "base": false,
            "bottom": false,
            "draggable": false,
            "icon": null,
            "keyboard": true,
            "location": [
              47.497671,
              19.011971
            ],
            "name": "",
            "opacity": 0.45,
            "options": [
              "alt",
              "draggable",
              "keyboard",
              "rise_offset",
              "rise_on_hover",
              "rotation_angle",
              "rotation_origin",
              "title",
              "z_index_offset"
            ],
            "pane": "",
            "popup": null,
            "popup_max_height": null,
            "popup_max_width": 300,
            "popup_min_width": 50,
            "rise_offset": 250,
            "rise_on_hover": false,
            "rotation_angle": 0,
            "rotation_origin": "",
            "title": "Battery Level: 45%, range: 12.0 km",
            "visible": true,
            "z_index_offset": 0
          }
        },
        "ff5b7ddbb2374b2a99b2d162d8d41a38": {
          "model_module": "jupyter-leaflet",
          "model_name": "LeafletMarkerModel",
          "model_module_version": "^0.17.0",
          "state": {
            "_model_module": "jupyter-leaflet",
            "_model_module_version": "^0.17.0",
            "_model_name": "LeafletMarkerModel",
            "_view_count": null,
            "_view_module": "jupyter-leaflet",
            "_view_module_version": "^0.17.0",
            "_view_name": "LeafletMarkerView",
            "alt": "",
            "base": false,
            "bottom": false,
            "draggable": false,
            "icon": null,
            "keyboard": true,
            "location": [
              47.502943,
              19.0061
            ],
            "name": "",
            "opacity": 0.45,
            "options": [
              "alt",
              "draggable",
              "keyboard",
              "rise_offset",
              "rise_on_hover",
              "rotation_angle",
              "rotation_origin",
              "title",
              "z_index_offset"
            ],
            "pane": "",
            "popup": null,
            "popup_max_height": null,
            "popup_max_width": 300,
            "popup_min_width": 50,
            "rise_offset": 250,
            "rise_on_hover": false,
            "rotation_angle": 0,
            "rotation_origin": "",
            "title": "Battery Level: 45%, range: 12.0 km",
            "visible": true,
            "z_index_offset": 0
          }
        },
        "e9d6fbaafd4745beb50085de3725a3ca": {
          "model_module": "jupyter-leaflet",
          "model_name": "LeafletMarkerModel",
          "model_module_version": "^0.17.0",
          "state": {
            "_model_module": "jupyter-leaflet",
            "_model_module_version": "^0.17.0",
            "_model_name": "LeafletMarkerModel",
            "_view_count": null,
            "_view_module": "jupyter-leaflet",
            "_view_module_version": "^0.17.0",
            "_view_name": "LeafletMarkerView",
            "alt": "",
            "base": false,
            "bottom": false,
            "draggable": false,
            "icon": null,
            "keyboard": true,
            "location": [
              47.499338,
              19.026699
            ],
            "name": "",
            "opacity": 0.71,
            "options": [
              "alt",
              "draggable",
              "keyboard",
              "rise_offset",
              "rise_on_hover",
              "rotation_angle",
              "rotation_origin",
              "title",
              "z_index_offset"
            ],
            "pane": "",
            "popup": null,
            "popup_max_height": null,
            "popup_max_width": 300,
            "popup_min_width": 50,
            "rise_offset": 250,
            "rise_on_hover": false,
            "rotation_angle": 0,
            "rotation_origin": "",
            "title": "Battery Level: 71%, range: 22.0 km",
            "visible": true,
            "z_index_offset": 0
          }
        },
        "a17a594f863f4280ac9e85b2ac1ee600": {
          "model_module": "jupyter-leaflet",
          "model_name": "LeafletMarkerModel",
          "model_module_version": "^0.17.0",
          "state": {
            "_model_module": "jupyter-leaflet",
            "_model_module_version": "^0.17.0",
            "_model_name": "LeafletMarkerModel",
            "_view_count": null,
            "_view_module": "jupyter-leaflet",
            "_view_module_version": "^0.17.0",
            "_view_name": "LeafletMarkerView",
            "alt": "",
            "base": false,
            "bottom": false,
            "draggable": false,
            "icon": null,
            "keyboard": true,
            "location": [
              47.507832,
              19.028117
            ],
            "name": "",
            "opacity": 0.83,
            "options": [
              "alt",
              "draggable",
              "keyboard",
              "rise_offset",
              "rise_on_hover",
              "rotation_angle",
              "rotation_origin",
              "title",
              "z_index_offset"
            ],
            "pane": "",
            "popup": null,
            "popup_max_height": null,
            "popup_max_width": 300,
            "popup_min_width": 50,
            "rise_offset": 250,
            "rise_on_hover": false,
            "rotation_angle": 0,
            "rotation_origin": "",
            "title": "Battery Level: 83%, range: 26.0 km",
            "visible": true,
            "z_index_offset": 0
          }
        },
        "d87b2da802494e038b098374baec54a2": {
          "model_module": "jupyter-leaflet",
          "model_name": "LeafletMarkerModel",
          "model_module_version": "^0.17.0",
          "state": {
            "_model_module": "jupyter-leaflet",
            "_model_module_version": "^0.17.0",
            "_model_name": "LeafletMarkerModel",
            "_view_count": null,
            "_view_module": "jupyter-leaflet",
            "_view_module_version": "^0.17.0",
            "_view_name": "LeafletMarkerView",
            "alt": "",
            "base": false,
            "bottom": false,
            "draggable": false,
            "icon": null,
            "keyboard": true,
            "location": [
              47.489002,
              19.013311
            ],
            "name": "",
            "opacity": 0.3,
            "options": [
              "alt",
              "draggable",
              "keyboard",
              "rise_offset",
              "rise_on_hover",
              "rotation_angle",
              "rotation_origin",
              "title",
              "z_index_offset"
            ],
            "pane": "",
            "popup": null,
            "popup_max_height": null,
            "popup_max_width": 300,
            "popup_min_width": 50,
            "rise_offset": 250,
            "rise_on_hover": false,
            "rotation_angle": 0,
            "rotation_origin": "",
            "title": "Battery Level: 30%, range: 7.0 km",
            "visible": true,
            "z_index_offset": 0
          }
        },
        "e49b3a48f3504d27b7de0c1bd142b516": {
          "model_module": "jupyter-leaflet",
          "model_name": "LeafletMarkerModel",
          "model_module_version": "^0.17.0",
          "state": {
            "_model_module": "jupyter-leaflet",
            "_model_module_version": "^0.17.0",
            "_model_name": "LeafletMarkerModel",
            "_view_count": null,
            "_view_module": "jupyter-leaflet",
            "_view_module_version": "^0.17.0",
            "_view_name": "LeafletMarkerView",
            "alt": "",
            "base": false,
            "bottom": false,
            "draggable": false,
            "icon": null,
            "keyboard": true,
            "location": [
              47.492164,
              19.024371
            ],
            "name": "",
            "opacity": 0.53,
            "options": [
              "alt",
              "draggable",
              "keyboard",
              "rise_offset",
              "rise_on_hover",
              "rotation_angle",
              "rotation_origin",
              "title",
              "z_index_offset"
            ],
            "pane": "",
            "popup": null,
            "popup_max_height": null,
            "popup_max_width": 300,
            "popup_min_width": 50,
            "rise_offset": 250,
            "rise_on_hover": false,
            "rotation_angle": 0,
            "rotation_origin": "",
            "title": "Battery Level: 53%, range: 15.0 km",
            "visible": true,
            "z_index_offset": 0
          }
        },
        "3008579f9e96490f8b58f23e90010597": {
          "model_module": "jupyter-leaflet",
          "model_name": "LeafletMarkerModel",
          "model_module_version": "^0.17.0",
          "state": {
            "_model_module": "jupyter-leaflet",
            "_model_module_version": "^0.17.0",
            "_model_name": "LeafletMarkerModel",
            "_view_count": null,
            "_view_module": "jupyter-leaflet",
            "_view_module_version": "^0.17.0",
            "_view_name": "LeafletMarkerView",
            "alt": "",
            "base": false,
            "bottom": false,
            "draggable": false,
            "icon": null,
            "keyboard": true,
            "location": [
              47.495657,
              19.016558
            ],
            "name": "",
            "opacity": 0.7,
            "options": [
              "alt",
              "draggable",
              "keyboard",
              "rise_offset",
              "rise_on_hover",
              "rotation_angle",
              "rotation_origin",
              "title",
              "z_index_offset"
            ],
            "pane": "",
            "popup": null,
            "popup_max_height": null,
            "popup_max_width": 300,
            "popup_min_width": 50,
            "rise_offset": 250,
            "rise_on_hover": false,
            "rotation_angle": 0,
            "rotation_origin": "",
            "title": "Battery Level: 70%, range: 21.0 km",
            "visible": true,
            "z_index_offset": 0
          }
        },
        "1186beba04024930a583e439e9470207": {
          "model_module": "jupyter-leaflet",
          "model_name": "LeafletMarkerModel",
          "model_module_version": "^0.17.0",
          "state": {
            "_model_module": "jupyter-leaflet",
            "_model_module_version": "^0.17.0",
            "_model_name": "LeafletMarkerModel",
            "_view_count": null,
            "_view_module": "jupyter-leaflet",
            "_view_module_version": "^0.17.0",
            "_view_name": "LeafletMarkerView",
            "alt": "",
            "base": false,
            "bottom": false,
            "draggable": false,
            "icon": null,
            "keyboard": true,
            "location": [
              47.493092,
              19.011913
            ],
            "name": "",
            "opacity": 0.33,
            "options": [
              "alt",
              "draggable",
              "keyboard",
              "rise_offset",
              "rise_on_hover",
              "rotation_angle",
              "rotation_origin",
              "title",
              "z_index_offset"
            ],
            "pane": "",
            "popup": null,
            "popup_max_height": null,
            "popup_max_width": 300,
            "popup_min_width": 50,
            "rise_offset": 250,
            "rise_on_hover": false,
            "rotation_angle": 0,
            "rotation_origin": "",
            "title": "Battery Level: 33%, range: 8.0 km",
            "visible": true,
            "z_index_offset": 0
          }
        },
        "faf0974e71164ecdad9f45b64d5425b6": {
          "model_module": "jupyter-leaflet",
          "model_name": "LeafletMarkerModel",
          "model_module_version": "^0.17.0",
          "state": {
            "_model_module": "jupyter-leaflet",
            "_model_module_version": "^0.17.0",
            "_model_name": "LeafletMarkerModel",
            "_view_count": null,
            "_view_module": "jupyter-leaflet",
            "_view_module_version": "^0.17.0",
            "_view_name": "LeafletMarkerView",
            "alt": "",
            "base": false,
            "bottom": false,
            "draggable": false,
            "icon": null,
            "keyboard": true,
            "location": [
              47.499287,
              19.026712
            ],
            "name": "",
            "opacity": 0.29,
            "options": [
              "alt",
              "draggable",
              "keyboard",
              "rise_offset",
              "rise_on_hover",
              "rotation_angle",
              "rotation_origin",
              "title",
              "z_index_offset"
            ],
            "pane": "",
            "popup": null,
            "popup_max_height": null,
            "popup_max_width": 300,
            "popup_min_width": 50,
            "rise_offset": 250,
            "rise_on_hover": false,
            "rotation_angle": 0,
            "rotation_origin": "",
            "title": "Battery Level: 29%, range: 7.0 km",
            "visible": true,
            "z_index_offset": 0
          }
        },
        "4f21248ad42c4e1e8809b1d351820219": {
          "model_module": "jupyter-leaflet",
          "model_name": "LeafletMarkerModel",
          "model_module_version": "^0.17.0",
          "state": {
            "_model_module": "jupyter-leaflet",
            "_model_module_version": "^0.17.0",
            "_model_name": "LeafletMarkerModel",
            "_view_count": null,
            "_view_module": "jupyter-leaflet",
            "_view_module_version": "^0.17.0",
            "_view_name": "LeafletMarkerView",
            "alt": "",
            "base": false,
            "bottom": false,
            "draggable": false,
            "icon": null,
            "keyboard": true,
            "location": [
              47.490757,
              19.022029
            ],
            "name": "",
            "opacity": 0.55,
            "options": [
              "alt",
              "draggable",
              "keyboard",
              "rise_offset",
              "rise_on_hover",
              "rotation_angle",
              "rotation_origin",
              "title",
              "z_index_offset"
            ],
            "pane": "",
            "popup": null,
            "popup_max_height": null,
            "popup_max_width": 300,
            "popup_min_width": 50,
            "rise_offset": 250,
            "rise_on_hover": false,
            "rotation_angle": 0,
            "rotation_origin": "",
            "title": "Battery Level: 55%, range: 16.0 km",
            "visible": true,
            "z_index_offset": 0
          }
        },
        "d3302645831b46ae9c8cb5480bf4d38a": {
          "model_module": "jupyter-leaflet",
          "model_name": "LeafletMarkerModel",
          "model_module_version": "^0.17.0",
          "state": {
            "_model_module": "jupyter-leaflet",
            "_model_module_version": "^0.17.0",
            "_model_name": "LeafletMarkerModel",
            "_view_count": null,
            "_view_module": "jupyter-leaflet",
            "_view_module_version": "^0.17.0",
            "_view_name": "LeafletMarkerView",
            "alt": "",
            "base": false,
            "bottom": false,
            "draggable": false,
            "icon": null,
            "keyboard": true,
            "location": [
              47.492415,
              19.016411
            ],
            "name": "",
            "opacity": 0.62,
            "options": [
              "alt",
              "draggable",
              "keyboard",
              "rise_offset",
              "rise_on_hover",
              "rotation_angle",
              "rotation_origin",
              "title",
              "z_index_offset"
            ],
            "pane": "",
            "popup": null,
            "popup_max_height": null,
            "popup_max_width": 300,
            "popup_min_width": 50,
            "rise_offset": 250,
            "rise_on_hover": false,
            "rotation_angle": 0,
            "rotation_origin": "",
            "title": "Battery Level: 62%, range: 18.0 km",
            "visible": true,
            "z_index_offset": 0
          }
        },
        "b9687436659045f3a9e5f3b8faae2e77": {
          "model_module": "jupyter-leaflet",
          "model_name": "LeafletMarkerModel",
          "model_module_version": "^0.17.0",
          "state": {
            "_model_module": "jupyter-leaflet",
            "_model_module_version": "^0.17.0",
            "_model_name": "LeafletMarkerModel",
            "_view_count": null,
            "_view_module": "jupyter-leaflet",
            "_view_module_version": "^0.17.0",
            "_view_name": "LeafletMarkerView",
            "alt": "",
            "base": false,
            "bottom": false,
            "draggable": false,
            "icon": null,
            "keyboard": true,
            "location": [
              47.499327,
              19.026611
            ],
            "name": "",
            "opacity": 0.91,
            "options": [
              "alt",
              "draggable",
              "keyboard",
              "rise_offset",
              "rise_on_hover",
              "rotation_angle",
              "rotation_origin",
              "title",
              "z_index_offset"
            ],
            "pane": "",
            "popup": null,
            "popup_max_height": null,
            "popup_max_width": 300,
            "popup_min_width": 50,
            "rise_offset": 250,
            "rise_on_hover": false,
            "rotation_angle": 0,
            "rotation_origin": "",
            "title": "Battery Level: 91%, range: 29.0 km",
            "visible": true,
            "z_index_offset": 0
          }
        },
        "e5e09ab8adde43fd8cd4666c6b2cb397": {
          "model_module": "jupyter-leaflet",
          "model_name": "LeafletMarkerModel",
          "model_module_version": "^0.17.0",
          "state": {
            "_model_module": "jupyter-leaflet",
            "_model_module_version": "^0.17.0",
            "_model_name": "LeafletMarkerModel",
            "_view_count": null,
            "_view_module": "jupyter-leaflet",
            "_view_module_version": "^0.17.0",
            "_view_name": "LeafletMarkerView",
            "alt": "",
            "base": false,
            "bottom": false,
            "draggable": false,
            "icon": null,
            "keyboard": true,
            "location": [
              47.491593,
              19.016399
            ],
            "name": "",
            "opacity": 0.45,
            "options": [
              "alt",
              "draggable",
              "keyboard",
              "rise_offset",
              "rise_on_hover",
              "rotation_angle",
              "rotation_origin",
              "title",
              "z_index_offset"
            ],
            "pane": "",
            "popup": null,
            "popup_max_height": null,
            "popup_max_width": 300,
            "popup_min_width": 50,
            "rise_offset": 250,
            "rise_on_hover": false,
            "rotation_angle": 0,
            "rotation_origin": "",
            "title": "Battery Level: 45%, range: 12.0 km",
            "visible": true,
            "z_index_offset": 0
          }
        },
        "14558c10f2174e009e45063c02fcfa32": {
          "model_module": "jupyter-leaflet",
          "model_name": "LeafletMarkerModel",
          "model_module_version": "^0.17.0",
          "state": {
            "_model_module": "jupyter-leaflet",
            "_model_module_version": "^0.17.0",
            "_model_name": "LeafletMarkerModel",
            "_view_count": null,
            "_view_module": "jupyter-leaflet",
            "_view_module_version": "^0.17.0",
            "_view_name": "LeafletMarkerView",
            "alt": "",
            "base": false,
            "bottom": false,
            "draggable": false,
            "icon": null,
            "keyboard": true,
            "location": [
              47.492108,
              19.024349
            ],
            "name": "",
            "opacity": 0.86,
            "options": [
              "alt",
              "draggable",
              "keyboard",
              "rise_offset",
              "rise_on_hover",
              "rotation_angle",
              "rotation_origin",
              "title",
              "z_index_offset"
            ],
            "pane": "",
            "popup": null,
            "popup_max_height": null,
            "popup_max_width": 300,
            "popup_min_width": 50,
            "rise_offset": 250,
            "rise_on_hover": false,
            "rotation_angle": 0,
            "rotation_origin": "",
            "title": "Battery Level: 86%, range: 27.0 km",
            "visible": true,
            "z_index_offset": 0
          }
        },
        "ffa27280e7a441da9fa93eab9500ebfb": {
          "model_module": "jupyter-leaflet",
          "model_name": "LeafletMarkerModel",
          "model_module_version": "^0.17.0",
          "state": {
            "_model_module": "jupyter-leaflet",
            "_model_module_version": "^0.17.0",
            "_model_name": "LeafletMarkerModel",
            "_view_count": null,
            "_view_module": "jupyter-leaflet",
            "_view_module_version": "^0.17.0",
            "_view_name": "LeafletMarkerView",
            "alt": "",
            "base": false,
            "bottom": false,
            "draggable": false,
            "icon": null,
            "keyboard": true,
            "location": [
              47.507033,
              19.025651
            ],
            "name": "",
            "opacity": 0.35,
            "options": [
              "alt",
              "draggable",
              "keyboard",
              "rise_offset",
              "rise_on_hover",
              "rotation_angle",
              "rotation_origin",
              "title",
              "z_index_offset"
            ],
            "pane": "",
            "popup": null,
            "popup_max_height": null,
            "popup_max_width": 300,
            "popup_min_width": 50,
            "rise_offset": 250,
            "rise_on_hover": false,
            "rotation_angle": 0,
            "rotation_origin": "",
            "title": "Battery Level: 35%, range: 9.0 km",
            "visible": true,
            "z_index_offset": 0
          }
        },
        "ca2cbc7da5844938836da306104334dc": {
          "model_module": "jupyter-leaflet",
          "model_name": "LeafletMarkerModel",
          "model_module_version": "^0.17.0",
          "state": {
            "_model_module": "jupyter-leaflet",
            "_model_module_version": "^0.17.0",
            "_model_name": "LeafletMarkerModel",
            "_view_count": null,
            "_view_module": "jupyter-leaflet",
            "_view_module_version": "^0.17.0",
            "_view_name": "LeafletMarkerView",
            "alt": "",
            "base": false,
            "bottom": false,
            "draggable": false,
            "icon": null,
            "keyboard": true,
            "location": [
              47.491592,
              19.016401
            ],
            "name": "",
            "opacity": 0.47,
            "options": [
              "alt",
              "draggable",
              "keyboard",
              "rise_offset",
              "rise_on_hover",
              "rotation_angle",
              "rotation_origin",
              "title",
              "z_index_offset"
            ],
            "pane": "",
            "popup": null,
            "popup_max_height": null,
            "popup_max_width": 300,
            "popup_min_width": 50,
            "rise_offset": 250,
            "rise_on_hover": false,
            "rotation_angle": 0,
            "rotation_origin": "",
            "title": "Battery Level: 47%, range: 13.0 km",
            "visible": true,
            "z_index_offset": 0
          }
        },
        "bc09d086165a4b1aba2ac56269803b93": {
          "model_module": "jupyter-leaflet",
          "model_name": "LeafletMarkerModel",
          "model_module_version": "^0.17.0",
          "state": {
            "_model_module": "jupyter-leaflet",
            "_model_module_version": "^0.17.0",
            "_model_name": "LeafletMarkerModel",
            "_view_count": null,
            "_view_module": "jupyter-leaflet",
            "_view_module_version": "^0.17.0",
            "_view_name": "LeafletMarkerView",
            "alt": "",
            "base": false,
            "bottom": false,
            "draggable": false,
            "icon": null,
            "keyboard": true,
            "location": [
              47.493736,
              19.023643
            ],
            "name": "",
            "opacity": 0.31,
            "options": [
              "alt",
              "draggable",
              "keyboard",
              "rise_offset",
              "rise_on_hover",
              "rotation_angle",
              "rotation_origin",
              "title",
              "z_index_offset"
            ],
            "pane": "",
            "popup": null,
            "popup_max_height": null,
            "popup_max_width": 300,
            "popup_min_width": 50,
            "rise_offset": 250,
            "rise_on_hover": false,
            "rotation_angle": 0,
            "rotation_origin": "",
            "title": "Battery Level: 31%, range: 8.0 km",
            "visible": true,
            "z_index_offset": 0
          }
        },
        "74e6c8f8a15d4031aa07e9c6049eb132": {
          "model_module": "jupyter-leaflet",
          "model_name": "LeafletMarkerModel",
          "model_module_version": "^0.17.0",
          "state": {
            "_model_module": "jupyter-leaflet",
            "_model_module_version": "^0.17.0",
            "_model_name": "LeafletMarkerModel",
            "_view_count": null,
            "_view_module": "jupyter-leaflet",
            "_view_module_version": "^0.17.0",
            "_view_name": "LeafletMarkerView",
            "alt": "",
            "base": false,
            "bottom": false,
            "draggable": false,
            "icon": null,
            "keyboard": true,
            "location": [
              47.494943,
              19.017088
            ],
            "name": "",
            "opacity": 0.5,
            "options": [
              "alt",
              "draggable",
              "keyboard",
              "rise_offset",
              "rise_on_hover",
              "rotation_angle",
              "rotation_origin",
              "title",
              "z_index_offset"
            ],
            "pane": "",
            "popup": null,
            "popup_max_height": null,
            "popup_max_width": 300,
            "popup_min_width": 50,
            "rise_offset": 250,
            "rise_on_hover": false,
            "rotation_angle": 0,
            "rotation_origin": "",
            "title": "Battery Level: 50%, range: 14.0 km",
            "visible": true,
            "z_index_offset": 0
          }
        },
        "dc0c28914b254ba589cd4f70db5abb92": {
          "model_module": "jupyter-leaflet",
          "model_name": "LeafletMarkerModel",
          "model_module_version": "^0.17.0",
          "state": {
            "_model_module": "jupyter-leaflet",
            "_model_module_version": "^0.17.0",
            "_model_name": "LeafletMarkerModel",
            "_view_count": null,
            "_view_module": "jupyter-leaflet",
            "_view_module_version": "^0.17.0",
            "_view_name": "LeafletMarkerView",
            "alt": "",
            "base": false,
            "bottom": false,
            "draggable": false,
            "icon": null,
            "keyboard": true,
            "location": [
              47.490593,
              19.017191
            ],
            "name": "",
            "opacity": 0.47,
            "options": [
              "alt",
              "draggable",
              "keyboard",
              "rise_offset",
              "rise_on_hover",
              "rotation_angle",
              "rotation_origin",
              "title",
              "z_index_offset"
            ],
            "pane": "",
            "popup": null,
            "popup_max_height": null,
            "popup_max_width": 300,
            "popup_min_width": 50,
            "rise_offset": 250,
            "rise_on_hover": false,
            "rotation_angle": 0,
            "rotation_origin": "",
            "title": "Battery Level: 47%, range: 13.0 km",
            "visible": true,
            "z_index_offset": 0
          }
        },
        "f4b495d8cf4e4804ba373dfd62640882": {
          "model_module": "jupyter-leaflet",
          "model_name": "LeafletGeoJSONModel",
          "model_module_version": "^0.17.0",
          "state": {
            "_model_module": "jupyter-leaflet",
            "_model_module_version": "^0.17.0",
            "_model_name": "LeafletGeoJSONModel",
            "_view_count": null,
            "_view_module": "jupyter-leaflet",
            "_view_module_version": "^0.17.0",
            "_view_name": "LeafletGeoJSONView",
            "base": false,
            "bottom": false,
            "data": {
              "type": "FeatureCollection",
              "bbox": [
                18.934715,
                47.424558,
                19.120136,
                47.558422
              ],
              "features": [
                {
                  "type": "Feature",
                  "properties": {
                    "group_index": 0,
                    "value": 8000,
                    "center": [
                      19.023727315496906,
                      47.49374296185889
                    ],
                    "style": {
                      "color": "black",
                      "fillColor": "yellow"
                    }
                  },
                  "geometry": {
                    "coordinates": [
                      [
                        [
                          18.934715,
                          47.504964
                        ],
                        [
                          18.934842,
                          47.501398
                        ],
                        [
                          18.934922,
                          47.499678
                        ],
                        [
                          18.935048,
                          47.497764
                        ],
                        [
                          18.935859,
                          47.494768
                        ],
                        [
                          18.936485,
                          47.485691
                        ],
                        [
                          18.940309,
                          47.475096
                        ],
                        [
                          18.943008,
                          47.468252
                        ],
                        [
                          18.946826,
                          47.459767
                        ],
                        [
                          18.950135,
                          47.455756
                        ],
                        [
                          18.957361,
                          47.451756
                        ],
                        [
                          18.95903,
                          47.450936
                        ],
                        [
                          18.968604,
                          47.44505
                        ],
                        [
                          18.972338,
                          47.442542
                        ],
                        [
                          18.978336,
                          47.437235
                        ],
                        [
                          18.980615,
                          47.436521
                        ],
                        [
                          18.990903,
                          47.433611
                        ],
                        [
                          18.99191,
                          47.432224
                        ],
                        [
                          19.001643,
                          47.42754
                        ],
                        [
                          19.002324,
                          47.427332
                        ],
                        [
                          19.011779,
                          47.425896
                        ],
                        [
                          19.013326,
                          47.426493
                        ],
                        [
                          19.014789,
                          47.427142
                        ],
                        [
                          19.020082,
                          47.428683
                        ],
                        [
                          19.028243,
                          47.428705
                        ],
                        [
                          19.033043,
                          47.426661
                        ],
                        [
                          19.034319,
                          47.425939
                        ],
                        [
                          19.035206,
                          47.425375
                        ],
                        [
                          19.036557,
                          47.424972
                        ],
                        [
                          19.038525,
                          47.424558
                        ],
                        [
                          19.038589,
                          47.424569
                        ],
                        [
                          19.039934,
                          47.425079
                        ],
                        [
                          19.042223,
                          47.426012
                        ],
                        [
                          19.04392,
                          47.426832
                        ],
                        [
                          19.044746,
                          47.427606
                        ],
                        [
                          19.044811,
                          47.427758
                        ],
                        [
                          19.044858,
                          47.436407
                        ],
                        [
                          19.048367,
                          47.439812
                        ],
                        [
                          19.050202,
                          47.449955
                        ],
                        [
                          19.053382,
                          47.456663
                        ],
                        [
                          19.057995,
                          47.459705
                        ],
                        [
                          19.062525,
                          47.464701
                        ],
                        [
                          19.069601,
                          47.456353
                        ],
                        [
                          19.069183,
                          47.452893
                        ],
                        [
                          19.069311,
                          47.450365
                        ],
                        [
                          19.06994,
                          47.448105
                        ],
                        [
                          19.073535,
                          47.448294
                        ],
                        [
                          19.084004,
                          47.450044
                        ],
                        [
                          19.088165,
                          47.448598
                        ],
                        [
                          19.090553,
                          47.4498
                        ],
                        [
                          19.094641,
                          47.452163
                        ],
                        [
                          19.097546,
                          47.457764
                        ],
                        [
                          19.104403,
                          47.464093
                        ],
                        [
                          19.11215,
                          47.468726
                        ],
                        [
                          19.112849,
                          47.469442
                        ],
                        [
                          19.112943,
                          47.46966
                        ],
                        [
                          19.11485,
                          47.478024
                        ],
                        [
                          19.118324,
                          47.48243
                        ],
                        [
                          19.118354,
                          47.482476
                        ],
                        [
                          19.118537,
                          47.485349
                        ],
                        [
                          19.1185,
                          47.485461
                        ],
                        [
                          19.11847,
                          47.497217
                        ],
                        [
                          19.11949,
                          47.498297
                        ],
                        [
                          19.12011,
                          47.499557
                        ],
                        [
                          19.120136,
                          47.502529
                        ],
                        [
                          19.120096,
                          47.502714
                        ],
                        [
                          19.11911,
                          47.504731
                        ],
                        [
                          19.118851,
                          47.504923
                        ],
                        [
                          19.117476,
                          47.506029
                        ],
                        [
                          19.115867,
                          47.507527
                        ],
                        [
                          19.11039,
                          47.516219
                        ],
                        [
                          19.109309,
                          47.518552
                        ],
                        [
                          19.10732,
                          47.520456
                        ],
                        [
                          19.105695,
                          47.521757
                        ],
                        [
                          19.10491,
                          47.522208
                        ],
                        [
                          19.101419,
                          47.523165
                        ],
                        [
                          19.091649,
                          47.526804
                        ],
                        [
                          19.087593,
                          47.529912
                        ],
                        [
                          19.085068,
                          47.532207
                        ],
                        [
                          19.075555,
                          47.538632
                        ],
                        [
                          19.071851,
                          47.54312
                        ],
                        [
                          19.071811,
                          47.543167
                        ],
                        [
                          19.069914,
                          47.544437
                        ],
                        [
                          19.066372,
                          47.545595
                        ],
                        [
                          19.066284,
                          47.545592
                        ],
                        [
                          19.056937,
                          47.539091
                        ],
                        [
                          19.048765,
                          47.544461
                        ],
                        [
                          19.051172,
                          47.550091
                        ],
                        [
                          19.052072,
                          47.551407
                        ],
                        [
                          19.052057,
                          47.551457
                        ],
                        [
                          19.051503,
                          47.553644
                        ],
                        [
                          19.05105,
                          47.554538
                        ],
                        [
                          19.048872,
                          47.556102
                        ],
                        [
                          19.046996,
                          47.557416
                        ],
                        [
                          19.041617,
                          47.55839
                        ],
                        [
                          19.041378,
                          47.558422
                        ],
                        [
                          19.034156,
                          47.557901
                        ],
                        [
                          19.028317,
                          47.556853
                        ],
                        [
                          19.02187,
                          47.555604
                        ],
                        [
                          19.01725,
                          47.554393
                        ],
                        [
                          19.011024,
                          47.551399
                        ],
                        [
                          19.00548,
                          47.54995
                        ],
                        [
                          18.994425,
                          47.550122
                        ],
                        [
                          18.98519,
                          47.550126
                        ],
                        [
                          18.98285,
                          47.549652
                        ],
                        [
                          18.981263,
                          47.548578
                        ],
                        [
                          18.974445,
                          47.545667
                        ],
                        [
                          18.964614,
                          47.545928
                        ],
                        [
                          18.960232,
                          47.543965
                        ],
                        [
                          18.957004,
                          47.541778
                        ],
                        [
                          18.954051,
                          47.537977
                        ],
                        [
                          18.949248,
                          47.531033
                        ],
                        [
                          18.947166,
                          47.528079
                        ],
                        [
                          18.947244,
                          47.524893
                        ],
                        [
                          18.945184,
                          47.518221
                        ],
                        [
                          18.939184,
                          47.514324
                        ],
                        [
                          18.938885,
                          47.514209
                        ],
                        [
                          18.938609,
                          47.51404
                        ],
                        [
                          18.935665,
                          47.510846
                        ],
                        [
                          18.934857,
                          47.508573
                        ],
                        [
                          18.934776,
                          47.506701
                        ],
                        [
                          18.934715,
                          47.504964
                        ]
                      ]
                    ],
                    "type": "Polygon"
                  }
                }
              ],
              "metadata": {
                "attribution": "openrouteservice.org | OpenStreetMap contributors",
                "service": "isochrones",
                "timestamp": 1659292272760,
                "query": {
                  "profile": "cycling-electric",
                  "isoMaps": {
                    "isochroneMaps": [
                      {
                        "travellerId": 0,
                        "envelope": {
                          "area": 0.024821089758099303,
                          "width": 0.18542134125934595,
                          "height": 0.1338631766414764,
                          "minX": 18.934714776091752,
                          "maxX": 19.120136117351098,
                          "minY": 47.42455843403252,
                          "maxY": 47.558421610673996,
                          "null": false
                        },
                        "isochrones": [
                          {
                            "geometry": {
                              "type": "Polygon",
                              "coordinates": [
                                [
                                  [
                                    18.934714776091752,
                                    47.50496449435881
                                  ],
                                  [
                                    18.934842009747637,
                                    47.50139750773447
                                  ],
                                  [
                                    18.934922186530876,
                                    47.49967833021526
                                  ],
                                  [
                                    18.93504802644733,
                                    47.49776430262932
                                  ],
                                  [
                                    18.935858622880737,
                                    47.49476834255599
                                  ],
                                  [
                                    18.93648502882661,
                                    47.48569100669406
                                  ],
                                  [
                                    18.940308505179097,
                                    47.475096110259756
                                  ],
                                  [
                                    18.943007726006385,
                                    47.4682524811591
                                  ],
                                  [
                                    18.946826262074172,
                                    47.45976677824085
                                  ],
                                  [
                                    18.95013499918349,
                                    47.45575587683234
                                  ],
                                  [
                                    18.957361006792816,
                                    47.4517564604339
                                  ],
                                  [
                                    18.959029571504,
                                    47.45093555165158
                                  ],
                                  [
                                    18.96860351926555,
                                    47.445050307512965
                                  ],
                                  [
                                    18.97233793064811,
                                    47.44254219841778
                                  ],
                                  [
                                    18.978335960677146,
                                    47.43723478651003
                                  ],
                                  [
                                    18.98061484808272,
                                    47.436520720184234
                                  ],
                                  [
                                    18.99090306779753,
                                    47.433611475017514
                                  ],
                                  [
                                    18.991909911888932,
                                    47.43222423013378
                                  ],
                                  [
                                    19.001642938676316,
                                    47.4275401631814
                                  ],
                                  [
                                    19.002324419620333,
                                    47.42733153273075
                                  ],
                                  [
                                    19.01177898931922,
                                    47.42589608747491
                                  ],
                                  [
                                    19.013325590911947,
                                    47.42649264556814
                                  ],
                                  [
                                    19.014788888046766,
                                    47.427141981827724
                                  ],
                                  [
                                    19.020082133177876,
                                    47.42868290470927
                                  ],
                                  [
                                    19.02824299763775,
                                    47.42870525263567
                                  ],
                                  [
                                    19.033042695151725,
                                    47.42666094828162
                                  ],
                                  [
                                    19.034318877338226,
                                    47.425939157295296
                                  ],
                                  [
                                    19.035206409017093,
                                    47.4253746511077
                                  ],
                                  [
                                    19.036556549615177,
                                    47.42497183396141
                                  ],
                                  [
                                    19.038524714951585,
                                    47.42455843403252
                                  ],
                                  [
                                    19.03858942991936,
                                    47.42456909934844
                                  ],
                                  [
                                    19.039934013670557,
                                    47.4250794047653
                                  ],
                                  [
                                    19.04222319920749,
                                    47.42601240311701
                                  ],
                                  [
                                    19.043920130100098,
                                    47.4268322745642
                                  ],
                                  [
                                    19.044746269129142,
                                    47.42760559442553
                                  ],
                                  [
                                    19.044811297367573,
                                    47.42775849368303
                                  ],
                                  [
                                    19.044857914519216,
                                    47.43640677175393
                                  ],
                                  [
                                    19.048367307671175,
                                    47.43981188028631
                                  ],
                                  [
                                    19.050202199448695,
                                    47.449955287202194
                                  ],
                                  [
                                    19.053382293583056,
                                    47.45666323132805
                                  ],
                                  [
                                    19.057994761869193,
                                    47.4597045583957
                                  ],
                                  [
                                    19.062524528708856,
                                    47.46470110412019
                                  ],
                                  [
                                    19.06960141211782,
                                    47.4563532246048
                                  ],
                                  [
                                    19.06918288915373,
                                    47.45289288609982
                                  ],
                                  [
                                    19.069311446469673,
                                    47.45036535118653
                                  ],
                                  [
                                    19.069939510057058,
                                    47.44810511685764
                                  ],
                                  [
                                    19.073534538140994,
                                    47.448294254573874
                                  ],
                                  [
                                    19.084003965187655,
                                    47.450043930396674
                                  ],
                                  [
                                    19.088164937965598,
                                    47.448597554505156
                                  ],
                                  [
                                    19.090552948399488,
                                    47.4498002535452
                                  ],
                                  [
                                    19.094640746645023,
                                    47.4521628413905
                                  ],
                                  [
                                    19.097546298472196,
                                    47.45776442646266
                                  ],
                                  [
                                    19.10440336198147,
                                    47.46409303618464
                                  ],
                                  [
                                    19.11215021756878,
                                    47.468726099556584
                                  ],
                                  [
                                    19.112848809886014,
                                    47.46944175369535
                                  ],
                                  [
                                    19.112943153032603,
                                    47.46965992986963
                                  ],
                                  [
                                    19.114849694371564,
                                    47.47802358025511
                                  ],
                                  [
                                    19.118324054649463,
                                    47.4824302645806
                                  ],
                                  [
                                    19.118353861508552,
                                    47.48247644754014
                                  ],
                                  [
                                    19.118537219961052,
                                    47.48534926987911
                                  ],
                                  [
                                    19.118500296742855,
                                    47.48546088654486
                                  ],
                                  [
                                    19.11846969896929,
                                    47.49721653679184
                                  ],
                                  [
                                    19.119489886974243,
                                    47.49829730513339
                                  ],
                                  [
                                    19.1201104598833,
                                    47.499556696212395
                                  ],
                                  [
                                    19.120136117351098,
                                    47.502529115857676
                                  ],
                                  [
                                    19.12009591544462,
                                    47.50271357166387
                                  ],
                                  [
                                    19.119110005546375,
                                    47.50473132968308
                                  ],
                                  [
                                    19.11885065262627,
                                    47.50492328125796
                                  ],
                                  [
                                    19.117476460658356,
                                    47.50602947965344
                                  ],
                                  [
                                    19.115866908976276,
                                    47.507526966649316
                                  ],
                                  [
                                    19.110389514080833,
                                    47.51621879332829
                                  ],
                                  [
                                    19.109308615531035,
                                    47.51855236862939
                                  ],
                                  [
                                    19.107320411744357,
                                    47.52045614892204
                                  ],
                                  [
                                    19.105694938272023,
                                    47.52175663850743
                                  ],
                                  [
                                    19.10490995835485,
                                    47.522207991784704
                                  ],
                                  [
                                    19.101419002007734,
                                    47.52316489773519
                                  ],
                                  [
                                    19.091648884749333,
                                    47.52680383281056
                                  ],
                                  [
                                    19.08759295758752,
                                    47.529911677691665
                                  ],
                                  [
                                    19.08506808971858,
                                    47.53220737650426
                                  ],
                                  [
                                    19.075554782723135,
                                    47.538632088869804
                                  ],
                                  [
                                    19.07185098402527,
                                    47.543119884385064
                                  ],
                                  [
                                    19.071811457503504,
                                    47.5431672224724
                                  ],
                                  [
                                    19.069913881348445,
                                    47.54443666280585
                                  ],
                                  [
                                    19.066372271517857,
                                    47.545595442235275
                                  ],
                                  [
                                    19.066284164430364,
                                    47.545591741082525
                                  ],
                                  [
                                    19.05693715265253,
                                    47.53909149878925
                                  ],
                                  [
                                    19.048764680145606,
                                    47.54446064798692
                                  ],
                                  [
                                    19.05117176130798,
                                    47.55009115466258
                                  ],
                                  [
                                    19.05207228758423,
                                    47.55140722438214
                                  ],
                                  [
                                    19.052057354120233,
                                    47.551457441814996
                                  ],
                                  [
                                    19.051503145992353,
                                    47.553644326941864
                                  ],
                                  [
                                    19.051050017452486,
                                    47.55453821991174
                                  ],
                                  [
                                    19.048872388998713,
                                    47.55610178856729
                                  ],
                                  [
                                    19.046996113877164,
                                    47.5574158821327
                                  ],
                                  [
                                    19.041616864962553,
                                    47.5583900233794
                                  ],
                                  [
                                    19.041377606186437,
                                    47.558421610673996
                                  ],
                                  [
                                    19.0341562247835,
                                    47.557900936115004
                                  ],
                                  [
                                    19.02831743280696,
                                    47.556853447803576
                                  ],
                                  [
                                    19.021869505167274,
                                    47.55560443843786
                                  ],
                                  [
                                    19.017249654806832,
                                    47.5543931213584
                                  ],
                                  [
                                    19.011023920895195,
                                    47.55139945542401
                                  ],
                                  [
                                    19.00547981918875,
                                    47.54994969962805
                                  ],
                                  [
                                    18.99442461397183,
                                    47.55012233242055
                                  ],
                                  [
                                    18.985190014928715,
                                    47.5501258220855
                                  ],
                                  [
                                    18.982849923498804,
                                    47.54965176947816
                                  ],
                                  [
                                    18.98126287375065,
                                    47.54857817790481
                                  ],
                                  [
                                    18.974445416038396,
                                    47.545667013330046
                                  ],
                                  [
                                    18.964614485922358,
                                    47.54592796278995
                                  ],
                                  [
                                    18.96023243076411,
                                    47.5439645503186
                                  ],
                                  [
                                    18.957003826177726,
                                    47.541777533500394
                                  ],
                                  [
                                    18.954051299873015,
                                    47.537977237218726
                                  ],
                                  [
                                    18.949247883686425,
                                    47.53103271464773
                                  ],
                                  [
                                    18.947166454025286,
                                    47.52807936107778
                                  ],
                                  [
                                    18.947244468995898,
                                    47.52489315970015
                                  ],
                                  [
                                    18.945183659270736,
                                    47.518221372880284
                                  ],
                                  [
                                    18.93918449687394,
                                    47.5143238882659
                                  ],
                                  [
                                    18.938884930098222,
                                    47.5142085136236
                                  ],
                                  [
                                    18.938608848318317,
                                    47.51403997975625
                                  ],
                                  [
                                    18.935665494620263,
                                    47.51084620199655
                                  ],
                                  [
                                    18.934856924767505,
                                    47.508573317594845
                                  ],
                                  [
                                    18.934776037472783,
                                    47.50670050694682
                                  ],
                                  [
                                    18.934714776091752,
                                    47.50496449435881
                                  ]
                                ]
                              ]
                            },
                            "value": 8000,
                            "area": 0,
                            "reachfactor": 0,
                            "envelope": {
                              "area": 0.024821089758099303,
                              "width": 0.18542134125934595,
                              "height": 0.1338631766414764,
                              "minX": 18.934714776091752,
                              "maxX": 19.120136117351098,
                              "minY": 47.42455843403252,
                              "maxY": 47.558421610673996,
                              "null": false
                            },
                            "attributes": null
                          }
                        ],
                        "center": {
                          "x": 19.023727315496906,
                          "y": 47.49374296185889,
                          "z": "NaN"
                        },
                        "graphDate": "2022-06-21T03:32:34Z",
                        "isochronesCount": 1,
                        "empty": false
                      }
                    ],
                    "isochronesCount": 1
                  },
                  "isochroneRequest": {
                    "id": null,
                    "travellers": [
                      {
                        "id": "0",
                        "location": {
                          "x": 19.023643,
                          "y": 47.493736,
                          "z": "NaN"
                        },
                        "locationType": "start",
                        "ranges": [
                          8000
                        ],
                        "rangeType": "DISTANCE",
                        "routeSearchParameters": {
                          "profileType": 17,
                          "weightingMethod": 1,
                          "considerTurnRestrictions": false,
                          "avoidAreas": null,
                          "vehicleType": 0,
                          "bearings": null,
                          "flexibleMode": false,
                          "optimized": true,
                          "extraInfo": 0,
                          "suppressWarnings": false,
                          "avoidCountries": null,
                          "avoidBorders": "NONE",
                          "alternativeRoutesCount": -1,
                          "alternativeRoutesWeightFactor": 1.4,
                          "alternativeRoutesShareFactor": 0.6,
                          "roundTripLength": -1,
                          "roundTripPoints": 2,
                          "roundTripSeed": -1,
                          "maximumSpeed": 0,
                          "options": null,
                          "departure": null,
                          "arrival": null,
                          "avoidFeatureTypes": 0,
                          "maximumRadiuses": null,
                          "profileParameters": null,
                          "profileTypeDriving": false,
                          "profileTypeHeavyVehicle": false,
                          "timeDependent": false
                        },
                        "maximumRange": 8000
                      }
                    ],
                    "calcMethod": "fastisochrone",
                    "units": null,
                    "areaUnits": null,
                    "includeIntersections": false,
                    "attributes": null,
                    "locations": [
                      {
                        "x": 19.023643,
                        "y": 47.493736,
                        "z": "NaN"
                      }
                    ],
                    "profilesForAllTravellers": [
                      "cycling-electric"
                    ],
                    "weightingsForAllTravellers": [
                      "fastest"
                    ],
                    "valid": true
                  },
                  "locations": [
                    [
                      19.023643,
                      47.493736
                    ]
                  ],
                  "range": [
                    8000
                  ],
                  "range_type": "distance"
                },
                "engine": {
                  "version": "6.7.0",
                  "build_date": "2022-01-17T08:23:53Z",
                  "graph_date": "2022-06-21T03:32:34Z"
                }
              }
            },
            "hover_style": {
              "color": "white",
              "dashArray": "0",
              "fillOpacity": 0.5
            },
            "layers": [],
            "name": "",
            "options": [],
            "pane": "",
            "point_style": {},
            "popup": null,
            "popup_max_height": null,
            "popup_max_width": 300,
            "popup_min_width": 50,
            "style": {
              "opacity": 1,
              "dashArray": "9",
              "fillOpacity": 0.1,
              "weight": 1
            },
            "visible": true
          }
        }
      }
    }
  },
  "cells": [
    {
      "cell_type": "markdown",
      "metadata": {
        "id": "view-in-github",
        "colab_type": "text"
      },
      "source": [
        "<a href=\"https://colab.research.google.com/github/mrgarris0n/tier-test/blob/main/tier.ipynb\" target=\"_parent\"><img src=\"https://colab.research.google.com/assets/colab-badge.svg\" alt=\"Open In Colab\"/></a>"
      ]
    },
    {
      "cell_type": "markdown",
      "source": [
        "# Driving range visualization with TIER and OpenRouteService"
      ],
      "metadata": {
        "id": "De1pU1YcX-6W"
      }
    },
    {
      "cell_type": "markdown",
      "source": [
        "This notebook is created to give you quick glimpse of the TIER micromobility API and the OpenRouteservice API. Run the cells one by one."
      ],
      "metadata": {
        "id": "mx-JmWU0YZf8"
      }
    },
    {
      "cell_type": "code",
      "source": [
        "!pip install ipyleaflet"
      ],
      "metadata": {
        "id": "V7-h7jjFKVxT"
      },
      "execution_count": null,
      "outputs": []
    },
    {
      "cell_type": "code",
      "source": [
        "from ipyleaflet import *\n",
        "from ipywidgets import Layout\n",
        "import requests\n",
        "import json\n",
        "import random\n",
        "import time"
      ],
      "metadata": {
        "id": "U9mWZgf8KMKl"
      },
      "execution_count": 208,
      "outputs": []
    },
    {
      "cell_type": "code",
      "source": [
        "LAT = 47.4988072\n",
        "LNG = 19.0502223\n",
        "TIER_API_URL = \"https://platform.tier-services.io\"\n",
        "TIER_API_KEY = {\"X-Api-Key\":\"bpEUTJEBTf74oGRWxaIcW7aeZMzDDODe1yBoSxi2\"}\n"
      ],
      "metadata": {
        "id": "6CwtdaJRKI2F"
      },
      "execution_count": 194,
      "outputs": []
    },
    {
      "cell_type": "code",
      "source": [
        "def clear_map(name):\n",
        "  for l in map.layers:\n",
        "    if (type(l).__name__ == name):\n",
        "      map.remove_layer(l)"
      ],
      "metadata": {
        "id": "jtXwkCELEMj5"
      },
      "execution_count": 195,
      "outputs": []
    },
    {
      "cell_type": "code",
      "source": [
        "def get_vehicles_near_pos(lat, lng, radius):\n",
        "    url = f\"{TIER_API_URL}/v2/vehicle?lat={lat}&lng={lng}&radius={radius}\"\n",
        "    # time.sleep(1.0) # security sleep to prevent API overload\n",
        "    results = requests.get(url, headers=TIER_API_KEY).json()\n",
        "    return results"
      ],
      "metadata": {
        "id": "G4A3d8jDK_EK"
      },
      "execution_count": 211,
      "outputs": []
    },
    {
      "cell_type": "code",
      "source": [
        "def show_vehicles_on_map(map, vehicledata):\n",
        "    for vehicle in vehicledata['data']:\n",
        "        pos = (vehicle['attributes']['lat'], vehicle['attributes']['lng'])\n",
        "        range = vehicle['attributes']['currentRangeMeters']\n",
        "        battery = vehicle['attributes']['batteryLevel']\n",
        "        title = f\"Battery Level: {battery}%, range: {range/1000} km\"\n",
        "        \n",
        "        marker = Marker(location=pos, draggable=False, opacity=battery/100)\n",
        "        marker.on_click(handle_click)\n",
        "        marker.title = title\n",
        "        map.add_layer(marker)"
      ],
      "metadata": {
        "id": "W5793zolLhYG"
      },
      "execution_count": 206,
      "outputs": []
    },
    {
      "cell_type": "code",
      "source": [
        "def get_ranges(lat, lng, range):\n",
        "  loc = [lng, lat]\n",
        "  \n",
        "  body = {\"locations\":[loc],\"range\":[range],\"range_type\":\"distance\"}\n",
        "\n",
        "  headers = {\n",
        "      'Accept': 'application/json, application/geo+json, application/gpx+xml, img/png; charset=utf-8',\n",
        "      'Authorization': '5b3ce3597851110001cf6248b153590f00374f3fbf4dc671e31aadf4',\n",
        "      'Content-Type': 'application/json; charset=utf-8'\n",
        "  }\n",
        "  \n",
        "  call = requests.post('https://api.openrouteservice.org/v2/isochrones/cycling-electric', json=body, headers=headers)\n",
        "\n",
        "  d = json.loads(call.text)\n",
        "  return d"
      ],
      "metadata": {
        "id": "ADYQwCzXRe-z"
      },
      "execution_count": 198,
      "outputs": []
    },
    {
      "cell_type": "code",
      "source": [
        "def random_color(feature):\n",
        "    return {\n",
        "        'color': 'black',\n",
        "        'fillColor': random.choice(['red', 'yellow', 'green', 'orange']),\n",
        "    }"
      ],
      "metadata": {
        "id": "2nAm74EeTGQa"
      },
      "execution_count": 199,
      "outputs": []
    },
    {
      "cell_type": "code",
      "source": [
        "def handle_click_map(**kwargs):\n",
        "  if kwargs.get('type') == 'click':\n",
        "    lat = kwargs['coordinates'][0]\n",
        "    lng = kwargs['coordinates'][1]\n",
        "\n",
        "    clear_map('Marker')\n",
        "    clear_map('GeoJSON')\n",
        "    \n",
        "    vehicles = get_vehicles_near_pos(lat, lng, 1500)\n",
        "  \n",
        "    show_vehicles_on_map(map, vehicles)"
      ],
      "metadata": {
        "id": "k9ZJ_99NNI2J"
      },
      "execution_count": 205,
      "outputs": []
    },
    {
      "cell_type": "code",
      "source": [
        "def handle_click(**kwargs):\n",
        "    lat = kwargs['coordinates'][0]\n",
        "    lng = kwargs['coordinates'][1]\n",
        "    data = {}\n",
        "    \n",
        "    clear_map('GeoJSON')\n",
        "    \n",
        "    vehicle = get_vehicles_near_pos(lat, lng, 1)\n",
        "    if vehicle['data'] is not None:\n",
        "      range = vehicle['data'][0]['attributes']['currentRangeMeters']\n",
        "      data = get_ranges(lat, lng, range)\n",
        "\n",
        "      geo_json = GeoJSON(\n",
        "          data=data,\n",
        "          style={\n",
        "              'opacity': 1, 'dashArray': '9', 'fillOpacity': 0.1, 'weight': 1\n",
        "          },\n",
        "          hover_style={\n",
        "              'color': 'white', 'dashArray': '0', 'fillOpacity': 0.5\n",
        "          },\n",
        "          style_callback=random_color\n",
        "          )\n",
        "\n",
        "\n",
        "      map.add_layer(geo_json)\n",
        "      \n",
        "\n"
      ],
      "metadata": {
        "id": "-iu490G9LphO"
      },
      "execution_count": 212,
      "outputs": []
    },
    {
      "cell_type": "code",
      "execution_count": 203,
      "metadata": {
        "id": "J-YEkxXiJ3Q6"
      },
      "outputs": [],
      "source": [
        "def create_simple_map():\n",
        "    center = (LAT, LNG)\n",
        "   \n",
        "    new_map = Map(center=center, scroll_wheel_zoom=True, zoom=16, layout=Layout(width='95%', height='1200px'))\n",
        "    \n",
        "    control = LayersControl(position='topright')\n",
        "    new_map.add_control(control)\n",
        "    new_map.on_interaction(handle_click_map)\n",
        "\n",
        "    return new_map"
      ]
    },
    {
      "cell_type": "markdown",
      "source": [
        "If you click somewhere on the map, all the TIER vehicles within 1.5 km range will appear. The opacity of the markers is directly proportional to the battery level. You can check the battery level and the driving range of a vehicle by hovering the mouse over their markers. If you click on a vehicle, an isochrone range will be calculated. This means the hypothetic range which the vehicle can travel with the given charge. \n",
        "\n",
        "Limitations: \n",
        "*   TIER zone constraints and limits are ignored\n",
        "*   Only Budapest and Siófok is working\n",
        "*   E-Bike profile from Openroute service were used, e-scooter characteristics may differ \n",
        "\n",
        "DISCLAIMER: This is for demonstration purposes only, do not use for real route planning!\n",
        "\n"
      ],
      "metadata": {
        "id": "NSz_FcR9Y8eM"
      }
    },
    {
      "cell_type": "code",
      "source": [
        "map = create_simple_map()\n",
        "map"
      ],
      "metadata": {
        "id": "C99ybfdEKc3W",
        "colab": {
          "base_uri": "https://localhost:8080/",
          "height": 1000,
          "referenced_widgets": [
            "dfd2561aec0846e3bf3b60e34ee77f1e",
            "8c9dc819c30047d8923c73a3007996bb",
            "57c9d8788ccf46f3a4143c5dbeb09cde",
            "bb92744607c14ef395cdd114f5ae0d92",
            "04120ea75876402fabe50dd7781f5560",
            "dbe43bb28dcb4129851239eb023460e9",
            "110b73f8b7b842f7ae1382c941cad993",
            "a2852fab8e1146c0b99162605886bb6f",
            "fd8f38d8be084725ba24d8bfff52a485",
            "5fa66654afe04673a3bfda486833d915",
            "a0b0925708d24dad9004685a3fee534a",
            "ebe8c0aa7ee54dd392e91a00e21a8e3d",
            "706099c79f2f4010806a11d4fad3b535",
            "6d48ef95020e45b68df634ecfe5a1c87",
            "2e8af21b9cc440f68288668a6dc07bc4",
            "dcf9afa105ae4cc3bbadb9ca6e5a8181",
            "af30374191034dacbbf3482ffeb92a98",
            "ecbf04b406354edabc24c810bde5e1ca",
            "40d3eb491b5e4d9799fd2c4bbb804651",
            "60128deebe6a45aaa7fda70460b26bd3",
            "6433733b733a4e9bb326f1463f6eae3f",
            "b35db267b8ad42fb844c6b927bb61d86",
            "32a804865d774fa9a2851efffdb732a6",
            "bb2de84e4051416eb35fc6511bcabf24",
            "7a9d703e9d8043849597b8b7d326044e",
            "356a63bdb8cc4d47aa070414b35fa1bd",
            "051b28d81cc941359523343d780f7f4c",
            "f1042fdda7794df28c446f6d86ab3aea",
            "c64a700449194836a3847b1704945d47",
            "fc18f953801b42f49ae359ab4ae43f21",
            "b71f2289ac2d4360bf0e650fa74891e2",
            "c4d0174804bb435696b3a4547719628d",
            "a53b67689a5f45689e5de0e681b2c99d",
            "1d4c16e3592845019c064a16eb9b98fd",
            "3f61506cac0646099d10ce2c77e5320f",
            "e27c48b7ae6f4d3caf7d59d0a5e8b7ab",
            "3d370c7255214399814c7f0a78580a12",
            "a64851675611427681d6e2314bedf58d",
            "6683b87de5754f65b7e27bbac2a94e84",
            "43234f285d5d4825bb240999342f2065",
            "446e2166a7244143817fb98ccd935e36",
            "0ccc790b7b864321b744971d04c5b79d",
            "b7c8566488034caeaf9f1511338a0ba5",
            "11d2d5eebded442991db65ca6314d2cb",
            "619aa7d3456c45e6b4c684979e594b4a",
            "ed65434beba24977a716312cace622eb",
            "e6fab6fc43c1460b81d99f1eb7736956",
            "ff2a947b78604546ac4e7848b65886f2",
            "afefd15738814bc8b0777961aed13894",
            "44744f88e2ed46ebb80b5d57d9f6d0ce",
            "d6be6bb7320e46ad82a4394459ba72e7",
            "e4f63816178b4622a11351aba173f033",
            "8c4ac9a50a094b9f902bef5983b06ffc",
            "044de6a916ff4827a49b539c174d1f5f",
            "81c6f2d1a72749458b422fd7adbfb3f1",
            "ff5b7ddbb2374b2a99b2d162d8d41a38",
            "e9d6fbaafd4745beb50085de3725a3ca",
            "a17a594f863f4280ac9e85b2ac1ee600",
            "d87b2da802494e038b098374baec54a2",
            "e49b3a48f3504d27b7de0c1bd142b516",
            "3008579f9e96490f8b58f23e90010597",
            "1186beba04024930a583e439e9470207",
            "faf0974e71164ecdad9f45b64d5425b6",
            "4f21248ad42c4e1e8809b1d351820219",
            "d3302645831b46ae9c8cb5480bf4d38a",
            "b9687436659045f3a9e5f3b8faae2e77",
            "e5e09ab8adde43fd8cd4666c6b2cb397",
            "14558c10f2174e009e45063c02fcfa32",
            "ffa27280e7a441da9fa93eab9500ebfb",
            "ca2cbc7da5844938836da306104334dc",
            "bc09d086165a4b1aba2ac56269803b93",
            "74e6c8f8a15d4031aa07e9c6049eb132",
            "dc0c28914b254ba589cd4f70db5abb92",
            "f4b495d8cf4e4804ba373dfd62640882"
          ]
        },
        "outputId": "bbd2804f-aefd-4a63-80df-4a096a67e1ca"
      },
      "execution_count": 213,
      "outputs": [
        {
          "output_type": "display_data",
          "data": {
            "text/plain": [
              "Map(center=[47.4988072, 19.0502223], controls=(ZoomControl(options=['position', 'zoom_in_text', 'zoom_in_title…"
            ],
            "application/vnd.jupyter.widget-view+json": {
              "version_major": 2,
              "version_minor": 0,
              "model_id": "dfd2561aec0846e3bf3b60e34ee77f1e"
            }
          },
          "metadata": {
            "application/vnd.jupyter.widget-view+json": {
              "colab": {
                "custom_widget_manager": {
                  "url": "https://ssl.gstatic.com/colaboratory-static/widgets/colab-cdn-widget-manager/d2e234f7cc04bf79/manager.min.js"
                }
              }
            }
          }
        }
      ]
    }
  ]
}