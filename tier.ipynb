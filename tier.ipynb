{
  "nbformat": 4,
  "nbformat_minor": 0,
  "metadata": {
    "colab": {
      "name": "tier.ipynb",
      "provenance": [],
      "collapsed_sections": [],
      "authorship_tag": "ABX9TyPCqvLd2lI8cl2+0v4qbh1E",
      "include_colab_link": true
    },
    "kernelspec": {
      "name": "python3",
      "display_name": "Python 3"
    },
    "language_info": {
      "name": "python"
    },
    "widgets": {
      "application/vnd.jupyter.widget-state+json": {
        "dd862fd2ccdb4e1e93543edbb9f88571": {
          "model_module": "jupyter-leaflet",
          "model_name": "LeafletMapModel",
          "model_module_version": "^0.17.0",
          "state": {
            "_dom_classes": [],
            "_model_module": "jupyter-leaflet",
            "_model_module_version": "^0.17.0",
            "_model_name": "LeafletMapModel",
            "_view_count": null,
            "_view_module": "jupyter-leaflet",
            "_view_module_version": "^0.17.0",
            "_view_name": "LeafletMapView",
            "bottom": 92324,
            "bounce_at_zoom_limits": true,
            "box_zoom": true,
            "center": [
              47.44666502261753,
              19.48562622070313
            ],
            "close_popup_on_click": true,
            "controls": [
              "IPY_MODEL_777d12a5bce848d18e4dd057acd7c87f",
              "IPY_MODEL_f6b9247c62b143a481e3439ec41c6c93",
              "IPY_MODEL_23ceee18208f4bb29bbd71795d203ff4"
            ],
            "crs": {
              "name": "EPSG3857",
              "custom": false
            },
            "default_style": "IPY_MODEL_1554ff3ba24843958f30de3aefec3d18",
            "double_click_zoom": true,
            "dragging": true,
            "dragging_style": "IPY_MODEL_16a092d77c884e5b9d8fd4e907a487ea",
            "east": 20.451049804687504,
            "fullscreen": false,
            "inertia": true,
            "inertia_deceleration": 3000,
            "inertia_max_speed": 1500,
            "interpolation": "bilinear",
            "keyboard": true,
            "keyboard_pan_offset": 80,
            "keyboard_zoom_offset": 1,
            "layers": [
              "IPY_MODEL_bc485dddd3934f73a8e29fb93e52c720",
              "IPY_MODEL_62246bc0689448efbbae9ae5ed8d74b8",
              "IPY_MODEL_41b95b3b1493458bb34c02f108b30fb4",
              "IPY_MODEL_9b49c5b8a85c4896ae0705496e0b4713",
              "IPY_MODEL_b965cb3151a645df8afd27ef65069da7",
              "IPY_MODEL_12c7ad01159a4a4a970f29340c01ebe7",
              "IPY_MODEL_065d838243ca40e2ac37f6f01d37e3ca",
              "IPY_MODEL_0f5b850d03b54129bcf1c0313c33303e",
              "IPY_MODEL_0f5d9010aef64feba16bff983b9c7f28",
              "IPY_MODEL_4d67ae3da3894a97a8fd93b7b9526aa4",
              "IPY_MODEL_c824f1a4b12a4c92bb5adda8e596dbbf",
              "IPY_MODEL_48f65e06f7a045c3af9ca2a00103da48",
              "IPY_MODEL_3e4d4731c6754a109bd5bc31f66355c1",
              "IPY_MODEL_ed5279d3f41f4fe7af2f8c1f947c0a7c",
              "IPY_MODEL_b96573bc17414c09b3a1e2024ab016cb",
              "IPY_MODEL_bc0d608bb1be4dca93617a3dc599f12a",
              "IPY_MODEL_c7b956db5b914f23b0c9b0c34c34313a",
              "IPY_MODEL_9045c904dc9642a39f04ef1dddee068f",
              "IPY_MODEL_78bb5c2b3f094f6eb400b38c21eaf749",
              "IPY_MODEL_4c01f61678d842319e286edf6c36a04c",
              "IPY_MODEL_2967a9aa627f4e3497b2e3407473f544",
              "IPY_MODEL_4e00133e4ea34902aca908324dc6f9fd",
              "IPY_MODEL_fc2bfb21730149248852a022719e6271",
              "IPY_MODEL_44d61caf4d4a41f7a9133345a2f848c5",
              "IPY_MODEL_b8d9f2a21f09436dbba95ae30ce70a1c",
              "IPY_MODEL_2e89c732be604a398a1f0160b22121d1",
              "IPY_MODEL_f8e7ff7b66e84b45b8e3dc1599f39a06",
              "IPY_MODEL_106380d46f79413dba77fc170f69e0b5",
              "IPY_MODEL_76b97bb4ff2c4fd0ac58282ed7a76346",
              "IPY_MODEL_883d505ba40540369612126ea53ccd87",
              "IPY_MODEL_f6c20852911d4f468313db667f6d0bf6",
              "IPY_MODEL_b484ae582af64b58bd337f2d78cf7e93",
              "IPY_MODEL_befbccc147524d03b904c4f0a9a86f69",
              "IPY_MODEL_2a566390f1614aa99a0d61e00e7527fb",
              "IPY_MODEL_e846a37fde8948c5bbf63bb8f3e991b1",
              "IPY_MODEL_6c3a0aaba3ab4cd2adcd809225a23c0e",
              "IPY_MODEL_7f4528c3be2d4b94bb041d258bcec690",
              "IPY_MODEL_79ec724b4a0b4635826bb6424eeb796f",
              "IPY_MODEL_5a053713ff7241d287fdc56ddd74156f",
              "IPY_MODEL_a6e5857ea23249e8a6c7cd2ee683e889",
              "IPY_MODEL_b7bdba17911a417c83bdd18df5fca0a7",
              "IPY_MODEL_814f21e28f5e4cc78504babdd85aaed0",
              "IPY_MODEL_883d6ba8f99a42a1ba68e9e908009a75",
              "IPY_MODEL_73062874102548629c065ab1d703c2e5",
              "IPY_MODEL_9d04239ffe964eb0b59d7535b067bf4b",
              "IPY_MODEL_ab94ffb8640f4bacb1d1270e110d2840",
              "IPY_MODEL_a66f2ba64b064f11ad74c1d78e71de58",
              "IPY_MODEL_a67ae06ee24b463a9a7a5fdc95361c2c",
              "IPY_MODEL_68e93bc4b3564f34a6b35e5a927c7548",
              "IPY_MODEL_fdb97f958c0d479ca1487a6f10c70538",
              "IPY_MODEL_a8fec74587f548e2a4c3ed485338b039",
              "IPY_MODEL_d868c633ca3442a1b83dceb5cbf949eb",
              "IPY_MODEL_04c2270bc3094860bc86f8d9416ead1d",
              "IPY_MODEL_e04d3ab4192e4f2d8b4d4f0628154934",
              "IPY_MODEL_2c9883cc7c0b4df1ad466d085da764e3",
              "IPY_MODEL_14ba1ab471074be9930a9c65f681d962",
              "IPY_MODEL_157f4a09d83c42b8a49be42bd17bf2ce",
              "IPY_MODEL_1ca12f03d7ff460392ec98336f985783",
              "IPY_MODEL_b59b304dc5e84d39baa2e1b20f2d76db",
              "IPY_MODEL_20e6dac874714fe5b4619f9e000a99ad",
              "IPY_MODEL_c2d496b0d814473d9011938a2152b93f",
              "IPY_MODEL_f0db64025b064554ae73fec0bad0e1e9",
              "IPY_MODEL_54efeeacca0f4e8ba0237e838ca657b4",
              "IPY_MODEL_bf941dd4d32d493c9145cd6fcdef0aed",
              "IPY_MODEL_47ce1021d7934fa7a6f7c35624d45af1",
              "IPY_MODEL_d05da3f10fc8464cb93d3ea58375e4e6",
              "IPY_MODEL_a1e72e5929be412a934896c0599f563c",
              "IPY_MODEL_94fa36ea1b454cd59ffc87c443f79fda",
              "IPY_MODEL_77e71d2eab4644cda1f3433d14d67161",
              "IPY_MODEL_5dfe33ac074a467b84d716809b6574e3",
              "IPY_MODEL_17982ba1b826409dbbd883dbcccd1776",
              "IPY_MODEL_7f284cd9cfff4d7f9ae745900f23ca62",
              "IPY_MODEL_ede7c46acb74438799da0ee9f15aa744",
              "IPY_MODEL_1d6fc77e67e4434d8ac193e08039ade9",
              "IPY_MODEL_3c5df8c79d2b41fea91d2c2a87c5aa9c",
              "IPY_MODEL_6372d89a13d3428798cd3bf54edb8572",
              "IPY_MODEL_758a18ee428541dea190ae9609460f3d",
              "IPY_MODEL_0841e51ab5b443e58e0ed574e490838d",
              "IPY_MODEL_a796cea6bcae4baf9ed93471c7e33f42",
              "IPY_MODEL_1a4d4692dc524f949ecb100072e36651",
              "IPY_MODEL_d59d0e2641d64571877d434b55358517",
              "IPY_MODEL_4f8f1a8f1015403190df4fd8656b510e",
              "IPY_MODEL_439f6158a1f040fdb22561f919e87127",
              "IPY_MODEL_b259655d0fc84f60859978811f6e8f16",
              "IPY_MODEL_23db5d5ff31745f59a7fc6316c9d9c4d",
              "IPY_MODEL_d154c3a137f34e7b86632c4b57c3c3d4"
            ],
            "layout": "IPY_MODEL_b8c957f3982043a5b207519ccd812e26",
            "left": 144558,
            "max_zoom": null,
            "min_zoom": null,
            "modisdate": "2022-07-30",
            "north": 48.00094957553023,
            "options": [
              "bounce_at_zoom_limits",
              "box_zoom",
              "center",
              "close_popup_on_click",
              "double_click_zoom",
              "dragging",
              "fullscreen",
              "inertia",
              "inertia_deceleration",
              "inertia_max_speed",
              "interpolation",
              "keyboard",
              "keyboard_pan_offset",
              "keyboard_zoom_offset",
              "max_zoom",
              "min_zoom",
              "prefer_canvas",
              "scroll_wheel_zoom",
              "tap",
              "tap_tolerance",
              "touch_zoom",
              "world_copy_jump",
              "zoom",
              "zoom_animation_threshold",
              "zoom_delta",
              "zoom_snap"
            ],
            "panes": {},
            "prefer_canvas": false,
            "right": 145964,
            "scroll_wheel_zoom": true,
            "south": 46.88647742351024,
            "style": "IPY_MODEL_1554ff3ba24843958f30de3aefec3d18",
            "tap": true,
            "tap_tolerance": 15,
            "top": 91124,
            "touch_zoom": true,
            "west": 18.520202636718754,
            "window_url": "https://hcz2wsiq77-496ff2e9c6d22116-0-colab.googleusercontent.com/outputframe.html?vrz=colab-20220728-060048-RC00_463807217",
            "world_copy_jump": false,
            "zoom": 10,
            "zoom_animation_threshold": 4,
            "zoom_delta": 1,
            "zoom_snap": 1
          }
        },
        "777d12a5bce848d18e4dd057acd7c87f": {
          "model_module": "jupyter-leaflet",
          "model_name": "LeafletZoomControlModel",
          "model_module_version": "^0.17.0",
          "state": {
            "_model_module": "jupyter-leaflet",
            "_model_module_version": "^0.17.0",
            "_model_name": "LeafletZoomControlModel",
            "_view_count": null,
            "_view_module": "jupyter-leaflet",
            "_view_module_version": "^0.17.0",
            "_view_name": "LeafletZoomControlView",
            "options": [
              "position",
              "zoom_in_text",
              "zoom_in_title",
              "zoom_out_text",
              "zoom_out_title"
            ],
            "position": "topleft",
            "zoom_in_text": "+",
            "zoom_in_title": "Zoom in",
            "zoom_out_text": "-",
            "zoom_out_title": "Zoom out"
          }
        },
        "f6b9247c62b143a481e3439ec41c6c93": {
          "model_module": "jupyter-leaflet",
          "model_name": "LeafletAttributionControlModel",
          "model_module_version": "^0.17.0",
          "state": {
            "_model_module": "jupyter-leaflet",
            "_model_module_version": "^0.17.0",
            "_model_name": "LeafletAttributionControlModel",
            "_view_count": null,
            "_view_module": "jupyter-leaflet",
            "_view_module_version": "^0.17.0",
            "_view_name": "LeafletAttributionControlView",
            "options": [
              "position",
              "prefix"
            ],
            "position": "bottomright",
            "prefix": "ipyleaflet"
          }
        },
        "23ceee18208f4bb29bbd71795d203ff4": {
          "model_module": "jupyter-leaflet",
          "model_name": "LeafletLayersControlModel",
          "model_module_version": "^0.17.0",
          "state": {
            "_model_module": "jupyter-leaflet",
            "_model_module_version": "^0.17.0",
            "_model_name": "LeafletLayersControlModel",
            "_view_count": null,
            "_view_module": "jupyter-leaflet",
            "_view_module_version": "^0.17.0",
            "_view_name": "LeafletLayersControlView",
            "options": [
              "position"
            ],
            "position": "topright"
          }
        },
        "1554ff3ba24843958f30de3aefec3d18": {
          "model_module": "jupyter-leaflet",
          "model_name": "LeafletMapStyleModel",
          "model_module_version": "^0.17.0",
          "state": {
            "_model_module": "jupyter-leaflet",
            "_model_module_version": "^0.17.0",
            "_model_name": "LeafletMapStyleModel",
            "_view_count": null,
            "_view_module": "@jupyter-widgets/base",
            "_view_module_version": "1.2.0",
            "_view_name": "StyleView",
            "cursor": "grab"
          }
        },
        "16a092d77c884e5b9d8fd4e907a487ea": {
          "model_module": "jupyter-leaflet",
          "model_name": "LeafletMapStyleModel",
          "model_module_version": "^0.17.0",
          "state": {
            "_model_module": "jupyter-leaflet",
            "_model_module_version": "^0.17.0",
            "_model_name": "LeafletMapStyleModel",
            "_view_count": null,
            "_view_module": "@jupyter-widgets/base",
            "_view_module_version": "1.2.0",
            "_view_name": "StyleView",
            "cursor": "move"
          }
        },
        "bc485dddd3934f73a8e29fb93e52c720": {
          "model_module": "jupyter-leaflet",
          "model_name": "LeafletTileLayerModel",
          "model_module_version": "^0.17.0",
          "state": {
            "_model_module": "jupyter-leaflet",
            "_model_module_version": "^0.17.0",
            "_model_name": "LeafletTileLayerModel",
            "_view_count": null,
            "_view_module": "jupyter-leaflet",
            "_view_module_version": "^0.17.0",
            "_view_name": "LeafletTileLayerView",
            "attribution": "&copy; <a href=\"https://www.openstreetmap.org/copyright\">OpenStreetMap</a> contributors",
            "base": true,
            "bottom": true,
            "bounds": null,
            "detect_retina": false,
            "loading": false,
            "max_native_zoom": null,
            "max_zoom": 19,
            "min_native_zoom": null,
            "min_zoom": 1,
            "name": "OpenStreetMap.Mapnik",
            "no_wrap": false,
            "opacity": 1,
            "options": [
              "attribution",
              "bounds",
              "detect_retina",
              "max_native_zoom",
              "max_zoom",
              "min_native_zoom",
              "min_zoom",
              "no_wrap",
              "tile_size",
              "tms"
            ],
            "pane": "",
            "popup": null,
            "popup_max_height": null,
            "popup_max_width": 300,
            "popup_min_width": 50,
            "show_loading": false,
            "tile_size": 256,
            "tms": false,
            "url": "https://a.tile.openstreetmap.org/{z}/{x}/{y}.png",
            "visible": true
          }
        },
        "b8c957f3982043a5b207519ccd812e26": {
          "model_module": "@jupyter-widgets/base",
          "model_name": "LayoutModel",
          "model_module_version": "1.2.0",
          "state": {
            "_model_module": "@jupyter-widgets/base",
            "_model_module_version": "1.2.0",
            "_model_name": "LayoutModel",
            "_view_count": null,
            "_view_module": "@jupyter-widgets/base",
            "_view_module_version": "1.2.0",
            "_view_name": "LayoutView",
            "align_content": null,
            "align_items": null,
            "align_self": null,
            "border": null,
            "bottom": null,
            "display": null,
            "flex": null,
            "flex_flow": null,
            "grid_area": null,
            "grid_auto_columns": null,
            "grid_auto_flow": null,
            "grid_auto_rows": null,
            "grid_column": null,
            "grid_gap": null,
            "grid_row": null,
            "grid_template_areas": null,
            "grid_template_columns": null,
            "grid_template_rows": null,
            "height": "1200px",
            "justify_content": null,
            "justify_items": null,
            "left": null,
            "margin": null,
            "max_height": null,
            "max_width": null,
            "min_height": null,
            "min_width": null,
            "object_fit": null,
            "object_position": null,
            "order": null,
            "overflow": null,
            "overflow_x": null,
            "overflow_y": null,
            "padding": null,
            "right": null,
            "top": null,
            "visibility": null,
            "width": "95%"
          }
        },
        "0503bb9c75e44002a889140881a7130b": {
          "model_module": "jupyter-leaflet",
          "model_name": "LeafletMapStyleModel",
          "model_module_version": "^0.17.0",
          "state": {
            "_model_module": "jupyter-leaflet",
            "_model_module_version": "^0.17.0",
            "_model_name": "LeafletMapStyleModel",
            "_view_count": null,
            "_view_module": "@jupyter-widgets/base",
            "_view_module_version": "1.2.0",
            "_view_name": "StyleView",
            "cursor": "grab"
          }
        },
        "62246bc0689448efbbae9ae5ed8d74b8": {
          "model_module": "jupyter-leaflet",
          "model_name": "LeafletMarkerModel",
          "model_module_version": "^0.17.0",
          "state": {
            "_model_module": "jupyter-leaflet",
            "_model_module_version": "^0.17.0",
            "_model_name": "LeafletMarkerModel",
            "_view_count": null,
            "_view_module": "jupyter-leaflet",
            "_view_module_version": "^0.17.0",
            "_view_name": "LeafletMarkerView",
            "alt": "",
            "base": false,
            "bottom": false,
            "draggable": false,
            "icon": null,
            "keyboard": true,
            "location": [
              47.493234,
              19.055377
            ],
            "name": "",
            "opacity": 0.51,
            "options": [
              "alt",
              "draggable",
              "keyboard",
              "rise_offset",
              "rise_on_hover",
              "rotation_angle",
              "rotation_origin",
              "title",
              "z_index_offset"
            ],
            "pane": "",
            "popup": null,
            "popup_max_height": null,
            "popup_max_width": 300,
            "popup_min_width": 50,
            "rise_offset": 250,
            "rise_on_hover": false,
            "rotation_angle": 0,
            "rotation_origin": "",
            "title": "Battery Level: 51%, range: 20.0 km",
            "visible": true,
            "z_index_offset": 0
          }
        },
        "41b95b3b1493458bb34c02f108b30fb4": {
          "model_module": "jupyter-leaflet",
          "model_name": "LeafletMarkerModel",
          "model_module_version": "^0.17.0",
          "state": {
            "_model_module": "jupyter-leaflet",
            "_model_module_version": "^0.17.0",
            "_model_name": "LeafletMarkerModel",
            "_view_count": null,
            "_view_module": "jupyter-leaflet",
            "_view_module_version": "^0.17.0",
            "_view_name": "LeafletMarkerView",
            "alt": "",
            "base": false,
            "bottom": false,
            "draggable": false,
            "icon": null,
            "keyboard": true,
            "location": [
              47.498562,
              19.030193
            ],
            "name": "",
            "opacity": 0.57,
            "options": [
              "alt",
              "draggable",
              "keyboard",
              "rise_offset",
              "rise_on_hover",
              "rotation_angle",
              "rotation_origin",
              "title",
              "z_index_offset"
            ],
            "pane": "",
            "popup": null,
            "popup_max_height": null,
            "popup_max_width": 300,
            "popup_min_width": 50,
            "rise_offset": 250,
            "rise_on_hover": false,
            "rotation_angle": 0,
            "rotation_origin": "",
            "title": "Battery Level: 57%, range: 23.0 km",
            "visible": true,
            "z_index_offset": 0
          }
        },
        "9b49c5b8a85c4896ae0705496e0b4713": {
          "model_module": "jupyter-leaflet",
          "model_name": "LeafletMarkerModel",
          "model_module_version": "^0.17.0",
          "state": {
            "_model_module": "jupyter-leaflet",
            "_model_module_version": "^0.17.0",
            "_model_name": "LeafletMarkerModel",
            "_view_count": null,
            "_view_module": "jupyter-leaflet",
            "_view_module_version": "^0.17.0",
            "_view_name": "LeafletMarkerView",
            "alt": "",
            "base": false,
            "bottom": false,
            "draggable": false,
            "icon": null,
            "keyboard": true,
            "location": [
              47.498568,
              19.030357
            ],
            "name": "",
            "opacity": 0.72,
            "options": [
              "alt",
              "draggable",
              "keyboard",
              "rise_offset",
              "rise_on_hover",
              "rotation_angle",
              "rotation_origin",
              "title",
              "z_index_offset"
            ],
            "pane": "",
            "popup": null,
            "popup_max_height": null,
            "popup_max_width": 300,
            "popup_min_width": 50,
            "rise_offset": 250,
            "rise_on_hover": false,
            "rotation_angle": 0,
            "rotation_origin": "",
            "title": "Battery Level: 72%, range: 31.0 km",
            "visible": true,
            "z_index_offset": 0
          }
        },
        "b965cb3151a645df8afd27ef65069da7": {
          "model_module": "jupyter-leaflet",
          "model_name": "LeafletMarkerModel",
          "model_module_version": "^0.17.0",
          "state": {
            "_model_module": "jupyter-leaflet",
            "_model_module_version": "^0.17.0",
            "_model_name": "LeafletMarkerModel",
            "_view_count": null,
            "_view_module": "jupyter-leaflet",
            "_view_module_version": "^0.17.0",
            "_view_name": "LeafletMarkerView",
            "alt": "",
            "base": false,
            "bottom": false,
            "draggable": false,
            "icon": null,
            "keyboard": true,
            "location": [
              47.507169,
              19.066308
            ],
            "name": "",
            "opacity": 0.38,
            "options": [
              "alt",
              "draggable",
              "keyboard",
              "rise_offset",
              "rise_on_hover",
              "rotation_angle",
              "rotation_origin",
              "title",
              "z_index_offset"
            ],
            "pane": "",
            "popup": null,
            "popup_max_height": null,
            "popup_max_width": 300,
            "popup_min_width": 50,
            "rise_offset": 250,
            "rise_on_hover": false,
            "rotation_angle": 0,
            "rotation_origin": "",
            "title": "Battery Level: 38%, range: 13.0 km",
            "visible": true,
            "z_index_offset": 0
          }
        },
        "12c7ad01159a4a4a970f29340c01ebe7": {
          "model_module": "jupyter-leaflet",
          "model_name": "LeafletMarkerModel",
          "model_module_version": "^0.17.0",
          "state": {
            "_model_module": "jupyter-leaflet",
            "_model_module_version": "^0.17.0",
            "_model_name": "LeafletMarkerModel",
            "_view_count": null,
            "_view_module": "jupyter-leaflet",
            "_view_module_version": "^0.17.0",
            "_view_name": "LeafletMarkerView",
            "alt": "",
            "base": false,
            "bottom": false,
            "draggable": false,
            "icon": null,
            "keyboard": true,
            "location": [
              47.507247,
              19.055279
            ],
            "name": "",
            "opacity": 0.36,
            "options": [
              "alt",
              "draggable",
              "keyboard",
              "rise_offset",
              "rise_on_hover",
              "rotation_angle",
              "rotation_origin",
              "title",
              "z_index_offset"
            ],
            "pane": "",
            "popup": null,
            "popup_max_height": null,
            "popup_max_width": 300,
            "popup_min_width": 50,
            "rise_offset": 250,
            "rise_on_hover": false,
            "rotation_angle": 0,
            "rotation_origin": "",
            "title": "Battery Level: 36%, range: 12.0 km",
            "visible": true,
            "z_index_offset": 0
          }
        },
        "065d838243ca40e2ac37f6f01d37e3ca": {
          "model_module": "jupyter-leaflet",
          "model_name": "LeafletMarkerModel",
          "model_module_version": "^0.17.0",
          "state": {
            "_model_module": "jupyter-leaflet",
            "_model_module_version": "^0.17.0",
            "_model_name": "LeafletMarkerModel",
            "_view_count": null,
            "_view_module": "jupyter-leaflet",
            "_view_module_version": "^0.17.0",
            "_view_name": "LeafletMarkerView",
            "alt": "",
            "base": false,
            "bottom": false,
            "draggable": false,
            "icon": null,
            "keyboard": true,
            "location": [
              47.509633,
              19.057151
            ],
            "name": "",
            "opacity": 0.53,
            "options": [
              "alt",
              "draggable",
              "keyboard",
              "rise_offset",
              "rise_on_hover",
              "rotation_angle",
              "rotation_origin",
              "title",
              "z_index_offset"
            ],
            "pane": "",
            "popup": null,
            "popup_max_height": null,
            "popup_max_width": 300,
            "popup_min_width": 50,
            "rise_offset": 250,
            "rise_on_hover": false,
            "rotation_angle": 0,
            "rotation_origin": "",
            "title": "Battery Level: 53%, range: 21.0 km",
            "visible": true,
            "z_index_offset": 0
          }
        },
        "0f5b850d03b54129bcf1c0313c33303e": {
          "model_module": "jupyter-leaflet",
          "model_name": "LeafletMarkerModel",
          "model_module_version": "^0.17.0",
          "state": {
            "_model_module": "jupyter-leaflet",
            "_model_module_version": "^0.17.0",
            "_model_name": "LeafletMarkerModel",
            "_view_count": null,
            "_view_module": "jupyter-leaflet",
            "_view_module_version": "^0.17.0",
            "_view_name": "LeafletMarkerView",
            "alt": "",
            "base": false,
            "bottom": false,
            "draggable": false,
            "icon": null,
            "keyboard": true,
            "location": [
              47.498384,
              19.034239
            ],
            "name": "",
            "opacity": 0.25,
            "options": [
              "alt",
              "draggable",
              "keyboard",
              "rise_offset",
              "rise_on_hover",
              "rotation_angle",
              "rotation_origin",
              "title",
              "z_index_offset"
            ],
            "pane": "",
            "popup": null,
            "popup_max_height": null,
            "popup_max_width": 300,
            "popup_min_width": 50,
            "rise_offset": 250,
            "rise_on_hover": false,
            "rotation_angle": 0,
            "rotation_origin": "",
            "title": "Battery Level: 25%, range: 6.0 km",
            "visible": true,
            "z_index_offset": 0
          }
        },
        "0f5d9010aef64feba16bff983b9c7f28": {
          "model_module": "jupyter-leaflet",
          "model_name": "LeafletMarkerModel",
          "model_module_version": "^0.17.0",
          "state": {
            "_model_module": "jupyter-leaflet",
            "_model_module_version": "^0.17.0",
            "_model_name": "LeafletMarkerModel",
            "_view_count": null,
            "_view_module": "jupyter-leaflet",
            "_view_module_version": "^0.17.0",
            "_view_name": "LeafletMarkerView",
            "alt": "",
            "base": false,
            "bottom": false,
            "draggable": false,
            "icon": null,
            "keyboard": true,
            "location": [
              47.507851,
              19.059503
            ],
            "name": "",
            "opacity": 0.4,
            "options": [
              "alt",
              "draggable",
              "keyboard",
              "rise_offset",
              "rise_on_hover",
              "rotation_angle",
              "rotation_origin",
              "title",
              "z_index_offset"
            ],
            "pane": "",
            "popup": null,
            "popup_max_height": null,
            "popup_max_width": 300,
            "popup_min_width": 50,
            "rise_offset": 250,
            "rise_on_hover": false,
            "rotation_angle": 0,
            "rotation_origin": "",
            "title": "Battery Level: 40%, range: 14.0 km",
            "visible": true,
            "z_index_offset": 0
          }
        },
        "4d67ae3da3894a97a8fd93b7b9526aa4": {
          "model_module": "jupyter-leaflet",
          "model_name": "LeafletMarkerModel",
          "model_module_version": "^0.17.0",
          "state": {
            "_model_module": "jupyter-leaflet",
            "_model_module_version": "^0.17.0",
            "_model_name": "LeafletMarkerModel",
            "_view_count": null,
            "_view_module": "jupyter-leaflet",
            "_view_module_version": "^0.17.0",
            "_view_name": "LeafletMarkerView",
            "alt": "",
            "base": false,
            "bottom": false,
            "draggable": false,
            "icon": null,
            "keyboard": true,
            "location": [
              47.503152,
              19.066162
            ],
            "name": "",
            "opacity": 0.45,
            "options": [
              "alt",
              "draggable",
              "keyboard",
              "rise_offset",
              "rise_on_hover",
              "rotation_angle",
              "rotation_origin",
              "title",
              "z_index_offset"
            ],
            "pane": "",
            "popup": null,
            "popup_max_height": null,
            "popup_max_width": 300,
            "popup_min_width": 50,
            "rise_offset": 250,
            "rise_on_hover": false,
            "rotation_angle": 0,
            "rotation_origin": "",
            "title": "Battery Level: 45%, range: 17.0 km",
            "visible": true,
            "z_index_offset": 0
          }
        },
        "c824f1a4b12a4c92bb5adda8e596dbbf": {
          "model_module": "jupyter-leaflet",
          "model_name": "LeafletMarkerModel",
          "model_module_version": "^0.17.0",
          "state": {
            "_model_module": "jupyter-leaflet",
            "_model_module_version": "^0.17.0",
            "_model_name": "LeafletMarkerModel",
            "_view_count": null,
            "_view_module": "jupyter-leaflet",
            "_view_module_version": "^0.17.0",
            "_view_name": "LeafletMarkerView",
            "alt": "",
            "base": false,
            "bottom": false,
            "draggable": false,
            "icon": null,
            "keyboard": true,
            "location": [
              47.507209,
              19.055305
            ],
            "name": "",
            "opacity": 0.61,
            "options": [
              "alt",
              "draggable",
              "keyboard",
              "rise_offset",
              "rise_on_hover",
              "rotation_angle",
              "rotation_origin",
              "title",
              "z_index_offset"
            ],
            "pane": "",
            "popup": null,
            "popup_max_height": null,
            "popup_max_width": 300,
            "popup_min_width": 50,
            "rise_offset": 250,
            "rise_on_hover": false,
            "rotation_angle": 0,
            "rotation_origin": "",
            "title": "Battery Level: 61%, range: 25.0 km",
            "visible": true,
            "z_index_offset": 0
          }
        },
        "48f65e06f7a045c3af9ca2a00103da48": {
          "model_module": "jupyter-leaflet",
          "model_name": "LeafletMarkerModel",
          "model_module_version": "^0.17.0",
          "state": {
            "_model_module": "jupyter-leaflet",
            "_model_module_version": "^0.17.0",
            "_model_name": "LeafletMarkerModel",
            "_view_count": null,
            "_view_module": "jupyter-leaflet",
            "_view_module_version": "^0.17.0",
            "_view_name": "LeafletMarkerView",
            "alt": "",
            "base": false,
            "bottom": false,
            "draggable": false,
            "icon": null,
            "keyboard": true,
            "location": [
              47.498327,
              19.034192
            ],
            "name": "",
            "opacity": 0.25,
            "options": [
              "alt",
              "draggable",
              "keyboard",
              "rise_offset",
              "rise_on_hover",
              "rotation_angle",
              "rotation_origin",
              "title",
              "z_index_offset"
            ],
            "pane": "",
            "popup": null,
            "popup_max_height": null,
            "popup_max_width": 300,
            "popup_min_width": 50,
            "rise_offset": 250,
            "rise_on_hover": false,
            "rotation_angle": 0,
            "rotation_origin": "",
            "title": "Battery Level: 25%, range: 6.0 km",
            "visible": true,
            "z_index_offset": 0
          }
        },
        "3e4d4731c6754a109bd5bc31f66355c1": {
          "model_module": "jupyter-leaflet",
          "model_name": "LeafletMarkerModel",
          "model_module_version": "^0.17.0",
          "state": {
            "_model_module": "jupyter-leaflet",
            "_model_module_version": "^0.17.0",
            "_model_name": "LeafletMarkerModel",
            "_view_count": null,
            "_view_module": "jupyter-leaflet",
            "_view_module_version": "^0.17.0",
            "_view_name": "LeafletMarkerView",
            "alt": "",
            "base": false,
            "bottom": false,
            "draggable": false,
            "icon": null,
            "keyboard": true,
            "location": [
              47.494032,
              19.038658
            ],
            "name": "",
            "opacity": 0.28,
            "options": [
              "alt",
              "draggable",
              "keyboard",
              "rise_offset",
              "rise_on_hover",
              "rotation_angle",
              "rotation_origin",
              "title",
              "z_index_offset"
            ],
            "pane": "",
            "popup": null,
            "popup_max_height": null,
            "popup_max_width": 300,
            "popup_min_width": 50,
            "rise_offset": 250,
            "rise_on_hover": false,
            "rotation_angle": 0,
            "rotation_origin": "",
            "title": "Battery Level: 28%, range: 8.0 km",
            "visible": true,
            "z_index_offset": 0
          }
        },
        "ed5279d3f41f4fe7af2f8c1f947c0a7c": {
          "model_module": "jupyter-leaflet",
          "model_name": "LeafletMarkerModel",
          "model_module_version": "^0.17.0",
          "state": {
            "_model_module": "jupyter-leaflet",
            "_model_module_version": "^0.17.0",
            "_model_name": "LeafletMarkerModel",
            "_view_count": null,
            "_view_module": "jupyter-leaflet",
            "_view_module_version": "^0.17.0",
            "_view_name": "LeafletMarkerView",
            "alt": "",
            "base": false,
            "bottom": false,
            "draggable": false,
            "icon": null,
            "keyboard": true,
            "location": [
              47.503583,
              19.065202
            ],
            "name": "",
            "opacity": 0.69,
            "options": [
              "alt",
              "draggable",
              "keyboard",
              "rise_offset",
              "rise_on_hover",
              "rotation_angle",
              "rotation_origin",
              "title",
              "z_index_offset"
            ],
            "pane": "",
            "popup": null,
            "popup_max_height": null,
            "popup_max_width": 300,
            "popup_min_width": 50,
            "rise_offset": 250,
            "rise_on_hover": false,
            "rotation_angle": 0,
            "rotation_origin": "",
            "title": "Battery Level: 69%, range: 29.0 km",
            "visible": true,
            "z_index_offset": 0
          }
        },
        "b96573bc17414c09b3a1e2024ab016cb": {
          "model_module": "jupyter-leaflet",
          "model_name": "LeafletMarkerModel",
          "model_module_version": "^0.17.0",
          "state": {
            "_model_module": "jupyter-leaflet",
            "_model_module_version": "^0.17.0",
            "_model_name": "LeafletMarkerModel",
            "_view_count": null,
            "_view_module": "jupyter-leaflet",
            "_view_module_version": "^0.17.0",
            "_view_name": "LeafletMarkerView",
            "alt": "",
            "base": false,
            "bottom": false,
            "draggable": false,
            "icon": null,
            "keyboard": true,
            "location": [
              47.501293,
              19.067788
            ],
            "name": "",
            "opacity": 0.94,
            "options": [
              "alt",
              "draggable",
              "keyboard",
              "rise_offset",
              "rise_on_hover",
              "rotation_angle",
              "rotation_origin",
              "title",
              "z_index_offset"
            ],
            "pane": "",
            "popup": null,
            "popup_max_height": null,
            "popup_max_width": 300,
            "popup_min_width": 50,
            "rise_offset": 250,
            "rise_on_hover": false,
            "rotation_angle": 0,
            "rotation_origin": "",
            "title": "Battery Level: 94%, range: 30.0 km",
            "visible": true,
            "z_index_offset": 0
          }
        },
        "bc0d608bb1be4dca93617a3dc599f12a": {
          "model_module": "jupyter-leaflet",
          "model_name": "LeafletMarkerModel",
          "model_module_version": "^0.17.0",
          "state": {
            "_model_module": "jupyter-leaflet",
            "_model_module_version": "^0.17.0",
            "_model_name": "LeafletMarkerModel",
            "_view_count": null,
            "_view_module": "jupyter-leaflet",
            "_view_module_version": "^0.17.0",
            "_view_name": "LeafletMarkerView",
            "alt": "",
            "base": false,
            "bottom": false,
            "draggable": false,
            "icon": null,
            "keyboard": true,
            "location": [
              47.50606,
              19.031909
            ],
            "name": "",
            "opacity": 0.93,
            "options": [
              "alt",
              "draggable",
              "keyboard",
              "rise_offset",
              "rise_on_hover",
              "rotation_angle",
              "rotation_origin",
              "title",
              "z_index_offset"
            ],
            "pane": "",
            "popup": null,
            "popup_max_height": null,
            "popup_max_width": 300,
            "popup_min_width": 50,
            "rise_offset": 250,
            "rise_on_hover": false,
            "rotation_angle": 0,
            "rotation_origin": "",
            "title": "Battery Level: 93%, range: 29.0 km",
            "visible": true,
            "z_index_offset": 0
          }
        },
        "c7b956db5b914f23b0c9b0c34c34313a": {
          "model_module": "jupyter-leaflet",
          "model_name": "LeafletMarkerModel",
          "model_module_version": "^0.17.0",
          "state": {
            "_model_module": "jupyter-leaflet",
            "_model_module_version": "^0.17.0",
            "_model_name": "LeafletMarkerModel",
            "_view_count": null,
            "_view_module": "jupyter-leaflet",
            "_view_module_version": "^0.17.0",
            "_view_name": "LeafletMarkerView",
            "alt": "",
            "base": false,
            "bottom": false,
            "draggable": false,
            "icon": null,
            "keyboard": true,
            "location": [
              47.503388,
              19.06541
            ],
            "name": "",
            "opacity": 0.35,
            "options": [
              "alt",
              "draggable",
              "keyboard",
              "rise_offset",
              "rise_on_hover",
              "rotation_angle",
              "rotation_origin",
              "title",
              "z_index_offset"
            ],
            "pane": "",
            "popup": null,
            "popup_max_height": null,
            "popup_max_width": 300,
            "popup_min_width": 50,
            "rise_offset": 250,
            "rise_on_hover": false,
            "rotation_angle": 0,
            "rotation_origin": "",
            "title": "Battery Level: 35%, range: 9.0 km",
            "visible": true,
            "z_index_offset": 0
          }
        },
        "9045c904dc9642a39f04ef1dddee068f": {
          "model_module": "jupyter-leaflet",
          "model_name": "LeafletMarkerModel",
          "model_module_version": "^0.17.0",
          "state": {
            "_model_module": "jupyter-leaflet",
            "_model_module_version": "^0.17.0",
            "_model_name": "LeafletMarkerModel",
            "_view_count": null,
            "_view_module": "jupyter-leaflet",
            "_view_module_version": "^0.17.0",
            "_view_name": "LeafletMarkerView",
            "alt": "",
            "base": false,
            "bottom": false,
            "draggable": false,
            "icon": null,
            "keyboard": true,
            "location": [
              47.501362,
              19.05469
            ],
            "name": "",
            "opacity": 0.37,
            "options": [
              "alt",
              "draggable",
              "keyboard",
              "rise_offset",
              "rise_on_hover",
              "rotation_angle",
              "rotation_origin",
              "title",
              "z_index_offset"
            ],
            "pane": "",
            "popup": null,
            "popup_max_height": null,
            "popup_max_width": 300,
            "popup_min_width": 50,
            "rise_offset": 250,
            "rise_on_hover": false,
            "rotation_angle": 0,
            "rotation_origin": "",
            "title": "Battery Level: 37%, range: 10.0 km",
            "visible": true,
            "z_index_offset": 0
          }
        },
        "78bb5c2b3f094f6eb400b38c21eaf749": {
          "model_module": "jupyter-leaflet",
          "model_name": "LeafletMarkerModel",
          "model_module_version": "^0.17.0",
          "state": {
            "_model_module": "jupyter-leaflet",
            "_model_module_version": "^0.17.0",
            "_model_name": "LeafletMarkerModel",
            "_view_count": null,
            "_view_module": "jupyter-leaflet",
            "_view_module_version": "^0.17.0",
            "_view_name": "LeafletMarkerView",
            "alt": "",
            "base": false,
            "bottom": false,
            "draggable": false,
            "icon": null,
            "keyboard": true,
            "location": [
              47.496538,
              19.033142
            ],
            "name": "",
            "opacity": 0.29,
            "options": [
              "alt",
              "draggable",
              "keyboard",
              "rise_offset",
              "rise_on_hover",
              "rotation_angle",
              "rotation_origin",
              "title",
              "z_index_offset"
            ],
            "pane": "",
            "popup": null,
            "popup_max_height": null,
            "popup_max_width": 300,
            "popup_min_width": 50,
            "rise_offset": 250,
            "rise_on_hover": false,
            "rotation_angle": 0,
            "rotation_origin": "",
            "title": "Battery Level: 29%, range: 7.0 km",
            "visible": true,
            "z_index_offset": 0
          }
        },
        "4c01f61678d842319e286edf6c36a04c": {
          "model_module": "jupyter-leaflet",
          "model_name": "LeafletMarkerModel",
          "model_module_version": "^0.17.0",
          "state": {
            "_model_module": "jupyter-leaflet",
            "_model_module_version": "^0.17.0",
            "_model_name": "LeafletMarkerModel",
            "_view_count": null,
            "_view_module": "jupyter-leaflet",
            "_view_module_version": "^0.17.0",
            "_view_name": "LeafletMarkerView",
            "alt": "",
            "base": false,
            "bottom": false,
            "draggable": false,
            "icon": null,
            "keyboard": true,
            "location": [
              47.501765,
              19.034776
            ],
            "name": "",
            "opacity": 0.51,
            "options": [
              "alt",
              "draggable",
              "keyboard",
              "rise_offset",
              "rise_on_hover",
              "rotation_angle",
              "rotation_origin",
              "title",
              "z_index_offset"
            ],
            "pane": "",
            "popup": null,
            "popup_max_height": null,
            "popup_max_width": 300,
            "popup_min_width": 50,
            "rise_offset": 250,
            "rise_on_hover": false,
            "rotation_angle": 0,
            "rotation_origin": "",
            "title": "Battery Level: 51%, range: 15.0 km",
            "visible": true,
            "z_index_offset": 0
          }
        },
        "2967a9aa627f4e3497b2e3407473f544": {
          "model_module": "jupyter-leaflet",
          "model_name": "LeafletMarkerModel",
          "model_module_version": "^0.17.0",
          "state": {
            "_model_module": "jupyter-leaflet",
            "_model_module_version": "^0.17.0",
            "_model_name": "LeafletMarkerModel",
            "_view_count": null,
            "_view_module": "jupyter-leaflet",
            "_view_module_version": "^0.17.0",
            "_view_name": "LeafletMarkerView",
            "alt": "",
            "base": false,
            "bottom": false,
            "draggable": false,
            "icon": null,
            "keyboard": true,
            "location": [
              47.493121,
              19.055021
            ],
            "name": "",
            "opacity": 0.34,
            "options": [
              "alt",
              "draggable",
              "keyboard",
              "rise_offset",
              "rise_on_hover",
              "rotation_angle",
              "rotation_origin",
              "title",
              "z_index_offset"
            ],
            "pane": "",
            "popup": null,
            "popup_max_height": null,
            "popup_max_width": 300,
            "popup_min_width": 50,
            "rise_offset": 250,
            "rise_on_hover": false,
            "rotation_angle": 0,
            "rotation_origin": "",
            "title": "Battery Level: 34%, range: 9.0 km",
            "visible": true,
            "z_index_offset": 0
          }
        },
        "4e00133e4ea34902aca908324dc6f9fd": {
          "model_module": "jupyter-leaflet",
          "model_name": "LeafletMarkerModel",
          "model_module_version": "^0.17.0",
          "state": {
            "_model_module": "jupyter-leaflet",
            "_model_module_version": "^0.17.0",
            "_model_name": "LeafletMarkerModel",
            "_view_count": null,
            "_view_module": "jupyter-leaflet",
            "_view_module_version": "^0.17.0",
            "_view_name": "LeafletMarkerView",
            "alt": "",
            "base": false,
            "bottom": false,
            "draggable": false,
            "icon": null,
            "keyboard": true,
            "location": [
              47.505146,
              19.062831
            ],
            "name": "",
            "opacity": 0.68,
            "options": [
              "alt",
              "draggable",
              "keyboard",
              "rise_offset",
              "rise_on_hover",
              "rotation_angle",
              "rotation_origin",
              "title",
              "z_index_offset"
            ],
            "pane": "",
            "popup": null,
            "popup_max_height": null,
            "popup_max_width": 300,
            "popup_min_width": 50,
            "rise_offset": 250,
            "rise_on_hover": false,
            "rotation_angle": 0,
            "rotation_origin": "",
            "title": "Battery Level: 68%, range: 21.0 km",
            "visible": true,
            "z_index_offset": 0
          }
        },
        "fc2bfb21730149248852a022719e6271": {
          "model_module": "jupyter-leaflet",
          "model_name": "LeafletMarkerModel",
          "model_module_version": "^0.17.0",
          "state": {
            "_model_module": "jupyter-leaflet",
            "_model_module_version": "^0.17.0",
            "_model_name": "LeafletMarkerModel",
            "_view_count": null,
            "_view_module": "jupyter-leaflet",
            "_view_module_version": "^0.17.0",
            "_view_name": "LeafletMarkerView",
            "alt": "",
            "base": false,
            "bottom": false,
            "draggable": false,
            "icon": null,
            "keyboard": true,
            "location": [
              47.503603,
              19.057913
            ],
            "name": "",
            "opacity": 0.92,
            "options": [
              "alt",
              "draggable",
              "keyboard",
              "rise_offset",
              "rise_on_hover",
              "rotation_angle",
              "rotation_origin",
              "title",
              "z_index_offset"
            ],
            "pane": "",
            "popup": null,
            "popup_max_height": null,
            "popup_max_width": 300,
            "popup_min_width": 50,
            "rise_offset": 250,
            "rise_on_hover": false,
            "rotation_angle": 0,
            "rotation_origin": "",
            "title": "Battery Level: 92%, range: 29.0 km",
            "visible": true,
            "z_index_offset": 0
          }
        },
        "44d61caf4d4a41f7a9133345a2f848c5": {
          "model_module": "jupyter-leaflet",
          "model_name": "LeafletMarkerModel",
          "model_module_version": "^0.17.0",
          "state": {
            "_model_module": "jupyter-leaflet",
            "_model_module_version": "^0.17.0",
            "_model_name": "LeafletMarkerModel",
            "_view_count": null,
            "_view_module": "jupyter-leaflet",
            "_view_module_version": "^0.17.0",
            "_view_name": "LeafletMarkerView",
            "alt": "",
            "base": false,
            "bottom": false,
            "draggable": false,
            "icon": null,
            "keyboard": true,
            "location": [
              47.506279,
              19.05685
            ],
            "name": "",
            "opacity": 0.44,
            "options": [
              "alt",
              "draggable",
              "keyboard",
              "rise_offset",
              "rise_on_hover",
              "rotation_angle",
              "rotation_origin",
              "title",
              "z_index_offset"
            ],
            "pane": "",
            "popup": null,
            "popup_max_height": null,
            "popup_max_width": 300,
            "popup_min_width": 50,
            "rise_offset": 250,
            "rise_on_hover": false,
            "rotation_angle": 0,
            "rotation_origin": "",
            "title": "Battery Level: 44%, range: 12.0 km",
            "visible": true,
            "z_index_offset": 0
          }
        },
        "b8d9f2a21f09436dbba95ae30ce70a1c": {
          "model_module": "jupyter-leaflet",
          "model_name": "LeafletMarkerModel",
          "model_module_version": "^0.17.0",
          "state": {
            "_model_module": "jupyter-leaflet",
            "_model_module_version": "^0.17.0",
            "_model_name": "LeafletMarkerModel",
            "_view_count": null,
            "_view_module": "jupyter-leaflet",
            "_view_module_version": "^0.17.0",
            "_view_name": "LeafletMarkerView",
            "alt": "",
            "base": false,
            "bottom": false,
            "draggable": false,
            "icon": null,
            "keyboard": true,
            "location": [
              47.505425,
              19.030709
            ],
            "name": "",
            "opacity": 0.93,
            "options": [
              "alt",
              "draggable",
              "keyboard",
              "rise_offset",
              "rise_on_hover",
              "rotation_angle",
              "rotation_origin",
              "title",
              "z_index_offset"
            ],
            "pane": "",
            "popup": null,
            "popup_max_height": null,
            "popup_max_width": 300,
            "popup_min_width": 50,
            "rise_offset": 250,
            "rise_on_hover": false,
            "rotation_angle": 0,
            "rotation_origin": "",
            "title": "Battery Level: 93%, range: 29.0 km",
            "visible": true,
            "z_index_offset": 0
          }
        },
        "2e89c732be604a398a1f0160b22121d1": {
          "model_module": "jupyter-leaflet",
          "model_name": "LeafletMarkerModel",
          "model_module_version": "^0.17.0",
          "state": {
            "_model_module": "jupyter-leaflet",
            "_model_module_version": "^0.17.0",
            "_model_name": "LeafletMarkerModel",
            "_view_count": null,
            "_view_module": "jupyter-leaflet",
            "_view_module_version": "^0.17.0",
            "_view_name": "LeafletMarkerView",
            "alt": "",
            "base": false,
            "bottom": false,
            "draggable": false,
            "icon": null,
            "keyboard": true,
            "location": [
              47.510867,
              19.06148
            ],
            "name": "",
            "opacity": 0.3,
            "options": [
              "alt",
              "draggable",
              "keyboard",
              "rise_offset",
              "rise_on_hover",
              "rotation_angle",
              "rotation_origin",
              "title",
              "z_index_offset"
            ],
            "pane": "",
            "popup": null,
            "popup_max_height": null,
            "popup_max_width": 300,
            "popup_min_width": 50,
            "rise_offset": 250,
            "rise_on_hover": false,
            "rotation_angle": 0,
            "rotation_origin": "",
            "title": "Battery Level: 30%, range: 7.0 km",
            "visible": true,
            "z_index_offset": 0
          }
        },
        "f8e7ff7b66e84b45b8e3dc1599f39a06": {
          "model_module": "jupyter-leaflet",
          "model_name": "LeafletMarkerModel",
          "model_module_version": "^0.17.0",
          "state": {
            "_model_module": "jupyter-leaflet",
            "_model_module_version": "^0.17.0",
            "_model_name": "LeafletMarkerModel",
            "_view_count": null,
            "_view_module": "jupyter-leaflet",
            "_view_module_version": "^0.17.0",
            "_view_name": "LeafletMarkerView",
            "alt": "",
            "base": false,
            "bottom": false,
            "draggable": false,
            "icon": null,
            "keyboard": true,
            "location": [
              47.494007,
              19.038694
            ],
            "name": "",
            "opacity": 0.76,
            "options": [
              "alt",
              "draggable",
              "keyboard",
              "rise_offset",
              "rise_on_hover",
              "rotation_angle",
              "rotation_origin",
              "title",
              "z_index_offset"
            ],
            "pane": "",
            "popup": null,
            "popup_max_height": null,
            "popup_max_width": 300,
            "popup_min_width": 50,
            "rise_offset": 250,
            "rise_on_hover": false,
            "rotation_angle": 0,
            "rotation_origin": "",
            "title": "Battery Level: 76%, range: 23.0 km",
            "visible": true,
            "z_index_offset": 0
          }
        },
        "106380d46f79413dba77fc170f69e0b5": {
          "model_module": "jupyter-leaflet",
          "model_name": "LeafletMarkerModel",
          "model_module_version": "^0.17.0",
          "state": {
            "_model_module": "jupyter-leaflet",
            "_model_module_version": "^0.17.0",
            "_model_name": "LeafletMarkerModel",
            "_view_count": null,
            "_view_module": "jupyter-leaflet",
            "_view_module_version": "^0.17.0",
            "_view_name": "LeafletMarkerView",
            "alt": "",
            "base": false,
            "bottom": false,
            "draggable": false,
            "icon": null,
            "keyboard": true,
            "location": [
              47.503143,
              19.065634
            ],
            "name": "",
            "opacity": 0.32,
            "options": [
              "alt",
              "draggable",
              "keyboard",
              "rise_offset",
              "rise_on_hover",
              "rotation_angle",
              "rotation_origin",
              "title",
              "z_index_offset"
            ],
            "pane": "",
            "popup": null,
            "popup_max_height": null,
            "popup_max_width": 300,
            "popup_min_width": 50,
            "rise_offset": 250,
            "rise_on_hover": false,
            "rotation_angle": 0,
            "rotation_origin": "",
            "title": "Battery Level: 32%, range: 8.0 km",
            "visible": true,
            "z_index_offset": 0
          }
        },
        "76b97bb4ff2c4fd0ac58282ed7a76346": {
          "model_module": "jupyter-leaflet",
          "model_name": "LeafletMarkerModel",
          "model_module_version": "^0.17.0",
          "state": {
            "_model_module": "jupyter-leaflet",
            "_model_module_version": "^0.17.0",
            "_model_name": "LeafletMarkerModel",
            "_view_count": null,
            "_view_module": "jupyter-leaflet",
            "_view_module_version": "^0.17.0",
            "_view_name": "LeafletMarkerView",
            "alt": "",
            "base": false,
            "bottom": false,
            "draggable": false,
            "icon": null,
            "keyboard": true,
            "location": [
              47.51171,
              19.056908
            ],
            "name": "",
            "opacity": 0.66,
            "options": [
              "alt",
              "draggable",
              "keyboard",
              "rise_offset",
              "rise_on_hover",
              "rotation_angle",
              "rotation_origin",
              "title",
              "z_index_offset"
            ],
            "pane": "",
            "popup": null,
            "popup_max_height": null,
            "popup_max_width": 300,
            "popup_min_width": 50,
            "rise_offset": 250,
            "rise_on_hover": false,
            "rotation_angle": 0,
            "rotation_origin": "",
            "title": "Battery Level: 66%, range: 20.0 km",
            "visible": true,
            "z_index_offset": 0
          }
        },
        "883d505ba40540369612126ea53ccd87": {
          "model_module": "jupyter-leaflet",
          "model_name": "LeafletMarkerModel",
          "model_module_version": "^0.17.0",
          "state": {
            "_model_module": "jupyter-leaflet",
            "_model_module_version": "^0.17.0",
            "_model_name": "LeafletMarkerModel",
            "_view_count": null,
            "_view_module": "jupyter-leaflet",
            "_view_module_version": "^0.17.0",
            "_view_name": "LeafletMarkerView",
            "alt": "",
            "base": false,
            "bottom": false,
            "draggable": false,
            "icon": null,
            "keyboard": true,
            "location": [
              47.505816,
              19.057041
            ],
            "name": "",
            "opacity": 0.85,
            "options": [
              "alt",
              "draggable",
              "keyboard",
              "rise_offset",
              "rise_on_hover",
              "rotation_angle",
              "rotation_origin",
              "title",
              "z_index_offset"
            ],
            "pane": "",
            "popup": null,
            "popup_max_height": null,
            "popup_max_width": 300,
            "popup_min_width": 50,
            "rise_offset": 250,
            "rise_on_hover": false,
            "rotation_angle": 0,
            "rotation_origin": "",
            "title": "Battery Level: 85%, range: 26.0 km",
            "visible": true,
            "z_index_offset": 0
          }
        },
        "f6c20852911d4f468313db667f6d0bf6": {
          "model_module": "jupyter-leaflet",
          "model_name": "LeafletMarkerModel",
          "model_module_version": "^0.17.0",
          "state": {
            "_model_module": "jupyter-leaflet",
            "_model_module_version": "^0.17.0",
            "_model_name": "LeafletMarkerModel",
            "_view_count": null,
            "_view_module": "jupyter-leaflet",
            "_view_module_version": "^0.17.0",
            "_view_name": "LeafletMarkerView",
            "alt": "",
            "base": false,
            "bottom": false,
            "draggable": false,
            "icon": null,
            "keyboard": true,
            "location": [
              47.50188,
              19.067097
            ],
            "name": "",
            "opacity": 0.71,
            "options": [
              "alt",
              "draggable",
              "keyboard",
              "rise_offset",
              "rise_on_hover",
              "rotation_angle",
              "rotation_origin",
              "title",
              "z_index_offset"
            ],
            "pane": "",
            "popup": null,
            "popup_max_height": null,
            "popup_max_width": 300,
            "popup_min_width": 50,
            "rise_offset": 250,
            "rise_on_hover": false,
            "rotation_angle": 0,
            "rotation_origin": "",
            "title": "Battery Level: 71%, range: 22.0 km",
            "visible": true,
            "z_index_offset": 0
          }
        },
        "b484ae582af64b58bd337f2d78cf7e93": {
          "model_module": "jupyter-leaflet",
          "model_name": "LeafletMarkerModel",
          "model_module_version": "^0.17.0",
          "state": {
            "_model_module": "jupyter-leaflet",
            "_model_module_version": "^0.17.0",
            "_model_name": "LeafletMarkerModel",
            "_view_count": null,
            "_view_module": "jupyter-leaflet",
            "_view_module_version": "^0.17.0",
            "_view_name": "LeafletMarkerView",
            "alt": "",
            "base": false,
            "bottom": false,
            "draggable": false,
            "icon": null,
            "keyboard": true,
            "location": [
              47.498424,
              19.057086
            ],
            "name": "",
            "opacity": 0.43,
            "options": [
              "alt",
              "draggable",
              "keyboard",
              "rise_offset",
              "rise_on_hover",
              "rotation_angle",
              "rotation_origin",
              "title",
              "z_index_offset"
            ],
            "pane": "",
            "popup": null,
            "popup_max_height": null,
            "popup_max_width": 300,
            "popup_min_width": 50,
            "rise_offset": 250,
            "rise_on_hover": false,
            "rotation_angle": 0,
            "rotation_origin": "",
            "title": "Battery Level: 43%, range: 12.0 km",
            "visible": true,
            "z_index_offset": 0
          }
        },
        "befbccc147524d03b904c4f0a9a86f69": {
          "model_module": "jupyter-leaflet",
          "model_name": "LeafletMarkerModel",
          "model_module_version": "^0.17.0",
          "state": {
            "_model_module": "jupyter-leaflet",
            "_model_module_version": "^0.17.0",
            "_model_name": "LeafletMarkerModel",
            "_view_count": null,
            "_view_module": "jupyter-leaflet",
            "_view_module_version": "^0.17.0",
            "_view_name": "LeafletMarkerView",
            "alt": "",
            "base": false,
            "bottom": false,
            "draggable": false,
            "icon": null,
            "keyboard": true,
            "location": [
              47.496242,
              19.033726
            ],
            "name": "",
            "opacity": 0.45,
            "options": [
              "alt",
              "draggable",
              "keyboard",
              "rise_offset",
              "rise_on_hover",
              "rotation_angle",
              "rotation_origin",
              "title",
              "z_index_offset"
            ],
            "pane": "",
            "popup": null,
            "popup_max_height": null,
            "popup_max_width": 300,
            "popup_min_width": 50,
            "rise_offset": 250,
            "rise_on_hover": false,
            "rotation_angle": 0,
            "rotation_origin": "",
            "title": "Battery Level: 45%, range: 12.0 km",
            "visible": true,
            "z_index_offset": 0
          }
        },
        "2a566390f1614aa99a0d61e00e7527fb": {
          "model_module": "jupyter-leaflet",
          "model_name": "LeafletMarkerModel",
          "model_module_version": "^0.17.0",
          "state": {
            "_model_module": "jupyter-leaflet",
            "_model_module_version": "^0.17.0",
            "_model_name": "LeafletMarkerModel",
            "_view_count": null,
            "_view_module": "jupyter-leaflet",
            "_view_module_version": "^0.17.0",
            "_view_name": "LeafletMarkerView",
            "alt": "",
            "base": false,
            "bottom": false,
            "draggable": false,
            "icon": null,
            "keyboard": true,
            "location": [
              47.506272,
              19.061859
            ],
            "name": "",
            "opacity": 0.88,
            "options": [
              "alt",
              "draggable",
              "keyboard",
              "rise_offset",
              "rise_on_hover",
              "rotation_angle",
              "rotation_origin",
              "title",
              "z_index_offset"
            ],
            "pane": "",
            "popup": null,
            "popup_max_height": null,
            "popup_max_width": 300,
            "popup_min_width": 50,
            "rise_offset": 250,
            "rise_on_hover": false,
            "rotation_angle": 0,
            "rotation_origin": "",
            "title": "Battery Level: 88%, range: 28.0 km",
            "visible": true,
            "z_index_offset": 0
          }
        },
        "e846a37fde8948c5bbf63bb8f3e991b1": {
          "model_module": "jupyter-leaflet",
          "model_name": "LeafletMarkerModel",
          "model_module_version": "^0.17.0",
          "state": {
            "_model_module": "jupyter-leaflet",
            "_model_module_version": "^0.17.0",
            "_model_name": "LeafletMarkerModel",
            "_view_count": null,
            "_view_module": "jupyter-leaflet",
            "_view_module_version": "^0.17.0",
            "_view_name": "LeafletMarkerView",
            "alt": "",
            "base": false,
            "bottom": false,
            "draggable": false,
            "icon": null,
            "keyboard": true,
            "location": [
              47.498703,
              19.030207
            ],
            "name": "",
            "opacity": 0.88,
            "options": [
              "alt",
              "draggable",
              "keyboard",
              "rise_offset",
              "rise_on_hover",
              "rotation_angle",
              "rotation_origin",
              "title",
              "z_index_offset"
            ],
            "pane": "",
            "popup": null,
            "popup_max_height": null,
            "popup_max_width": 300,
            "popup_min_width": 50,
            "rise_offset": 250,
            "rise_on_hover": false,
            "rotation_angle": 0,
            "rotation_origin": "",
            "title": "Battery Level: 88%, range: 28.0 km",
            "visible": true,
            "z_index_offset": 0
          }
        },
        "6c3a0aaba3ab4cd2adcd809225a23c0e": {
          "model_module": "jupyter-leaflet",
          "model_name": "LeafletMarkerModel",
          "model_module_version": "^0.17.0",
          "state": {
            "_model_module": "jupyter-leaflet",
            "_model_module_version": "^0.17.0",
            "_model_name": "LeafletMarkerModel",
            "_view_count": null,
            "_view_module": "jupyter-leaflet",
            "_view_module_version": "^0.17.0",
            "_view_name": "LeafletMarkerView",
            "alt": "",
            "base": false,
            "bottom": false,
            "draggable": false,
            "icon": null,
            "keyboard": true,
            "location": [
              47.494806,
              19.062257
            ],
            "name": "",
            "opacity": 0.49,
            "options": [
              "alt",
              "draggable",
              "keyboard",
              "rise_offset",
              "rise_on_hover",
              "rotation_angle",
              "rotation_origin",
              "title",
              "z_index_offset"
            ],
            "pane": "",
            "popup": null,
            "popup_max_height": null,
            "popup_max_width": 300,
            "popup_min_width": 50,
            "rise_offset": 250,
            "rise_on_hover": false,
            "rotation_angle": 0,
            "rotation_origin": "",
            "title": "Battery Level: 49%, range: 14.0 km",
            "visible": true,
            "z_index_offset": 0
          }
        },
        "7f4528c3be2d4b94bb041d258bcec690": {
          "model_module": "jupyter-leaflet",
          "model_name": "LeafletMarkerModel",
          "model_module_version": "^0.17.0",
          "state": {
            "_model_module": "jupyter-leaflet",
            "_model_module_version": "^0.17.0",
            "_model_name": "LeafletMarkerModel",
            "_view_count": null,
            "_view_module": "jupyter-leaflet",
            "_view_module_version": "^0.17.0",
            "_view_name": "LeafletMarkerView",
            "alt": "",
            "base": false,
            "bottom": false,
            "draggable": false,
            "icon": null,
            "keyboard": true,
            "location": [
              47.507227,
              19.055109
            ],
            "name": "",
            "opacity": 0.74,
            "options": [
              "alt",
              "draggable",
              "keyboard",
              "rise_offset",
              "rise_on_hover",
              "rotation_angle",
              "rotation_origin",
              "title",
              "z_index_offset"
            ],
            "pane": "",
            "popup": null,
            "popup_max_height": null,
            "popup_max_width": 300,
            "popup_min_width": 50,
            "rise_offset": 250,
            "rise_on_hover": false,
            "rotation_angle": 0,
            "rotation_origin": "",
            "title": "Battery Level: 74%, range: 23.0 km",
            "visible": true,
            "z_index_offset": 0
          }
        },
        "79ec724b4a0b4635826bb6424eeb796f": {
          "model_module": "jupyter-leaflet",
          "model_name": "LeafletMarkerModel",
          "model_module_version": "^0.17.0",
          "state": {
            "_model_module": "jupyter-leaflet",
            "_model_module_version": "^0.17.0",
            "_model_name": "LeafletMarkerModel",
            "_view_count": null,
            "_view_module": "jupyter-leaflet",
            "_view_module_version": "^0.17.0",
            "_view_name": "LeafletMarkerView",
            "alt": "",
            "base": false,
            "bottom": false,
            "draggable": false,
            "icon": null,
            "keyboard": true,
            "location": [
              47.495481,
              19.064123
            ],
            "name": "",
            "opacity": 0.24,
            "options": [
              "alt",
              "draggable",
              "keyboard",
              "rise_offset",
              "rise_on_hover",
              "rotation_angle",
              "rotation_origin",
              "title",
              "z_index_offset"
            ],
            "pane": "",
            "popup": null,
            "popup_max_height": null,
            "popup_max_width": 300,
            "popup_min_width": 50,
            "rise_offset": 250,
            "rise_on_hover": false,
            "rotation_angle": 0,
            "rotation_origin": "",
            "title": "Battery Level: 24%, range: 5.0 km",
            "visible": true,
            "z_index_offset": 0
          }
        },
        "5a053713ff7241d287fdc56ddd74156f": {
          "model_module": "jupyter-leaflet",
          "model_name": "LeafletMarkerModel",
          "model_module_version": "^0.17.0",
          "state": {
            "_model_module": "jupyter-leaflet",
            "_model_module_version": "^0.17.0",
            "_model_name": "LeafletMarkerModel",
            "_view_count": null,
            "_view_module": "jupyter-leaflet",
            "_view_module_version": "^0.17.0",
            "_view_name": "LeafletMarkerView",
            "alt": "",
            "base": false,
            "bottom": false,
            "draggable": false,
            "icon": null,
            "keyboard": true,
            "location": [
              47.509223,
              19.046525
            ],
            "name": "",
            "opacity": 0.76,
            "options": [
              "alt",
              "draggable",
              "keyboard",
              "rise_offset",
              "rise_on_hover",
              "rotation_angle",
              "rotation_origin",
              "title",
              "z_index_offset"
            ],
            "pane": "",
            "popup": null,
            "popup_max_height": null,
            "popup_max_width": 300,
            "popup_min_width": 50,
            "rise_offset": 250,
            "rise_on_hover": false,
            "rotation_angle": 0,
            "rotation_origin": "",
            "title": "Battery Level: 76%, range: 23.0 km",
            "visible": true,
            "z_index_offset": 0
          }
        },
        "a6e5857ea23249e8a6c7cd2ee683e889": {
          "model_module": "jupyter-leaflet",
          "model_name": "LeafletMarkerModel",
          "model_module_version": "^0.17.0",
          "state": {
            "_model_module": "jupyter-leaflet",
            "_model_module_version": "^0.17.0",
            "_model_name": "LeafletMarkerModel",
            "_view_count": null,
            "_view_module": "jupyter-leaflet",
            "_view_module_version": "^0.17.0",
            "_view_name": "LeafletMarkerView",
            "alt": "",
            "base": false,
            "bottom": false,
            "draggable": false,
            "icon": null,
            "keyboard": true,
            "location": [
              47.501871,
              19.067051
            ],
            "name": "",
            "opacity": 0.52,
            "options": [
              "alt",
              "draggable",
              "keyboard",
              "rise_offset",
              "rise_on_hover",
              "rotation_angle",
              "rotation_origin",
              "title",
              "z_index_offset"
            ],
            "pane": "",
            "popup": null,
            "popup_max_height": null,
            "popup_max_width": 300,
            "popup_min_width": 50,
            "rise_offset": 250,
            "rise_on_hover": false,
            "rotation_angle": 0,
            "rotation_origin": "",
            "title": "Battery Level: 52%, range: 15.0 km",
            "visible": true,
            "z_index_offset": 0
          }
        },
        "b7bdba17911a417c83bdd18df5fca0a7": {
          "model_module": "jupyter-leaflet",
          "model_name": "LeafletMarkerModel",
          "model_module_version": "^0.17.0",
          "state": {
            "_model_module": "jupyter-leaflet",
            "_model_module_version": "^0.17.0",
            "_model_name": "LeafletMarkerModel",
            "_view_count": null,
            "_view_module": "jupyter-leaflet",
            "_view_module_version": "^0.17.0",
            "_view_name": "LeafletMarkerView",
            "alt": "",
            "base": false,
            "bottom": false,
            "draggable": false,
            "icon": null,
            "keyboard": true,
            "location": [
              47.494392,
              19.051608
            ],
            "name": "",
            "opacity": 0.28,
            "options": [
              "alt",
              "draggable",
              "keyboard",
              "rise_offset",
              "rise_on_hover",
              "rotation_angle",
              "rotation_origin",
              "title",
              "z_index_offset"
            ],
            "pane": "",
            "popup": null,
            "popup_max_height": null,
            "popup_max_width": 300,
            "popup_min_width": 50,
            "rise_offset": 250,
            "rise_on_hover": false,
            "rotation_angle": 0,
            "rotation_origin": "",
            "title": "Battery Level: 28%, range: 7.0 km",
            "visible": true,
            "z_index_offset": 0
          }
        },
        "814f21e28f5e4cc78504babdd85aaed0": {
          "model_module": "jupyter-leaflet",
          "model_name": "LeafletMarkerModel",
          "model_module_version": "^0.17.0",
          "state": {
            "_model_module": "jupyter-leaflet",
            "_model_module_version": "^0.17.0",
            "_model_name": "LeafletMarkerModel",
            "_view_count": null,
            "_view_module": "jupyter-leaflet",
            "_view_module_version": "^0.17.0",
            "_view_name": "LeafletMarkerView",
            "alt": "",
            "base": false,
            "bottom": false,
            "draggable": false,
            "icon": null,
            "keyboard": true,
            "location": [
              47.501869,
              19.067185
            ],
            "name": "",
            "opacity": 0.93,
            "options": [
              "alt",
              "draggable",
              "keyboard",
              "rise_offset",
              "rise_on_hover",
              "rotation_angle",
              "rotation_origin",
              "title",
              "z_index_offset"
            ],
            "pane": "",
            "popup": null,
            "popup_max_height": null,
            "popup_max_width": 300,
            "popup_min_width": 50,
            "rise_offset": 250,
            "rise_on_hover": false,
            "rotation_angle": 0,
            "rotation_origin": "",
            "title": "Battery Level: 93%, range: 29.0 km",
            "visible": true,
            "z_index_offset": 0
          }
        },
        "883d6ba8f99a42a1ba68e9e908009a75": {
          "model_module": "jupyter-leaflet",
          "model_name": "LeafletMarkerModel",
          "model_module_version": "^0.17.0",
          "state": {
            "_model_module": "jupyter-leaflet",
            "_model_module_version": "^0.17.0",
            "_model_name": "LeafletMarkerModel",
            "_view_count": null,
            "_view_module": "jupyter-leaflet",
            "_view_module_version": "^0.17.0",
            "_view_name": "LeafletMarkerView",
            "alt": "",
            "base": false,
            "bottom": false,
            "draggable": false,
            "icon": null,
            "keyboard": true,
            "location": [
              47.499544,
              19.059012
            ],
            "name": "",
            "opacity": 0.87,
            "options": [
              "alt",
              "draggable",
              "keyboard",
              "rise_offset",
              "rise_on_hover",
              "rotation_angle",
              "rotation_origin",
              "title",
              "z_index_offset"
            ],
            "pane": "",
            "popup": null,
            "popup_max_height": null,
            "popup_max_width": 300,
            "popup_min_width": 50,
            "rise_offset": 250,
            "rise_on_hover": false,
            "rotation_angle": 0,
            "rotation_origin": "",
            "title": "Battery Level: 87%, range: 27.0 km",
            "visible": true,
            "z_index_offset": 0
          }
        },
        "73062874102548629c065ab1d703c2e5": {
          "model_module": "jupyter-leaflet",
          "model_name": "LeafletMarkerModel",
          "model_module_version": "^0.17.0",
          "state": {
            "_model_module": "jupyter-leaflet",
            "_model_module_version": "^0.17.0",
            "_model_name": "LeafletMarkerModel",
            "_view_count": null,
            "_view_module": "jupyter-leaflet",
            "_view_module_version": "^0.17.0",
            "_view_name": "LeafletMarkerView",
            "alt": "",
            "base": false,
            "bottom": false,
            "draggable": false,
            "icon": null,
            "keyboard": true,
            "location": [
              47.505368,
              19.03056
            ],
            "name": "",
            "opacity": 0.92,
            "options": [
              "alt",
              "draggable",
              "keyboard",
              "rise_offset",
              "rise_on_hover",
              "rotation_angle",
              "rotation_origin",
              "title",
              "z_index_offset"
            ],
            "pane": "",
            "popup": null,
            "popup_max_height": null,
            "popup_max_width": 300,
            "popup_min_width": 50,
            "rise_offset": 250,
            "rise_on_hover": false,
            "rotation_angle": 0,
            "rotation_origin": "",
            "title": "Battery Level: 92%, range: 29.0 km",
            "visible": true,
            "z_index_offset": 0
          }
        },
        "9d04239ffe964eb0b59d7535b067bf4b": {
          "model_module": "jupyter-leaflet",
          "model_name": "LeafletMarkerModel",
          "model_module_version": "^0.17.0",
          "state": {
            "_model_module": "jupyter-leaflet",
            "_model_module_version": "^0.17.0",
            "_model_name": "LeafletMarkerModel",
            "_view_count": null,
            "_view_module": "jupyter-leaflet",
            "_view_module_version": "^0.17.0",
            "_view_name": "LeafletMarkerView",
            "alt": "",
            "base": false,
            "bottom": false,
            "draggable": false,
            "icon": null,
            "keyboard": true,
            "location": [
              47.503103,
              19.064834
            ],
            "name": "",
            "opacity": 0.45,
            "options": [
              "alt",
              "draggable",
              "keyboard",
              "rise_offset",
              "rise_on_hover",
              "rotation_angle",
              "rotation_origin",
              "title",
              "z_index_offset"
            ],
            "pane": "",
            "popup": null,
            "popup_max_height": null,
            "popup_max_width": 300,
            "popup_min_width": 50,
            "rise_offset": 250,
            "rise_on_hover": false,
            "rotation_angle": 0,
            "rotation_origin": "",
            "title": "Battery Level: 45%, range: 12.0 km",
            "visible": true,
            "z_index_offset": 0
          }
        },
        "ab94ffb8640f4bacb1d1270e110d2840": {
          "model_module": "jupyter-leaflet",
          "model_name": "LeafletMarkerModel",
          "model_module_version": "^0.17.0",
          "state": {
            "_model_module": "jupyter-leaflet",
            "_model_module_version": "^0.17.0",
            "_model_name": "LeafletMarkerModel",
            "_view_count": null,
            "_view_module": "jupyter-leaflet",
            "_view_module_version": "^0.17.0",
            "_view_name": "LeafletMarkerView",
            "alt": "",
            "base": false,
            "bottom": false,
            "draggable": false,
            "icon": null,
            "keyboard": true,
            "location": [
              47.514461,
              19.039891
            ],
            "name": "",
            "opacity": 0.23,
            "options": [
              "alt",
              "draggable",
              "keyboard",
              "rise_offset",
              "rise_on_hover",
              "rotation_angle",
              "rotation_origin",
              "title",
              "z_index_offset"
            ],
            "pane": "",
            "popup": null,
            "popup_max_height": null,
            "popup_max_width": 300,
            "popup_min_width": 50,
            "rise_offset": 250,
            "rise_on_hover": false,
            "rotation_angle": 0,
            "rotation_origin": "",
            "title": "Battery Level: 23%, range: 5.0 km",
            "visible": true,
            "z_index_offset": 0
          }
        },
        "a66f2ba64b064f11ad74c1d78e71de58": {
          "model_module": "jupyter-leaflet",
          "model_name": "LeafletMarkerModel",
          "model_module_version": "^0.17.0",
          "state": {
            "_model_module": "jupyter-leaflet",
            "_model_module_version": "^0.17.0",
            "_model_name": "LeafletMarkerModel",
            "_view_count": null,
            "_view_module": "jupyter-leaflet",
            "_view_module_version": "^0.17.0",
            "_view_name": "LeafletMarkerView",
            "alt": "",
            "base": false,
            "bottom": false,
            "draggable": false,
            "icon": null,
            "keyboard": true,
            "location": [
              47.495014,
              19.06274
            ],
            "name": "",
            "opacity": 0.55,
            "options": [
              "alt",
              "draggable",
              "keyboard",
              "rise_offset",
              "rise_on_hover",
              "rotation_angle",
              "rotation_origin",
              "title",
              "z_index_offset"
            ],
            "pane": "",
            "popup": null,
            "popup_max_height": null,
            "popup_max_width": 300,
            "popup_min_width": 50,
            "rise_offset": 250,
            "rise_on_hover": false,
            "rotation_angle": 0,
            "rotation_origin": "",
            "title": "Battery Level: 55%, range: 16.0 km",
            "visible": true,
            "z_index_offset": 0
          }
        },
        "a67ae06ee24b463a9a7a5fdc95361c2c": {
          "model_module": "jupyter-leaflet",
          "model_name": "LeafletMarkerModel",
          "model_module_version": "^0.17.0",
          "state": {
            "_model_module": "jupyter-leaflet",
            "_model_module_version": "^0.17.0",
            "_model_name": "LeafletMarkerModel",
            "_view_count": null,
            "_view_module": "jupyter-leaflet",
            "_view_module_version": "^0.17.0",
            "_view_name": "LeafletMarkerView",
            "alt": "",
            "base": false,
            "bottom": false,
            "draggable": false,
            "icon": null,
            "keyboard": true,
            "location": [
              47.507241,
              19.05514
            ],
            "name": "",
            "opacity": 0.22,
            "options": [
              "alt",
              "draggable",
              "keyboard",
              "rise_offset",
              "rise_on_hover",
              "rotation_angle",
              "rotation_origin",
              "title",
              "z_index_offset"
            ],
            "pane": "",
            "popup": null,
            "popup_max_height": null,
            "popup_max_width": 300,
            "popup_min_width": 50,
            "rise_offset": 250,
            "rise_on_hover": false,
            "rotation_angle": 0,
            "rotation_origin": "",
            "title": "Battery Level: 22%, range: 4.0 km",
            "visible": true,
            "z_index_offset": 0
          }
        },
        "68e93bc4b3564f34a6b35e5a927c7548": {
          "model_module": "jupyter-leaflet",
          "model_name": "LeafletMarkerModel",
          "model_module_version": "^0.17.0",
          "state": {
            "_model_module": "jupyter-leaflet",
            "_model_module_version": "^0.17.0",
            "_model_name": "LeafletMarkerModel",
            "_view_count": null,
            "_view_module": "jupyter-leaflet",
            "_view_module_version": "^0.17.0",
            "_view_name": "LeafletMarkerView",
            "alt": "",
            "base": false,
            "bottom": false,
            "draggable": false,
            "icon": null,
            "keyboard": true,
            "location": [
              47.51229,
              19.05728
            ],
            "name": "",
            "opacity": 0.9,
            "options": [
              "alt",
              "draggable",
              "keyboard",
              "rise_offset",
              "rise_on_hover",
              "rotation_angle",
              "rotation_origin",
              "title",
              "z_index_offset"
            ],
            "pane": "",
            "popup": null,
            "popup_max_height": null,
            "popup_max_width": 300,
            "popup_min_width": 50,
            "rise_offset": 250,
            "rise_on_hover": false,
            "rotation_angle": 0,
            "rotation_origin": "",
            "title": "Battery Level: 90%, range: 28.0 km",
            "visible": true,
            "z_index_offset": 0
          }
        },
        "fdb97f958c0d479ca1487a6f10c70538": {
          "model_module": "jupyter-leaflet",
          "model_name": "LeafletMarkerModel",
          "model_module_version": "^0.17.0",
          "state": {
            "_model_module": "jupyter-leaflet",
            "_model_module_version": "^0.17.0",
            "_model_name": "LeafletMarkerModel",
            "_view_count": null,
            "_view_module": "jupyter-leaflet",
            "_view_module_version": "^0.17.0",
            "_view_name": "LeafletMarkerView",
            "alt": "",
            "base": false,
            "bottom": false,
            "draggable": false,
            "icon": null,
            "keyboard": true,
            "location": [
              47.505441,
              19.062605
            ],
            "name": "",
            "opacity": 0.4,
            "options": [
              "alt",
              "draggable",
              "keyboard",
              "rise_offset",
              "rise_on_hover",
              "rotation_angle",
              "rotation_origin",
              "title",
              "z_index_offset"
            ],
            "pane": "",
            "popup": null,
            "popup_max_height": null,
            "popup_max_width": 300,
            "popup_min_width": 50,
            "rise_offset": 250,
            "rise_on_hover": false,
            "rotation_angle": 0,
            "rotation_origin": "",
            "title": "Battery Level: 40%, range: 11.0 km",
            "visible": true,
            "z_index_offset": 0
          }
        },
        "a8fec74587f548e2a4c3ed485338b039": {
          "model_module": "jupyter-leaflet",
          "model_name": "LeafletMarkerModel",
          "model_module_version": "^0.17.0",
          "state": {
            "_model_module": "jupyter-leaflet",
            "_model_module_version": "^0.17.0",
            "_model_name": "LeafletMarkerModel",
            "_view_count": null,
            "_view_module": "jupyter-leaflet",
            "_view_module_version": "^0.17.0",
            "_view_name": "LeafletMarkerView",
            "alt": "",
            "base": false,
            "bottom": false,
            "draggable": false,
            "icon": null,
            "keyboard": true,
            "location": [
              47.497004,
              19.059818
            ],
            "name": "",
            "opacity": 0.48,
            "options": [
              "alt",
              "draggable",
              "keyboard",
              "rise_offset",
              "rise_on_hover",
              "rotation_angle",
              "rotation_origin",
              "title",
              "z_index_offset"
            ],
            "pane": "",
            "popup": null,
            "popup_max_height": null,
            "popup_max_width": 300,
            "popup_min_width": 50,
            "rise_offset": 250,
            "rise_on_hover": false,
            "rotation_angle": 0,
            "rotation_origin": "",
            "title": "Battery Level: 48%, range: 14.0 km",
            "visible": true,
            "z_index_offset": 0
          }
        },
        "d868c633ca3442a1b83dceb5cbf949eb": {
          "model_module": "jupyter-leaflet",
          "model_name": "LeafletMarkerModel",
          "model_module_version": "^0.17.0",
          "state": {
            "_model_module": "jupyter-leaflet",
            "_model_module_version": "^0.17.0",
            "_model_name": "LeafletMarkerModel",
            "_view_count": null,
            "_view_module": "jupyter-leaflet",
            "_view_module_version": "^0.17.0",
            "_view_name": "LeafletMarkerView",
            "alt": "",
            "base": false,
            "bottom": false,
            "draggable": false,
            "icon": null,
            "keyboard": true,
            "location": [
              47.500695,
              19.060726
            ],
            "name": "",
            "opacity": 0.22,
            "options": [
              "alt",
              "draggable",
              "keyboard",
              "rise_offset",
              "rise_on_hover",
              "rotation_angle",
              "rotation_origin",
              "title",
              "z_index_offset"
            ],
            "pane": "",
            "popup": null,
            "popup_max_height": null,
            "popup_max_width": 300,
            "popup_min_width": 50,
            "rise_offset": 250,
            "rise_on_hover": false,
            "rotation_angle": 0,
            "rotation_origin": "",
            "title": "Battery Level: 22%, range: 4.0 km",
            "visible": true,
            "z_index_offset": 0
          }
        },
        "04c2270bc3094860bc86f8d9416ead1d": {
          "model_module": "jupyter-leaflet",
          "model_name": "LeafletMarkerModel",
          "model_module_version": "^0.17.0",
          "state": {
            "_model_module": "jupyter-leaflet",
            "_model_module_version": "^0.17.0",
            "_model_name": "LeafletMarkerModel",
            "_view_count": null,
            "_view_module": "jupyter-leaflet",
            "_view_module_version": "^0.17.0",
            "_view_name": "LeafletMarkerView",
            "alt": "",
            "base": false,
            "bottom": false,
            "draggable": false,
            "icon": null,
            "keyboard": true,
            "location": [
              47.493143,
              19.05596
            ],
            "name": "",
            "opacity": 0.33,
            "options": [
              "alt",
              "draggable",
              "keyboard",
              "rise_offset",
              "rise_on_hover",
              "rotation_angle",
              "rotation_origin",
              "title",
              "z_index_offset"
            ],
            "pane": "",
            "popup": null,
            "popup_max_height": null,
            "popup_max_width": 300,
            "popup_min_width": 50,
            "rise_offset": 250,
            "rise_on_hover": false,
            "rotation_angle": 0,
            "rotation_origin": "",
            "title": "Battery Level: 33%, range: 8.0 km",
            "visible": true,
            "z_index_offset": 0
          }
        },
        "e04d3ab4192e4f2d8b4d4f0628154934": {
          "model_module": "jupyter-leaflet",
          "model_name": "LeafletMarkerModel",
          "model_module_version": "^0.17.0",
          "state": {
            "_model_module": "jupyter-leaflet",
            "_model_module_version": "^0.17.0",
            "_model_name": "LeafletMarkerModel",
            "_view_count": null,
            "_view_module": "jupyter-leaflet",
            "_view_module_version": "^0.17.0",
            "_view_name": "LeafletMarkerView",
            "alt": "",
            "base": false,
            "bottom": false,
            "draggable": false,
            "icon": null,
            "keyboard": true,
            "location": [
              47.500384,
              19.060339
            ],
            "name": "",
            "opacity": 0.46,
            "options": [
              "alt",
              "draggable",
              "keyboard",
              "rise_offset",
              "rise_on_hover",
              "rotation_angle",
              "rotation_origin",
              "title",
              "z_index_offset"
            ],
            "pane": "",
            "popup": null,
            "popup_max_height": null,
            "popup_max_width": 300,
            "popup_min_width": 50,
            "rise_offset": 250,
            "rise_on_hover": false,
            "rotation_angle": 0,
            "rotation_origin": "",
            "title": "Battery Level: 46%, range: 13.0 km",
            "visible": true,
            "z_index_offset": 0
          }
        },
        "2c9883cc7c0b4df1ad466d085da764e3": {
          "model_module": "jupyter-leaflet",
          "model_name": "LeafletMarkerModel",
          "model_module_version": "^0.17.0",
          "state": {
            "_model_module": "jupyter-leaflet",
            "_model_module_version": "^0.17.0",
            "_model_name": "LeafletMarkerModel",
            "_view_count": null,
            "_view_module": "jupyter-leaflet",
            "_view_module_version": "^0.17.0",
            "_view_name": "LeafletMarkerView",
            "alt": "",
            "base": false,
            "bottom": false,
            "draggable": false,
            "icon": null,
            "keyboard": true,
            "location": [
              47.495678,
              19.057314
            ],
            "name": "",
            "opacity": 0.92,
            "options": [
              "alt",
              "draggable",
              "keyboard",
              "rise_offset",
              "rise_on_hover",
              "rotation_angle",
              "rotation_origin",
              "title",
              "z_index_offset"
            ],
            "pane": "",
            "popup": null,
            "popup_max_height": null,
            "popup_max_width": 300,
            "popup_min_width": 50,
            "rise_offset": 250,
            "rise_on_hover": false,
            "rotation_angle": 0,
            "rotation_origin": "",
            "title": "Battery Level: 92%, range: 29.0 km",
            "visible": true,
            "z_index_offset": 0
          }
        },
        "14ba1ab471074be9930a9c65f681d962": {
          "model_module": "jupyter-leaflet",
          "model_name": "LeafletMarkerModel",
          "model_module_version": "^0.17.0",
          "state": {
            "_model_module": "jupyter-leaflet",
            "_model_module_version": "^0.17.0",
            "_model_name": "LeafletMarkerModel",
            "_view_count": null,
            "_view_module": "jupyter-leaflet",
            "_view_module_version": "^0.17.0",
            "_view_name": "LeafletMarkerView",
            "alt": "",
            "base": false,
            "bottom": false,
            "draggable": false,
            "icon": null,
            "keyboard": true,
            "location": [
              47.50715,
              19.031611
            ],
            "name": "",
            "opacity": 0.43,
            "options": [
              "alt",
              "draggable",
              "keyboard",
              "rise_offset",
              "rise_on_hover",
              "rotation_angle",
              "rotation_origin",
              "title",
              "z_index_offset"
            ],
            "pane": "",
            "popup": null,
            "popup_max_height": null,
            "popup_max_width": 300,
            "popup_min_width": 50,
            "rise_offset": 250,
            "rise_on_hover": false,
            "rotation_angle": 0,
            "rotation_origin": "",
            "title": "Battery Level: 43%, range: 12.0 km",
            "visible": true,
            "z_index_offset": 0
          }
        },
        "157f4a09d83c42b8a49be42bd17bf2ce": {
          "model_module": "jupyter-leaflet",
          "model_name": "LeafletMarkerModel",
          "model_module_version": "^0.17.0",
          "state": {
            "_model_module": "jupyter-leaflet",
            "_model_module_version": "^0.17.0",
            "_model_name": "LeafletMarkerModel",
            "_view_count": null,
            "_view_module": "jupyter-leaflet",
            "_view_module_version": "^0.17.0",
            "_view_name": "LeafletMarkerView",
            "alt": "",
            "base": false,
            "bottom": false,
            "draggable": false,
            "icon": null,
            "keyboard": true,
            "location": [
              47.498826,
              19.049745
            ],
            "name": "",
            "opacity": 0.9,
            "options": [
              "alt",
              "draggable",
              "keyboard",
              "rise_offset",
              "rise_on_hover",
              "rotation_angle",
              "rotation_origin",
              "title",
              "z_index_offset"
            ],
            "pane": "",
            "popup": null,
            "popup_max_height": null,
            "popup_max_width": 300,
            "popup_min_width": 50,
            "rise_offset": 250,
            "rise_on_hover": false,
            "rotation_angle": 0,
            "rotation_origin": "",
            "title": "Battery Level: 90%, range: 28.0 km",
            "visible": true,
            "z_index_offset": 0
          }
        },
        "1ca12f03d7ff460392ec98336f985783": {
          "model_module": "jupyter-leaflet",
          "model_name": "LeafletMarkerModel",
          "model_module_version": "^0.17.0",
          "state": {
            "_model_module": "jupyter-leaflet",
            "_model_module_version": "^0.17.0",
            "_model_name": "LeafletMarkerModel",
            "_view_count": null,
            "_view_module": "jupyter-leaflet",
            "_view_module_version": "^0.17.0",
            "_view_name": "LeafletMarkerView",
            "alt": "",
            "base": false,
            "bottom": false,
            "draggable": false,
            "icon": null,
            "keyboard": true,
            "location": [
              47.501096,
              19.062987
            ],
            "name": "",
            "opacity": 0.57,
            "options": [
              "alt",
              "draggable",
              "keyboard",
              "rise_offset",
              "rise_on_hover",
              "rotation_angle",
              "rotation_origin",
              "title",
              "z_index_offset"
            ],
            "pane": "",
            "popup": null,
            "popup_max_height": null,
            "popup_max_width": 300,
            "popup_min_width": 50,
            "rise_offset": 250,
            "rise_on_hover": false,
            "rotation_angle": 0,
            "rotation_origin": "",
            "title": "Battery Level: 57%, range: 17.0 km",
            "visible": true,
            "z_index_offset": 0
          }
        },
        "b59b304dc5e84d39baa2e1b20f2d76db": {
          "model_module": "jupyter-leaflet",
          "model_name": "LeafletMarkerModel",
          "model_module_version": "^0.17.0",
          "state": {
            "_model_module": "jupyter-leaflet",
            "_model_module_version": "^0.17.0",
            "_model_name": "LeafletMarkerModel",
            "_view_count": null,
            "_view_module": "jupyter-leaflet",
            "_view_module_version": "^0.17.0",
            "_view_name": "LeafletMarkerView",
            "alt": "",
            "base": false,
            "bottom": false,
            "draggable": false,
            "icon": null,
            "keyboard": true,
            "location": [
              47.512398,
              19.050587
            ],
            "name": "",
            "opacity": 0.89,
            "options": [
              "alt",
              "draggable",
              "keyboard",
              "rise_offset",
              "rise_on_hover",
              "rotation_angle",
              "rotation_origin",
              "title",
              "z_index_offset"
            ],
            "pane": "",
            "popup": null,
            "popup_max_height": null,
            "popup_max_width": 300,
            "popup_min_width": 50,
            "rise_offset": 250,
            "rise_on_hover": false,
            "rotation_angle": 0,
            "rotation_origin": "",
            "title": "Battery Level: 89%, range: 28.0 km",
            "visible": true,
            "z_index_offset": 0
          }
        },
        "20e6dac874714fe5b4619f9e000a99ad": {
          "model_module": "jupyter-leaflet",
          "model_name": "LeafletMarkerModel",
          "model_module_version": "^0.17.0",
          "state": {
            "_model_module": "jupyter-leaflet",
            "_model_module_version": "^0.17.0",
            "_model_name": "LeafletMarkerModel",
            "_view_count": null,
            "_view_module": "jupyter-leaflet",
            "_view_module_version": "^0.17.0",
            "_view_name": "LeafletMarkerView",
            "alt": "",
            "base": false,
            "bottom": false,
            "draggable": false,
            "icon": null,
            "keyboard": true,
            "location": [
              47.514366,
              19.040019
            ],
            "name": "",
            "opacity": 0.55,
            "options": [
              "alt",
              "draggable",
              "keyboard",
              "rise_offset",
              "rise_on_hover",
              "rotation_angle",
              "rotation_origin",
              "title",
              "z_index_offset"
            ],
            "pane": "",
            "popup": null,
            "popup_max_height": null,
            "popup_max_width": 300,
            "popup_min_width": 50,
            "rise_offset": 250,
            "rise_on_hover": false,
            "rotation_angle": 0,
            "rotation_origin": "",
            "title": "Battery Level: 55%, range: 16.0 km",
            "visible": true,
            "z_index_offset": 0
          }
        },
        "c2d496b0d814473d9011938a2152b93f": {
          "model_module": "jupyter-leaflet",
          "model_name": "LeafletMarkerModel",
          "model_module_version": "^0.17.0",
          "state": {
            "_model_module": "jupyter-leaflet",
            "_model_module_version": "^0.17.0",
            "_model_name": "LeafletMarkerModel",
            "_view_count": null,
            "_view_module": "jupyter-leaflet",
            "_view_module_version": "^0.17.0",
            "_view_name": "LeafletMarkerView",
            "alt": "",
            "base": false,
            "bottom": false,
            "draggable": false,
            "icon": null,
            "keyboard": true,
            "location": [
              47.50185,
              19.058577
            ],
            "name": "",
            "opacity": 0.32,
            "options": [
              "alt",
              "draggable",
              "keyboard",
              "rise_offset",
              "rise_on_hover",
              "rotation_angle",
              "rotation_origin",
              "title",
              "z_index_offset"
            ],
            "pane": "",
            "popup": null,
            "popup_max_height": null,
            "popup_max_width": 300,
            "popup_min_width": 50,
            "rise_offset": 250,
            "rise_on_hover": false,
            "rotation_angle": 0,
            "rotation_origin": "",
            "title": "Battery Level: 32%, range: 8.0 km",
            "visible": true,
            "z_index_offset": 0
          }
        },
        "f0db64025b064554ae73fec0bad0e1e9": {
          "model_module": "jupyter-leaflet",
          "model_name": "LeafletMarkerModel",
          "model_module_version": "^0.17.0",
          "state": {
            "_model_module": "jupyter-leaflet",
            "_model_module_version": "^0.17.0",
            "_model_name": "LeafletMarkerModel",
            "_view_count": null,
            "_view_module": "jupyter-leaflet",
            "_view_module_version": "^0.17.0",
            "_view_name": "LeafletMarkerView",
            "alt": "",
            "base": false,
            "bottom": false,
            "draggable": false,
            "icon": null,
            "keyboard": true,
            "location": [
              47.496255,
              19.058471
            ],
            "name": "",
            "opacity": 0.94,
            "options": [
              "alt",
              "draggable",
              "keyboard",
              "rise_offset",
              "rise_on_hover",
              "rotation_angle",
              "rotation_origin",
              "title",
              "z_index_offset"
            ],
            "pane": "",
            "popup": null,
            "popup_max_height": null,
            "popup_max_width": 300,
            "popup_min_width": 50,
            "rise_offset": 250,
            "rise_on_hover": false,
            "rotation_angle": 0,
            "rotation_origin": "",
            "title": "Battery Level: 94%, range: 30.0 km",
            "visible": true,
            "z_index_offset": 0
          }
        },
        "54efeeacca0f4e8ba0237e838ca657b4": {
          "model_module": "jupyter-leaflet",
          "model_name": "LeafletMarkerModel",
          "model_module_version": "^0.17.0",
          "state": {
            "_model_module": "jupyter-leaflet",
            "_model_module_version": "^0.17.0",
            "_model_name": "LeafletMarkerModel",
            "_view_count": null,
            "_view_module": "jupyter-leaflet",
            "_view_module_version": "^0.17.0",
            "_view_name": "LeafletMarkerView",
            "alt": "",
            "base": false,
            "bottom": false,
            "draggable": false,
            "icon": null,
            "keyboard": true,
            "location": [
              47.507248,
              19.055221
            ],
            "name": "",
            "opacity": 0.93,
            "options": [
              "alt",
              "draggable",
              "keyboard",
              "rise_offset",
              "rise_on_hover",
              "rotation_angle",
              "rotation_origin",
              "title",
              "z_index_offset"
            ],
            "pane": "",
            "popup": null,
            "popup_max_height": null,
            "popup_max_width": 300,
            "popup_min_width": 50,
            "rise_offset": 250,
            "rise_on_hover": false,
            "rotation_angle": 0,
            "rotation_origin": "",
            "title": "Battery Level: 93%, range: 29.0 km",
            "visible": true,
            "z_index_offset": 0
          }
        },
        "bf941dd4d32d493c9145cd6fcdef0aed": {
          "model_module": "jupyter-leaflet",
          "model_name": "LeafletMarkerModel",
          "model_module_version": "^0.17.0",
          "state": {
            "_model_module": "jupyter-leaflet",
            "_model_module_version": "^0.17.0",
            "_model_name": "LeafletMarkerModel",
            "_view_count": null,
            "_view_module": "jupyter-leaflet",
            "_view_module_version": "^0.17.0",
            "_view_name": "LeafletMarkerView",
            "alt": "",
            "base": false,
            "bottom": false,
            "draggable": false,
            "icon": null,
            "keyboard": true,
            "location": [
              47.502964,
              19.064945
            ],
            "name": "",
            "opacity": 0.29,
            "options": [
              "alt",
              "draggable",
              "keyboard",
              "rise_offset",
              "rise_on_hover",
              "rotation_angle",
              "rotation_origin",
              "title",
              "z_index_offset"
            ],
            "pane": "",
            "popup": null,
            "popup_max_height": null,
            "popup_max_width": 300,
            "popup_min_width": 50,
            "rise_offset": 250,
            "rise_on_hover": false,
            "rotation_angle": 0,
            "rotation_origin": "",
            "title": "Battery Level: 29%, range: 7.0 km",
            "visible": true,
            "z_index_offset": 0
          }
        },
        "47ce1021d7934fa7a6f7c35624d45af1": {
          "model_module": "jupyter-leaflet",
          "model_name": "LeafletMarkerModel",
          "model_module_version": "^0.17.0",
          "state": {
            "_model_module": "jupyter-leaflet",
            "_model_module_version": "^0.17.0",
            "_model_name": "LeafletMarkerModel",
            "_view_count": null,
            "_view_module": "jupyter-leaflet",
            "_view_module_version": "^0.17.0",
            "_view_name": "LeafletMarkerView",
            "alt": "",
            "base": false,
            "bottom": false,
            "draggable": false,
            "icon": null,
            "keyboard": true,
            "location": [
              47.495355,
              19.064491
            ],
            "name": "",
            "opacity": 0.69,
            "options": [
              "alt",
              "draggable",
              "keyboard",
              "rise_offset",
              "rise_on_hover",
              "rotation_angle",
              "rotation_origin",
              "title",
              "z_index_offset"
            ],
            "pane": "",
            "popup": null,
            "popup_max_height": null,
            "popup_max_width": 300,
            "popup_min_width": 50,
            "rise_offset": 250,
            "rise_on_hover": false,
            "rotation_angle": 0,
            "rotation_origin": "",
            "title": "Battery Level: 69%, range: 21.0 km",
            "visible": true,
            "z_index_offset": 0
          }
        },
        "d05da3f10fc8464cb93d3ea58375e4e6": {
          "model_module": "jupyter-leaflet",
          "model_name": "LeafletMarkerModel",
          "model_module_version": "^0.17.0",
          "state": {
            "_model_module": "jupyter-leaflet",
            "_model_module_version": "^0.17.0",
            "_model_name": "LeafletMarkerModel",
            "_view_count": null,
            "_view_module": "jupyter-leaflet",
            "_view_module_version": "^0.17.0",
            "_view_name": "LeafletMarkerView",
            "alt": "",
            "base": false,
            "bottom": false,
            "draggable": false,
            "icon": null,
            "keyboard": true,
            "location": [
              47.495353,
              19.064638
            ],
            "name": "",
            "opacity": 0.43,
            "options": [
              "alt",
              "draggable",
              "keyboard",
              "rise_offset",
              "rise_on_hover",
              "rotation_angle",
              "rotation_origin",
              "title",
              "z_index_offset"
            ],
            "pane": "",
            "popup": null,
            "popup_max_height": null,
            "popup_max_width": 300,
            "popup_min_width": 50,
            "rise_offset": 250,
            "rise_on_hover": false,
            "rotation_angle": 0,
            "rotation_origin": "",
            "title": "Battery Level: 43%, range: 12.0 km",
            "visible": true,
            "z_index_offset": 0
          }
        },
        "a1e72e5929be412a934896c0599f563c": {
          "model_module": "jupyter-leaflet",
          "model_name": "LeafletMarkerModel",
          "model_module_version": "^0.17.0",
          "state": {
            "_model_module": "jupyter-leaflet",
            "_model_module_version": "^0.17.0",
            "_model_name": "LeafletMarkerModel",
            "_view_count": null,
            "_view_module": "jupyter-leaflet",
            "_view_module_version": "^0.17.0",
            "_view_name": "LeafletMarkerView",
            "alt": "",
            "base": false,
            "bottom": false,
            "draggable": false,
            "icon": null,
            "keyboard": true,
            "location": [
              47.507226,
              19.055099
            ],
            "name": "",
            "opacity": 0.66,
            "options": [
              "alt",
              "draggable",
              "keyboard",
              "rise_offset",
              "rise_on_hover",
              "rotation_angle",
              "rotation_origin",
              "title",
              "z_index_offset"
            ],
            "pane": "",
            "popup": null,
            "popup_max_height": null,
            "popup_max_width": 300,
            "popup_min_width": 50,
            "rise_offset": 250,
            "rise_on_hover": false,
            "rotation_angle": 0,
            "rotation_origin": "",
            "title": "Battery Level: 66%, range: 20.0 km",
            "visible": true,
            "z_index_offset": 0
          }
        },
        "94fa36ea1b454cd59ffc87c443f79fda": {
          "model_module": "jupyter-leaflet",
          "model_name": "LeafletMarkerModel",
          "model_module_version": "^0.17.0",
          "state": {
            "_model_module": "jupyter-leaflet",
            "_model_module_version": "^0.17.0",
            "_model_name": "LeafletMarkerModel",
            "_view_count": null,
            "_view_module": "jupyter-leaflet",
            "_view_module_version": "^0.17.0",
            "_view_name": "LeafletMarkerView",
            "alt": "",
            "base": false,
            "bottom": false,
            "draggable": false,
            "icon": null,
            "keyboard": true,
            "location": [
              47.503628,
              19.065492
            ],
            "name": "",
            "opacity": 0.43,
            "options": [
              "alt",
              "draggable",
              "keyboard",
              "rise_offset",
              "rise_on_hover",
              "rotation_angle",
              "rotation_origin",
              "title",
              "z_index_offset"
            ],
            "pane": "",
            "popup": null,
            "popup_max_height": null,
            "popup_max_width": 300,
            "popup_min_width": 50,
            "rise_offset": 250,
            "rise_on_hover": false,
            "rotation_angle": 0,
            "rotation_origin": "",
            "title": "Battery Level: 43%, range: 12.0 km",
            "visible": true,
            "z_index_offset": 0
          }
        },
        "77e71d2eab4644cda1f3433d14d67161": {
          "model_module": "jupyter-leaflet",
          "model_name": "LeafletMarkerModel",
          "model_module_version": "^0.17.0",
          "state": {
            "_model_module": "jupyter-leaflet",
            "_model_module_version": "^0.17.0",
            "_model_name": "LeafletMarkerModel",
            "_view_count": null,
            "_view_module": "jupyter-leaflet",
            "_view_module_version": "^0.17.0",
            "_view_name": "LeafletMarkerView",
            "alt": "",
            "base": false,
            "bottom": false,
            "draggable": false,
            "icon": null,
            "keyboard": true,
            "location": [
              47.501082,
              19.056238
            ],
            "name": "",
            "opacity": 0.54,
            "options": [
              "alt",
              "draggable",
              "keyboard",
              "rise_offset",
              "rise_on_hover",
              "rotation_angle",
              "rotation_origin",
              "title",
              "z_index_offset"
            ],
            "pane": "",
            "popup": null,
            "popup_max_height": null,
            "popup_max_width": 300,
            "popup_min_width": 50,
            "rise_offset": 250,
            "rise_on_hover": false,
            "rotation_angle": 0,
            "rotation_origin": "",
            "title": "Battery Level: 54%, range: 16.0 km",
            "visible": true,
            "z_index_offset": 0
          }
        },
        "5dfe33ac074a467b84d716809b6574e3": {
          "model_module": "jupyter-leaflet",
          "model_name": "LeafletMarkerModel",
          "model_module_version": "^0.17.0",
          "state": {
            "_model_module": "jupyter-leaflet",
            "_model_module_version": "^0.17.0",
            "_model_name": "LeafletMarkerModel",
            "_view_count": null,
            "_view_module": "jupyter-leaflet",
            "_view_module_version": "^0.17.0",
            "_view_name": "LeafletMarkerView",
            "alt": "",
            "base": false,
            "bottom": false,
            "draggable": false,
            "icon": null,
            "keyboard": true,
            "location": [
              47.496423,
              19.058089
            ],
            "name": "",
            "opacity": 0.45,
            "options": [
              "alt",
              "draggable",
              "keyboard",
              "rise_offset",
              "rise_on_hover",
              "rotation_angle",
              "rotation_origin",
              "title",
              "z_index_offset"
            ],
            "pane": "",
            "popup": null,
            "popup_max_height": null,
            "popup_max_width": 300,
            "popup_min_width": 50,
            "rise_offset": 250,
            "rise_on_hover": false,
            "rotation_angle": 0,
            "rotation_origin": "",
            "title": "Battery Level: 45%, range: 12.0 km",
            "visible": true,
            "z_index_offset": 0
          }
        },
        "17982ba1b826409dbbd883dbcccd1776": {
          "model_module": "jupyter-leaflet",
          "model_name": "LeafletMarkerModel",
          "model_module_version": "^0.17.0",
          "state": {
            "_model_module": "jupyter-leaflet",
            "_model_module_version": "^0.17.0",
            "_model_name": "LeafletMarkerModel",
            "_view_count": null,
            "_view_module": "jupyter-leaflet",
            "_view_module_version": "^0.17.0",
            "_view_name": "LeafletMarkerView",
            "alt": "",
            "base": false,
            "bottom": false,
            "draggable": false,
            "icon": null,
            "keyboard": true,
            "location": [
              47.494037,
              19.038642
            ],
            "name": "",
            "opacity": 0.4,
            "options": [
              "alt",
              "draggable",
              "keyboard",
              "rise_offset",
              "rise_on_hover",
              "rotation_angle",
              "rotation_origin",
              "title",
              "z_index_offset"
            ],
            "pane": "",
            "popup": null,
            "popup_max_height": null,
            "popup_max_width": 300,
            "popup_min_width": 50,
            "rise_offset": 250,
            "rise_on_hover": false,
            "rotation_angle": 0,
            "rotation_origin": "",
            "title": "Battery Level: 40%, range: 11.0 km",
            "visible": true,
            "z_index_offset": 0
          }
        },
        "7f284cd9cfff4d7f9ae745900f23ca62": {
          "model_module": "jupyter-leaflet",
          "model_name": "LeafletMarkerModel",
          "model_module_version": "^0.17.0",
          "state": {
            "_model_module": "jupyter-leaflet",
            "_model_module_version": "^0.17.0",
            "_model_name": "LeafletMarkerModel",
            "_view_count": null,
            "_view_module": "jupyter-leaflet",
            "_view_module_version": "^0.17.0",
            "_view_name": "LeafletMarkerView",
            "alt": "",
            "base": false,
            "bottom": false,
            "draggable": false,
            "icon": null,
            "keyboard": true,
            "location": [
              47.509523,
              19.055317
            ],
            "name": "",
            "opacity": 0.92,
            "options": [
              "alt",
              "draggable",
              "keyboard",
              "rise_offset",
              "rise_on_hover",
              "rotation_angle",
              "rotation_origin",
              "title",
              "z_index_offset"
            ],
            "pane": "",
            "popup": null,
            "popup_max_height": null,
            "popup_max_width": 300,
            "popup_min_width": 50,
            "rise_offset": 250,
            "rise_on_hover": false,
            "rotation_angle": 0,
            "rotation_origin": "",
            "title": "Battery Level: 92%, range: 29.0 km",
            "visible": true,
            "z_index_offset": 0
          }
        },
        "ede7c46acb74438799da0ee9f15aa744": {
          "model_module": "jupyter-leaflet",
          "model_name": "LeafletMarkerModel",
          "model_module_version": "^0.17.0",
          "state": {
            "_model_module": "jupyter-leaflet",
            "_model_module_version": "^0.17.0",
            "_model_name": "LeafletMarkerModel",
            "_view_count": null,
            "_view_module": "jupyter-leaflet",
            "_view_module_version": "^0.17.0",
            "_view_name": "LeafletMarkerView",
            "alt": "",
            "base": false,
            "bottom": false,
            "draggable": false,
            "icon": null,
            "keyboard": true,
            "location": [
              47.505744,
              19.055377
            ],
            "name": "",
            "opacity": 0.85,
            "options": [
              "alt",
              "draggable",
              "keyboard",
              "rise_offset",
              "rise_on_hover",
              "rotation_angle",
              "rotation_origin",
              "title",
              "z_index_offset"
            ],
            "pane": "",
            "popup": null,
            "popup_max_height": null,
            "popup_max_width": 300,
            "popup_min_width": 50,
            "rise_offset": 250,
            "rise_on_hover": false,
            "rotation_angle": 0,
            "rotation_origin": "",
            "title": "Battery Level: 85%, range: 26.0 km",
            "visible": true,
            "z_index_offset": 0
          }
        },
        "1d6fc77e67e4434d8ac193e08039ade9": {
          "model_module": "jupyter-leaflet",
          "model_name": "LeafletMarkerModel",
          "model_module_version": "^0.17.0",
          "state": {
            "_model_module": "jupyter-leaflet",
            "_model_module_version": "^0.17.0",
            "_model_name": "LeafletMarkerModel",
            "_view_count": null,
            "_view_module": "jupyter-leaflet",
            "_view_module_version": "^0.17.0",
            "_view_name": "LeafletMarkerView",
            "alt": "",
            "base": false,
            "bottom": false,
            "draggable": false,
            "icon": null,
            "keyboard": true,
            "location": [
              47.495352,
              19.064545
            ],
            "name": "",
            "opacity": 0.89,
            "options": [
              "alt",
              "draggable",
              "keyboard",
              "rise_offset",
              "rise_on_hover",
              "rotation_angle",
              "rotation_origin",
              "title",
              "z_index_offset"
            ],
            "pane": "",
            "popup": null,
            "popup_max_height": null,
            "popup_max_width": 300,
            "popup_min_width": 50,
            "rise_offset": 250,
            "rise_on_hover": false,
            "rotation_angle": 0,
            "rotation_origin": "",
            "title": "Battery Level: 89%, range: 28.0 km",
            "visible": true,
            "z_index_offset": 0
          }
        },
        "3c5df8c79d2b41fea91d2c2a87c5aa9c": {
          "model_module": "jupyter-leaflet",
          "model_name": "LeafletMarkerModel",
          "model_module_version": "^0.17.0",
          "state": {
            "_model_module": "jupyter-leaflet",
            "_model_module_version": "^0.17.0",
            "_model_name": "LeafletMarkerModel",
            "_view_count": null,
            "_view_module": "jupyter-leaflet",
            "_view_module_version": "^0.17.0",
            "_view_name": "LeafletMarkerView",
            "alt": "",
            "base": false,
            "bottom": false,
            "draggable": false,
            "icon": null,
            "keyboard": true,
            "location": [
              47.512021,
              19.050407
            ],
            "name": "",
            "opacity": 0.92,
            "options": [
              "alt",
              "draggable",
              "keyboard",
              "rise_offset",
              "rise_on_hover",
              "rotation_angle",
              "rotation_origin",
              "title",
              "z_index_offset"
            ],
            "pane": "",
            "popup": null,
            "popup_max_height": null,
            "popup_max_width": 300,
            "popup_min_width": 50,
            "rise_offset": 250,
            "rise_on_hover": false,
            "rotation_angle": 0,
            "rotation_origin": "",
            "title": "Battery Level: 92%, range: 29.0 km",
            "visible": true,
            "z_index_offset": 0
          }
        },
        "6372d89a13d3428798cd3bf54edb8572": {
          "model_module": "jupyter-leaflet",
          "model_name": "LeafletMarkerModel",
          "model_module_version": "^0.17.0",
          "state": {
            "_model_module": "jupyter-leaflet",
            "_model_module_version": "^0.17.0",
            "_model_name": "LeafletMarkerModel",
            "_view_count": null,
            "_view_module": "jupyter-leaflet",
            "_view_module_version": "^0.17.0",
            "_view_name": "LeafletMarkerView",
            "alt": "",
            "base": false,
            "bottom": false,
            "draggable": false,
            "icon": null,
            "keyboard": true,
            "location": [
              47.503369,
              19.056889
            ],
            "name": "",
            "opacity": 0.33,
            "options": [
              "alt",
              "draggable",
              "keyboard",
              "rise_offset",
              "rise_on_hover",
              "rotation_angle",
              "rotation_origin",
              "title",
              "z_index_offset"
            ],
            "pane": "",
            "popup": null,
            "popup_max_height": null,
            "popup_max_width": 300,
            "popup_min_width": 50,
            "rise_offset": 250,
            "rise_on_hover": false,
            "rotation_angle": 0,
            "rotation_origin": "",
            "title": "Battery Level: 33%, range: 8.0 km",
            "visible": true,
            "z_index_offset": 0
          }
        },
        "758a18ee428541dea190ae9609460f3d": {
          "model_module": "jupyter-leaflet",
          "model_name": "LeafletMarkerModel",
          "model_module_version": "^0.17.0",
          "state": {
            "_model_module": "jupyter-leaflet",
            "_model_module_version": "^0.17.0",
            "_model_name": "LeafletMarkerModel",
            "_view_count": null,
            "_view_module": "jupyter-leaflet",
            "_view_module_version": "^0.17.0",
            "_view_name": "LeafletMarkerView",
            "alt": "",
            "base": false,
            "bottom": false,
            "draggable": false,
            "icon": null,
            "keyboard": true,
            "location": [
              47.495709,
              19.064334
            ],
            "name": "",
            "opacity": 0.48,
            "options": [
              "alt",
              "draggable",
              "keyboard",
              "rise_offset",
              "rise_on_hover",
              "rotation_angle",
              "rotation_origin",
              "title",
              "z_index_offset"
            ],
            "pane": "",
            "popup": null,
            "popup_max_height": null,
            "popup_max_width": 300,
            "popup_min_width": 50,
            "rise_offset": 250,
            "rise_on_hover": false,
            "rotation_angle": 0,
            "rotation_origin": "",
            "title": "Battery Level: 48%, range: 14.0 km",
            "visible": true,
            "z_index_offset": 0
          }
        },
        "0841e51ab5b443e58e0ed574e490838d": {
          "model_module": "jupyter-leaflet",
          "model_name": "LeafletMarkerModel",
          "model_module_version": "^0.17.0",
          "state": {
            "_model_module": "jupyter-leaflet",
            "_model_module_version": "^0.17.0",
            "_model_name": "LeafletMarkerModel",
            "_view_count": null,
            "_view_module": "jupyter-leaflet",
            "_view_module_version": "^0.17.0",
            "_view_name": "LeafletMarkerView",
            "alt": "",
            "base": false,
            "bottom": false,
            "draggable": false,
            "icon": null,
            "keyboard": true,
            "location": [
              47.503658,
              19.065212
            ],
            "name": "",
            "opacity": 0.73,
            "options": [
              "alt",
              "draggable",
              "keyboard",
              "rise_offset",
              "rise_on_hover",
              "rotation_angle",
              "rotation_origin",
              "title",
              "z_index_offset"
            ],
            "pane": "",
            "popup": null,
            "popup_max_height": null,
            "popup_max_width": 300,
            "popup_min_width": 50,
            "rise_offset": 250,
            "rise_on_hover": false,
            "rotation_angle": 0,
            "rotation_origin": "",
            "title": "Battery Level: 73%, range: 22.0 km",
            "visible": true,
            "z_index_offset": 0
          }
        },
        "a796cea6bcae4baf9ed93471c7e33f42": {
          "model_module": "jupyter-leaflet",
          "model_name": "LeafletMarkerModel",
          "model_module_version": "^0.17.0",
          "state": {
            "_model_module": "jupyter-leaflet",
            "_model_module_version": "^0.17.0",
            "_model_name": "LeafletMarkerModel",
            "_view_count": null,
            "_view_module": "jupyter-leaflet",
            "_view_module_version": "^0.17.0",
            "_view_name": "LeafletMarkerView",
            "alt": "",
            "base": false,
            "bottom": false,
            "draggable": false,
            "icon": null,
            "keyboard": true,
            "location": [
              47.495498,
              19.064174
            ],
            "name": "",
            "opacity": 0.24,
            "options": [
              "alt",
              "draggable",
              "keyboard",
              "rise_offset",
              "rise_on_hover",
              "rotation_angle",
              "rotation_origin",
              "title",
              "z_index_offset"
            ],
            "pane": "",
            "popup": null,
            "popup_max_height": null,
            "popup_max_width": 300,
            "popup_min_width": 50,
            "rise_offset": 250,
            "rise_on_hover": false,
            "rotation_angle": 0,
            "rotation_origin": "",
            "title": "Battery Level: 24%, range: 5.0 km",
            "visible": true,
            "z_index_offset": 0
          }
        },
        "1a4d4692dc524f949ecb100072e36651": {
          "model_module": "jupyter-leaflet",
          "model_name": "LeafletMarkerModel",
          "model_module_version": "^0.17.0",
          "state": {
            "_model_module": "jupyter-leaflet",
            "_model_module_version": "^0.17.0",
            "_model_name": "LeafletMarkerModel",
            "_view_count": null,
            "_view_module": "jupyter-leaflet",
            "_view_module_version": "^0.17.0",
            "_view_name": "LeafletMarkerView",
            "alt": "",
            "base": false,
            "bottom": false,
            "draggable": false,
            "icon": null,
            "keyboard": true,
            "location": [
              47.502696,
              19.035597
            ],
            "name": "",
            "opacity": 0.41,
            "options": [
              "alt",
              "draggable",
              "keyboard",
              "rise_offset",
              "rise_on_hover",
              "rotation_angle",
              "rotation_origin",
              "title",
              "z_index_offset"
            ],
            "pane": "",
            "popup": null,
            "popup_max_height": null,
            "popup_max_width": 300,
            "popup_min_width": 50,
            "rise_offset": 250,
            "rise_on_hover": false,
            "rotation_angle": 0,
            "rotation_origin": "",
            "title": "Battery Level: 41%, range: 11.0 km",
            "visible": true,
            "z_index_offset": 0
          }
        },
        "d59d0e2641d64571877d434b55358517": {
          "model_module": "jupyter-leaflet",
          "model_name": "LeafletMarkerModel",
          "model_module_version": "^0.17.0",
          "state": {
            "_model_module": "jupyter-leaflet",
            "_model_module_version": "^0.17.0",
            "_model_name": "LeafletMarkerModel",
            "_view_count": null,
            "_view_module": "jupyter-leaflet",
            "_view_module_version": "^0.17.0",
            "_view_name": "LeafletMarkerView",
            "alt": "",
            "base": false,
            "bottom": false,
            "draggable": false,
            "icon": null,
            "keyboard": true,
            "location": [
              47.495408,
              19.064314
            ],
            "name": "",
            "opacity": 0.76,
            "options": [
              "alt",
              "draggable",
              "keyboard",
              "rise_offset",
              "rise_on_hover",
              "rotation_angle",
              "rotation_origin",
              "title",
              "z_index_offset"
            ],
            "pane": "",
            "popup": null,
            "popup_max_height": null,
            "popup_max_width": 300,
            "popup_min_width": 50,
            "rise_offset": 250,
            "rise_on_hover": false,
            "rotation_angle": 0,
            "rotation_origin": "",
            "title": "Battery Level: 76%, range: 23.0 km",
            "visible": true,
            "z_index_offset": 0
          }
        },
        "4f8f1a8f1015403190df4fd8656b510e": {
          "model_module": "jupyter-leaflet",
          "model_name": "LeafletMarkerModel",
          "model_module_version": "^0.17.0",
          "state": {
            "_model_module": "jupyter-leaflet",
            "_model_module_version": "^0.17.0",
            "_model_name": "LeafletMarkerModel",
            "_view_count": null,
            "_view_module": "jupyter-leaflet",
            "_view_module_version": "^0.17.0",
            "_view_name": "LeafletMarkerView",
            "alt": "",
            "base": false,
            "bottom": false,
            "draggable": false,
            "icon": null,
            "keyboard": true,
            "location": [
              47.49551,
              19.064198
            ],
            "name": "",
            "opacity": 0.24,
            "options": [
              "alt",
              "draggable",
              "keyboard",
              "rise_offset",
              "rise_on_hover",
              "rotation_angle",
              "rotation_origin",
              "title",
              "z_index_offset"
            ],
            "pane": "",
            "popup": null,
            "popup_max_height": null,
            "popup_max_width": 300,
            "popup_min_width": 50,
            "rise_offset": 250,
            "rise_on_hover": false,
            "rotation_angle": 0,
            "rotation_origin": "",
            "title": "Battery Level: 24%, range: 5.0 km",
            "visible": true,
            "z_index_offset": 0
          }
        },
        "439f6158a1f040fdb22561f919e87127": {
          "model_module": "jupyter-leaflet",
          "model_name": "LeafletMarkerModel",
          "model_module_version": "^0.17.0",
          "state": {
            "_model_module": "jupyter-leaflet",
            "_model_module_version": "^0.17.0",
            "_model_name": "LeafletMarkerModel",
            "_view_count": null,
            "_view_module": "jupyter-leaflet",
            "_view_module_version": "^0.17.0",
            "_view_name": "LeafletMarkerView",
            "alt": "",
            "base": false,
            "bottom": false,
            "draggable": false,
            "icon": null,
            "keyboard": true,
            "location": [
              47.511849,
              19.051896
            ],
            "name": "",
            "opacity": 0.92,
            "options": [
              "alt",
              "draggable",
              "keyboard",
              "rise_offset",
              "rise_on_hover",
              "rotation_angle",
              "rotation_origin",
              "title",
              "z_index_offset"
            ],
            "pane": "",
            "popup": null,
            "popup_max_height": null,
            "popup_max_width": 300,
            "popup_min_width": 50,
            "rise_offset": 250,
            "rise_on_hover": false,
            "rotation_angle": 0,
            "rotation_origin": "",
            "title": "Battery Level: 92%, range: 29.0 km",
            "visible": true,
            "z_index_offset": 0
          }
        },
        "b259655d0fc84f60859978811f6e8f16": {
          "model_module": "jupyter-leaflet",
          "model_name": "LeafletMarkerModel",
          "model_module_version": "^0.17.0",
          "state": {
            "_model_module": "jupyter-leaflet",
            "_model_module_version": "^0.17.0",
            "_model_name": "LeafletMarkerModel",
            "_view_count": null,
            "_view_module": "jupyter-leaflet",
            "_view_module_version": "^0.17.0",
            "_view_name": "LeafletMarkerView",
            "alt": "",
            "base": false,
            "bottom": false,
            "draggable": false,
            "icon": null,
            "keyboard": true,
            "location": [
              47.503646,
              19.065217
            ],
            "name": "",
            "opacity": 0.79,
            "options": [
              "alt",
              "draggable",
              "keyboard",
              "rise_offset",
              "rise_on_hover",
              "rotation_angle",
              "rotation_origin",
              "title",
              "z_index_offset"
            ],
            "pane": "",
            "popup": null,
            "popup_max_height": null,
            "popup_max_width": 300,
            "popup_min_width": 50,
            "rise_offset": 250,
            "rise_on_hover": false,
            "rotation_angle": 0,
            "rotation_origin": "",
            "title": "Battery Level: 79%, range: 24.0 km",
            "visible": true,
            "z_index_offset": 0
          }
        },
        "23db5d5ff31745f59a7fc6316c9d9c4d": {
          "model_module": "jupyter-leaflet",
          "model_name": "LeafletMarkerModel",
          "model_module_version": "^0.17.0",
          "state": {
            "_model_module": "jupyter-leaflet",
            "_model_module_version": "^0.17.0",
            "_model_name": "LeafletMarkerModel",
            "_view_count": null,
            "_view_module": "jupyter-leaflet",
            "_view_module_version": "^0.17.0",
            "_view_name": "LeafletMarkerView",
            "alt": "",
            "base": false,
            "bottom": false,
            "draggable": false,
            "icon": null,
            "keyboard": true,
            "location": [
              47.495568,
              19.058824
            ],
            "name": "",
            "opacity": 0.88,
            "options": [
              "alt",
              "draggable",
              "keyboard",
              "rise_offset",
              "rise_on_hover",
              "rotation_angle",
              "rotation_origin",
              "title",
              "z_index_offset"
            ],
            "pane": "",
            "popup": null,
            "popup_max_height": null,
            "popup_max_width": 300,
            "popup_min_width": 50,
            "rise_offset": 250,
            "rise_on_hover": false,
            "rotation_angle": 0,
            "rotation_origin": "",
            "title": "Battery Level: 88%, range: 28.0 km",
            "visible": true,
            "z_index_offset": 0
          }
        },
        "d154c3a137f34e7b86632c4b57c3c3d4": {
          "model_module": "jupyter-leaflet",
          "model_name": "LeafletGeoJSONModel",
          "model_module_version": "^0.17.0",
          "state": {
            "_model_module": "jupyter-leaflet",
            "_model_module_version": "^0.17.0",
            "_model_name": "LeafletGeoJSONModel",
            "_view_count": null,
            "_view_module": "jupyter-leaflet",
            "_view_module_version": "^0.17.0",
            "_view_name": "LeafletGeoJSONView",
            "base": false,
            "bottom": false,
            "data": {
              "type": "FeatureCollection",
              "bbox": [
                18.734476,
                47.271321,
                19.393118,
                47.733741
              ],
              "features": [
                {
                  "type": "Feature",
                  "properties": {
                    "group_index": 0,
                    "value": 28000,
                    "center": [
                      19.04973948997866,
                      47.498825525772126
                    ],
                    "style": {
                      "color": "black",
                      "fillColor": "yellow"
                    }
                  },
                  "geometry": {
                    "coordinates": [
                      [
                        [
                          18.734476,
                          47.542017
                        ],
                        [
                          18.738537,
                          47.535307
                        ],
                        [
                          18.739451,
                          47.534995
                        ],
                        [
                          18.743039,
                          47.534703
                        ],
                        [
                          18.750907,
                          47.537952
                        ],
                        [
                          18.756399,
                          47.536884
                        ],
                        [
                          18.761431,
                          47.533871
                        ],
                        [
                          18.765863,
                          47.531383
                        ],
                        [
                          18.769392,
                          47.529431
                        ],
                        [
                          18.772158,
                          47.527753
                        ],
                        [
                          18.774702,
                          47.526292
                        ],
                        [
                          18.777246,
                          47.524831
                        ],
                        [
                          18.788559,
                          47.526826
                        ],
                        [
                          18.790136,
                          47.519929
                        ],
                        [
                          18.794893,
                          47.511595
                        ],
                        [
                          18.792725,
                          47.507781
                        ],
                        [
                          18.796098,
                          47.498083
                        ],
                        [
                          18.791262,
                          47.495717
                        ],
                        [
                          18.782685,
                          47.496133
                        ],
                        [
                          18.777692,
                          47.498699
                        ],
                        [
                          18.772764,
                          47.495864
                        ],
                        [
                          18.762247,
                          47.498764
                        ],
                        [
                          18.761809,
                          47.50337
                        ],
                        [
                          18.761764,
                          47.504536
                        ],
                        [
                          18.758167,
                          47.504396
                        ],
                        [
                          18.754478,
                          47.501631
                        ],
                        [
                          18.751498,
                          47.499817
                        ],
                        [
                          18.745504,
                          47.496439
                        ],
                        [
                          18.743759,
                          47.494445
                        ],
                        [
                          18.74376,
                          47.494429
                        ],
                        [
                          18.74984,
                          47.486045
                        ],
                        [
                          18.751505,
                          47.482853
                        ],
                        [
                          18.753293,
                          47.483786
                        ],
                        [
                          18.760368,
                          47.487349
                        ],
                        [
                          18.770483,
                          47.482258
                        ],
                        [
                          18.774474,
                          47.483791
                        ],
                        [
                          18.783341,
                          47.478525
                        ],
                        [
                          18.790831,
                          47.475568
                        ],
                        [
                          18.795654,
                          47.472266
                        ],
                        [
                          18.80402,
                          47.464924
                        ],
                        [
                          18.800414,
                          47.459648
                        ],
                        [
                          18.791041,
                          47.459828
                        ],
                        [
                          18.785616,
                          47.458873
                        ],
                        [
                          18.780249,
                          47.456809
                        ],
                        [
                          18.771472,
                          47.456506
                        ],
                        [
                          18.764807,
                          47.465068
                        ],
                        [
                          18.764684,
                          47.465819
                        ],
                        [
                          18.764615,
                          47.465995
                        ],
                        [
                          18.762633,
                          47.466637
                        ],
                        [
                          18.757658,
                          47.467568
                        ],
                        [
                          18.755409,
                          47.464757
                        ],
                        [
                          18.754478,
                          47.460192
                        ],
                        [
                          18.753118,
                          47.45614
                        ],
                        [
                          18.751953,
                          47.452038
                        ],
                        [
                          18.751567,
                          47.450743
                        ],
                        [
                          18.751222,
                          47.447083
                        ],
                        [
                          18.751404,
                          47.446247
                        ],
                        [
                          18.752788,
                          47.444133
                        ],
                        [
                          18.753102,
                          47.444026
                        ],
                        [
                          18.759891,
                          47.443319
                        ],
                        [
                          18.765564,
                          47.440427
                        ],
                        [
                          18.768044,
                          47.442309
                        ],
                        [
                          18.77825,
                          47.441755
                        ],
                        [
                          18.780048,
                          47.439667
                        ],
                        [
                          18.781169,
                          47.429016
                        ],
                        [
                          18.7831,
                          47.426972
                        ],
                        [
                          18.785031,
                          47.424928
                        ],
                        [
                          18.785803,
                          47.414268
                        ],
                        [
                          18.783783,
                          47.411288
                        ],
                        [
                          18.782992,
                          47.406346
                        ],
                        [
                          18.782768,
                          47.404624
                        ],
                        [
                          18.782839,
                          47.403575
                        ],
                        [
                          18.783002,
                          47.40251
                        ],
                        [
                          18.784213,
                          47.40152
                        ],
                        [
                          18.784588,
                          47.401421
                        ],
                        [
                          18.792962,
                          47.396029
                        ],
                        [
                          18.793232,
                          47.384399
                        ],
                        [
                          18.793377,
                          47.380309
                        ],
                        [
                          18.794099,
                          47.376992
                        ],
                        [
                          18.794196,
                          47.376887
                        ],
                        [
                          18.795304,
                          47.376195
                        ],
                        [
                          18.803461,
                          47.368044
                        ],
                        [
                          18.804783,
                          47.35943
                        ],
                        [
                          18.806171,
                          47.356108
                        ],
                        [
                          18.807685,
                          47.35674
                        ],
                        [
                          18.809897,
                          47.357758
                        ],
                        [
                          18.817222,
                          47.34866
                        ],
                        [
                          18.817685,
                          47.346267
                        ],
                        [
                          18.821653,
                          47.338846
                        ],
                        [
                          18.825321,
                          47.333557
                        ],
                        [
                          18.826514,
                          47.334009
                        ],
                        [
                          18.827863,
                          47.334629
                        ],
                        [
                          18.836578,
                          47.336472
                        ],
                        [
                          18.845685,
                          47.332629
                        ],
                        [
                          18.855918,
                          47.331774
                        ],
                        [
                          18.86283,
                          47.326388
                        ],
                        [
                          18.863773,
                          47.326416
                        ],
                        [
                          18.874931,
                          47.324505
                        ],
                        [
                          18.877415,
                          47.321899
                        ],
                        [
                          18.88229,
                          47.322575
                        ],
                        [
                          18.882488,
                          47.322696
                        ],
                        [
                          18.88278,
                          47.325562
                        ],
                        [
                          18.886685,
                          47.330523
                        ],
                        [
                          18.896214,
                          47.325009
                        ],
                        [
                          18.900738,
                          47.316999
                        ],
                        [
                          18.895825,
                          47.310595
                        ],
                        [
                          18.89524,
                          47.309337
                        ],
                        [
                          18.896688,
                          47.306717
                        ],
                        [
                          18.896927,
                          47.306642
                        ],
                        [
                          18.898963,
                          47.307021
                        ],
                        [
                          18.908869,
                          47.301648
                        ],
                        [
                          18.909292,
                          47.301599
                        ],
                        [
                          18.913397,
                          47.303056
                        ],
                        [
                          18.918912,
                          47.304872
                        ],
                        [
                          18.920498,
                          47.305565
                        ],
                        [
                          18.922943,
                          47.306301
                        ],
                        [
                          18.924869,
                          47.306775
                        ],
                        [
                          18.928187,
                          47.307818
                        ],
                        [
                          18.928489,
                          47.308144
                        ],
                        [
                          18.937447,
                          47.309545
                        ],
                        [
                          18.939481,
                          47.301248
                        ],
                        [
                          18.938182,
                          47.299216
                        ],
                        [
                          18.941216,
                          47.297277
                        ],
                        [
                          18.949167,
                          47.294736
                        ],
                        [
                          18.954547,
                          47.295562
                        ],
                        [
                          18.959823,
                          47.289189
                        ],
                        [
                          18.960543,
                          47.288287
                        ],
                        [
                          18.962707,
                          47.287034
                        ],
                        [
                          18.963914,
                          47.287025
                        ],
                        [
                          18.970925,
                          47.287751
                        ],
                        [
                          18.980792,
                          47.28807
                        ],
                        [
                          18.988186,
                          47.282034
                        ],
                        [
                          18.989361,
                          47.277738
                        ],
                        [
                          18.993234,
                          47.27534
                        ],
                        [
                          18.993928,
                          47.275253
                        ],
                        [
                          19.004476,
                          47.274962
                        ],
                        [
                          19.013144,
                          47.274402
                        ],
                        [
                          19.01427,
                          47.277822
                        ],
                        [
                          19.026249,
                          47.277844
                        ],
                        [
                          19.029786,
                          47.277173
                        ],
                        [
                          19.032412,
                          47.276497
                        ],
                        [
                          19.040012,
                          47.277657
                        ],
                        [
                          19.050112,
                          47.277556
                        ],
                        [
                          19.060205,
                          47.274469
                        ],
                        [
                          19.062357,
                          47.272077
                        ],
                        [
                          19.065212,
                          47.271321
                        ],
                        [
                          19.068004,
                          47.271543
                        ],
                        [
                          19.074114,
                          47.273335
                        ],
                        [
                          19.077058,
                          47.274038
                        ],
                        [
                          19.086312,
                          47.278183
                        ],
                        [
                          19.08667,
                          47.27844
                        ],
                        [
                          19.093942,
                          47.279923
                        ],
                        [
                          19.100279,
                          47.275032
                        ],
                        [
                          19.104654,
                          47.276023
                        ],
                        [
                          19.108138,
                          47.276929
                        ],
                        [
                          19.113506,
                          47.284153
                        ],
                        [
                          19.121149,
                          47.28309
                        ],
                        [
                          19.12551,
                          47.286035
                        ],
                        [
                          19.132631,
                          47.289203
                        ],
                        [
                          19.143769,
                          47.287818
                        ],
                        [
                          19.145736,
                          47.286031
                        ],
                        [
                          19.146606,
                          47.285618
                        ],
                        [
                          19.153889,
                          47.286398
                        ],
                        [
                          19.160796,
                          47.285691
                        ],
                        [
                          19.1724,
                          47.285196
                        ],
                        [
                          19.175831,
                          47.285059
                        ],
                        [
                          19.185441,
                          47.283901
                        ],
                        [
                          19.191254,
                          47.283147
                        ],
                        [
                          19.193311,
                          47.283662
                        ],
                        [
                          19.194679,
                          47.284256
                        ],
                        [
                          19.195958,
                          47.286102
                        ],
                        [
                          19.194355,
                          47.287841
                        ],
                        [
                          19.192752,
                          47.289579
                        ],
                        [
                          19.191651,
                          47.290774
                        ],
                        [
                          19.187777,
                          47.294709
                        ],
                        [
                          19.195305,
                          47.303028
                        ],
                        [
                          19.205682,
                          47.302751
                        ],
                        [
                          19.211685,
                          47.295799
                        ],
                        [
                          19.219027,
                          47.28969
                        ],
                        [
                          19.219673,
                          47.289019
                        ],
                        [
                          19.229851,
                          47.287089
                        ],
                        [
                          19.229924,
                          47.287103
                        ],
                        [
                          19.235891,
                          47.294615
                        ],
                        [
                          19.236107,
                          47.294977
                        ],
                        [
                          19.23621,
                          47.295367
                        ],
                        [
                          19.239772,
                          47.303614
                        ],
                        [
                          19.242106,
                          47.306354
                        ],
                        [
                          19.241557,
                          47.308864
                        ],
                        [
                          19.250232,
                          47.315193
                        ],
                        [
                          19.252496,
                          47.316849
                        ],
                        [
                          19.261729,
                          47.319756
                        ],
                        [
                          19.267749,
                          47.315855
                        ],
                        [
                          19.268687,
                          47.315132
                        ],
                        [
                          19.268833,
                          47.315134
                        ],
                        [
                          19.274239,
                          47.316938
                        ],
                        [
                          19.275699,
                          47.318144
                        ],
                        [
                          19.275775,
                          47.318272
                        ],
                        [
                          19.276401,
                          47.319817
                        ],
                        [
                          19.275742,
                          47.321358
                        ],
                        [
                          19.273676,
                          47.324306
                        ],
                        [
                          19.271557,
                          47.333668
                        ],
                        [
                          19.280723,
                          47.337882
                        ],
                        [
                          19.286682,
                          47.335227
                        ],
                        [
                          19.291825,
                          47.333268
                        ],
                        [
                          19.295116,
                          47.330983
                        ],
                        [
                          19.298787,
                          47.325787
                        ],
                        [
                          19.300992,
                          47.322941
                        ],
                        [
                          19.305921,
                          47.323593
                        ],
                        [
                          19.307952,
                          47.326565
                        ],
                        [
                          19.308764,
                          47.328554
                        ],
                        [
                          19.308166,
                          47.335264
                        ],
                        [
                          19.316333,
                          47.341375
                        ],
                        [
                          19.317784,
                          47.341885
                        ],
                        [
                          19.323941,
                          47.34399
                        ],
                        [
                          19.325625,
                          47.347171
                        ],
                        [
                          19.329291,
                          47.357885
                        ],
                        [
                          19.334176,
                          47.355788
                        ],
                        [
                          19.336242,
                          47.355523
                        ],
                        [
                          19.336835,
                          47.355603
                        ],
                        [
                          19.339302,
                          47.357419
                        ],
                        [
                          19.339917,
                          47.364534
                        ],
                        [
                          19.348999,
                          47.365283
                        ],
                        [
                          19.356247,
                          47.36599
                        ],
                        [
                          19.365638,
                          47.373006
                        ],
                        [
                          19.366717,
                          47.37644
                        ],
                        [
                          19.369074,
                          47.38609
                        ],
                        [
                          19.367977,
                          47.39473
                        ],
                        [
                          19.367826,
                          47.394824
                        ],
                        [
                          19.359316,
                          47.400902
                        ],
                        [
                          19.356908,
                          47.404804
                        ],
                        [
                          19.353365,
                          47.413196
                        ],
                        [
                          19.352509,
                          47.416693
                        ],
                        [
                          19.35077,
                          47.416267
                        ],
                        [
                          19.346551,
                          47.427153
                        ],
                        [
                          19.358073,
                          47.429253
                        ],
                        [
                          19.362016,
                          47.425438
                        ],
                        [
                          19.362729,
                          47.424713
                        ],
                        [
                          19.365296,
                          47.427237
                        ],
                        [
                          19.367443,
                          47.428889
                        ],
                        [
                          19.376722,
                          47.433021
                        ],
                        [
                          19.379631,
                          47.435141
                        ],
                        [
                          19.383064,
                          47.438813
                        ],
                        [
                          19.384132,
                          47.439989
                        ],
                        [
                          19.385907,
                          47.441925
                        ],
                        [
                          19.387002,
                          47.444695
                        ],
                        [
                          19.387715,
                          47.448224
                        ],
                        [
                          19.386913,
                          47.449328
                        ],
                        [
                          19.381739,
                          47.45849
                        ],
                        [
                          19.381544,
                          47.460266
                        ],
                        [
                          19.382066,
                          47.471543
                        ],
                        [
                          19.383179,
                          47.473081
                        ],
                        [
                          19.385464,
                          47.475478
                        ],
                        [
                          19.385271,
                          47.477321
                        ],
                        [
                          19.384148,
                          47.478828
                        ],
                        [
                          19.38475,
                          47.490801
                        ],
                        [
                          19.387386,
                          47.490411
                        ],
                        [
                          19.38745,
                          47.49048
                        ],
                        [
                          19.392877,
                          47.495702
                        ],
                        [
                          19.393118,
                          47.499294
                        ],
                        [
                          19.392041,
                          47.499366
                        ],
                        [
                          19.382488,
                          47.503541
                        ],
                        [
                          19.381569,
                          47.507022
                        ],
                        [
                          19.377253,
                          47.510357
                        ],
                        [
                          19.372392,
                          47.513984
                        ],
                        [
                          19.369038,
                          47.521151
                        ],
                        [
                          19.376597,
                          47.525759
                        ],
                        [
                          19.379878,
                          47.525109
                        ],
                        [
                          19.381,
                          47.524895
                        ],
                        [
                          19.381454,
                          47.52494
                        ],
                        [
                          19.382317,
                          47.527757
                        ],
                        [
                          19.382042,
                          47.52801
                        ],
                        [
                          19.378187,
                          47.531086
                        ],
                        [
                          19.376257,
                          47.532013
                        ],
                        [
                          19.372122,
                          47.533579
                        ],
                        [
                          19.36628,
                          47.541837
                        ],
                        [
                          19.366428,
                          47.549434
                        ],
                        [
                          19.36541,
                          47.551359
                        ],
                        [
                          19.363937,
                          47.561936
                        ],
                        [
                          19.364038,
                          47.562819
                        ],
                        [
                          19.364,
                          47.566529
                        ],
                        [
                          19.361931,
                          47.576855
                        ],
                        [
                          19.361893,
                          47.57696
                        ],
                        [
                          19.361791,
                          47.577082
                        ],
                        [
                          19.359697,
                          47.578463
                        ],
                        [
                          19.356759,
                          47.588042
                        ],
                        [
                          19.354618,
                          47.598198
                        ],
                        [
                          19.354424,
                          47.59874
                        ],
                        [
                          19.353406,
                          47.601263
                        ],
                        [
                          19.348841,
                          47.603642
                        ],
                        [
                          19.344542,
                          47.605442
                        ],
                        [
                          19.342184,
                          47.605776
                        ],
                        [
                          19.334928,
                          47.613301
                        ],
                        [
                          19.334586,
                          47.61397
                        ],
                        [
                          19.334509,
                          47.613986
                        ],
                        [
                          19.333709,
                          47.613975
                        ],
                        [
                          19.333674,
                          47.613966
                        ],
                        [
                          19.332987,
                          47.613723
                        ],
                        [
                          19.325334,
                          47.610337
                        ],
                        [
                          19.319304,
                          47.608995
                        ],
                        [
                          19.311172,
                          47.616348
                        ],
                        [
                          19.307683,
                          47.62433
                        ],
                        [
                          19.307851,
                          47.629226
                        ],
                        [
                          19.307878,
                          47.630239
                        ],
                        [
                          19.307892,
                          47.631086
                        ],
                        [
                          19.306979,
                          47.631684
                        ],
                        [
                          19.305987,
                          47.632307
                        ],
                        [
                          19.303574,
                          47.633384
                        ],
                        [
                          19.303173,
                          47.633268
                        ],
                        [
                          19.302664,
                          47.632763
                        ],
                        [
                          19.300541,
                          47.631445
                        ],
                        [
                          19.296528,
                          47.628683
                        ],
                        [
                          19.291667,
                          47.639632
                        ],
                        [
                          19.291435,
                          47.642185
                        ],
                        [
                          19.291051,
                          47.645305
                        ],
                        [
                          19.291228,
                          47.647831
                        ],
                        [
                          19.291126,
                          47.648732
                        ],
                        [
                          19.290388,
                          47.651659
                        ],
                        [
                          19.285335,
                          47.657301
                        ],
                        [
                          19.283387,
                          47.658868
                        ],
                        [
                          19.278446,
                          47.662492
                        ],
                        [
                          19.270597,
                          47.666455
                        ],
                        [
                          19.270345,
                          47.666592
                        ],
                        [
                          19.262812,
                          47.66805
                        ],
                        [
                          19.256891,
                          47.676659
                        ],
                        [
                          19.253372,
                          47.677414
                        ],
                        [
                          19.246012,
                          47.682249
                        ],
                        [
                          19.240951,
                          47.68359
                        ],
                        [
                          19.232053,
                          47.679961
                        ],
                        [
                          19.222732,
                          47.680679
                        ],
                        [
                          19.2221,
                          47.680036
                        ],
                        [
                          19.220487,
                          47.678292
                        ],
                        [
                          19.215271,
                          47.67538
                        ],
                        [
                          19.208845,
                          47.685281
                        ],
                        [
                          19.211168,
                          47.688128
                        ],
                        [
                          19.21284,
                          47.690115
                        ],
                        [
                          19.214512,
                          47.692101
                        ],
                        [
                          19.208423,
                          47.698045
                        ],
                        [
                          19.205848,
                          47.700562
                        ],
                        [
                          19.200592,
                          47.707404
                        ],
                        [
                          19.197641,
                          47.708719
                        ],
                        [
                          19.195318,
                          47.709076
                        ],
                        [
                          19.193674,
                          47.705874
                        ],
                        [
                          19.190631,
                          47.702902
                        ],
                        [
                          19.187558,
                          47.700088
                        ],
                        [
                          19.182456,
                          47.699194
                        ],
                        [
                          19.176836,
                          47.707502
                        ],
                        [
                          19.178604,
                          47.710638
                        ],
                        [
                          19.178509,
                          47.712266
                        ],
                        [
                          19.1758,
                          47.714637
                        ],
                        [
                          19.165715,
                          47.71941
                        ],
                        [
                          19.159181,
                          47.726477
                        ],
                        [
                          19.156521,
                          47.727023
                        ],
                        [
                          19.150175,
                          47.726903
                        ],
                        [
                          19.140046,
                          47.732359
                        ],
                        [
                          19.139602,
                          47.732506
                        ],
                        [
                          19.137319,
                          47.732888
                        ],
                        [
                          19.13704,
                          47.732912
                        ],
                        [
                          19.132466,
                          47.731431
                        ],
                        [
                          19.122253,
                          47.726598
                        ],
                        [
                          19.121133,
                          47.726327
                        ],
                        [
                          19.119047,
                          47.725808
                        ],
                        [
                          19.110402,
                          47.722575
                        ],
                        [
                          19.105719,
                          47.725394
                        ],
                        [
                          19.103604,
                          47.727165
                        ],
                        [
                          19.099288,
                          47.731335
                        ],
                        [
                          19.090244,
                          47.733741
                        ],
                        [
                          19.086052,
                          47.733721
                        ],
                        [
                          19.078751,
                          47.731412
                        ],
                        [
                          19.071608,
                          47.726519
                        ],
                        [
                          19.069714,
                          47.725433
                        ],
                        [
                          19.067946,
                          47.724421
                        ],
                        [
                          19.06065,
                          47.720746
                        ],
                        [
                          19.053461,
                          47.723209
                        ],
                        [
                          19.048614,
                          47.726611
                        ],
                        [
                          19.044627,
                          47.726347
                        ],
                        [
                          19.03785,
                          47.7239
                        ],
                        [
                          19.034731,
                          47.722103
                        ],
                        [
                          19.025622,
                          47.719392
                        ],
                        [
                          19.016425,
                          47.717823
                        ],
                        [
                          19.00712,
                          47.712125
                        ],
                        [
                          19.000876,
                          47.709014
                        ],
                        [
                          18.992114,
                          47.709644
                        ],
                        [
                          18.984111,
                          47.716516
                        ],
                        [
                          18.974027,
                          47.71493
                        ],
                        [
                          18.968989,
                          47.712639
                        ],
                        [
                          18.958035,
                          47.70801
                        ],
                        [
                          18.94643,
                          47.709525
                        ],
                        [
                          18.946054,
                          47.709377
                        ],
                        [
                          18.943163,
                          47.707644
                        ],
                        [
                          18.939302,
                          47.701052
                        ],
                        [
                          18.933908,
                          47.69911
                        ],
                        [
                          18.924233,
                          47.7001
                        ],
                        [
                          18.92367,
                          47.700285
                        ],
                        [
                          18.917863,
                          47.699848
                        ],
                        [
                          18.914,
                          47.69881
                        ],
                        [
                          18.903683,
                          47.702821
                        ],
                        [
                          18.89733,
                          47.703162
                        ],
                        [
                          18.896973,
                          47.703109
                        ],
                        [
                          18.888988,
                          47.698602
                        ],
                        [
                          18.878236,
                          47.69358
                        ],
                        [
                          18.878323,
                          47.692993
                        ],
                        [
                          18.874644,
                          47.683483
                        ],
                        [
                          18.867988,
                          47.681099
                        ],
                        [
                          18.861825,
                          47.686715
                        ],
                        [
                          18.861107,
                          47.687204
                        ],
                        [
                          18.858097,
                          47.685021
                        ],
                        [
                          18.850355,
                          47.678042
                        ],
                        [
                          18.843611,
                          47.675572
                        ],
                        [
                          18.842261,
                          47.674167
                        ],
                        [
                          18.841924,
                          47.672392
                        ],
                        [
                          18.842321,
                          47.670567
                        ],
                        [
                          18.843052,
                          47.66552
                        ],
                        [
                          18.832301,
                          47.661679
                        ],
                        [
                          18.829635,
                          47.662713
                        ],
                        [
                          18.824563,
                          47.662281
                        ],
                        [
                          18.819207,
                          47.658666
                        ],
                        [
                          18.808813,
                          47.655864
                        ],
                        [
                          18.808032,
                          47.655811
                        ],
                        [
                          18.799495,
                          47.656299
                        ],
                        [
                          18.794599,
                          47.655276
                        ],
                        [
                          18.78963,
                          47.646411
                        ],
                        [
                          18.790413,
                          47.643737
                        ],
                        [
                          18.792188,
                          47.6329
                        ],
                        [
                          18.782569,
                          47.630649
                        ],
                        [
                          18.77908,
                          47.631536
                        ],
                        [
                          18.77901,
                          47.631263
                        ],
                        [
                          18.770837,
                          47.623709
                        ],
                        [
                          18.768534,
                          47.624851
                        ],
                        [
                          18.766802,
                          47.625997
                        ],
                        [
                          18.764816,
                          47.622994
                        ],
                        [
                          18.766146,
                          47.611997
                        ],
                        [
                          18.766953,
                          47.605767
                        ],
                        [
                          18.760425,
                          47.596705
                        ],
                        [
                          18.75657,
                          47.596044
                        ],
                        [
                          18.755005,
                          47.596008
                        ],
                        [
                          18.754023,
                          47.59574
                        ],
                        [
                          18.751757,
                          47.594009
                        ],
                        [
                          18.751411,
                          47.593639
                        ],
                        [
                          18.75041,
                          47.592093
                        ],
                        [
                          18.749178,
                          47.586191
                        ],
                        [
                          18.748461,
                          47.575514
                        ],
                        [
                          18.747243,
                          47.568139
                        ],
                        [
                          18.747433,
                          47.559836
                        ],
                        [
                          18.746801,
                          47.554122
                        ],
                        [
                          18.746634,
                          47.549234
                        ],
                        [
                          18.736796,
                          47.545114
                        ],
                        [
                          18.735427,
                          47.545489
                        ],
                        [
                          18.734476,
                          47.542017
                        ]
                      ]
                    ],
                    "type": "Polygon"
                  }
                }
              ],
              "metadata": {
                "attribution": "openrouteservice.org | OpenStreetMap contributors",
                "service": "isochrones",
                "timestamp": 1659304572082,
                "query": {
                  "profile": "cycling-electric",
                  "isoMaps": {
                    "isochroneMaps": [
                      {
                        "travellerId": 0,
                        "envelope": {
                          "area": 0.3045692749929405,
                          "width": 0.65864180053876,
                          "height": 0.46242020282315366,
                          "minX": 18.734476011738053,
                          "maxX": 19.393117812276813,
                          "minY": 47.27132123806767,
                          "maxY": 47.733741440890824,
                          "null": false
                        },
                        "isochrones": [
                          {
                            "geometry": {
                              "type": "Polygon",
                              "coordinates": [
                                [
                                  [
                                    18.734476011738053,
                                    47.542016538197956
                                  ],
                                  [
                                    18.73853718045482,
                                    47.53530739437106
                                  ],
                                  [
                                    18.739450629967845,
                                    47.53499500243698
                                  ],
                                  [
                                    18.743038801084243,
                                    47.534703406758915
                                  ],
                                  [
                                    18.750906556776577,
                                    47.53795241192645
                                  ],
                                  [
                                    18.75639939286316,
                                    47.53688438481596
                                  ],
                                  [
                                    18.761431338936305,
                                    47.53387102137977
                                  ],
                                  [
                                    18.765863334961953,
                                    47.531383254746636
                                  ],
                                  [
                                    18.769391643117,
                                    47.52943095699645
                                  ],
                                  [
                                    18.7721580115352,
                                    47.52775338630545
                                  ],
                                  [
                                    18.774701886322113,
                                    47.52629216463175
                                  ],
                                  [
                                    18.77724576110903,
                                    47.52483094295804
                                  ],
                                  [
                                    18.788558679177232,
                                    47.52682629669663
                                  ],
                                  [
                                    18.79013644713447,
                                    47.51992888651693
                                  ],
                                  [
                                    18.794892662401267,
                                    47.51159523086488
                                  ],
                                  [
                                    18.79272499419668,
                                    47.507781454411365
                                  ],
                                  [
                                    18.796098068869973,
                                    47.498083029018034
                                  ],
                                  [
                                    18.79126220365071,
                                    47.49571736868385
                                  ],
                                  [
                                    18.782685272120876,
                                    47.49613281822117
                                  ],
                                  [
                                    18.77769159494061,
                                    47.49869931504458
                                  ],
                                  [
                                    18.77276361243202,
                                    47.49586356264107
                                  ],
                                  [
                                    18.762246856216265,
                                    47.498763565099026
                                  ],
                                  [
                                    18.76180930020208,
                                    47.50337012899101
                                  ],
                                  [
                                    18.761764192472654,
                                    47.504535586837335
                                  ],
                                  [
                                    18.758166885828317,
                                    47.50439635714723
                                  ],
                                  [
                                    18.754478183711267,
                                    47.5016305447276
                                  ],
                                  [
                                    18.75149791861911,
                                    47.499816795100166
                                  ],
                                  [
                                    18.74550410723314,
                                    47.496439024040605
                                  ],
                                  [
                                    18.743758539696586,
                                    47.49444547844785
                                  ],
                                  [
                                    18.74376045439984,
                                    47.49442919492241
                                  ],
                                  [
                                    18.749840106180525,
                                    47.4860448746818
                                  ],
                                  [
                                    18.75150501442501,
                                    47.482852997407
                                  ],
                                  [
                                    18.753292868720987,
                                    47.4837855562434
                                  ],
                                  [
                                    18.7603675799618,
                                    47.48734857186926
                                  ],
                                  [
                                    18.770483237605408,
                                    47.48225842094542
                                  ],
                                  [
                                    18.774473703303663,
                                    47.48379133911065
                                  ],
                                  [
                                    18.783341447286038,
                                    47.47852544033243
                                  ],
                                  [
                                    18.79083069416465,
                                    47.47556838485839
                                  ],
                                  [
                                    18.795654095556582,
                                    47.47226553438192
                                  ],
                                  [
                                    18.804020296127057,
                                    47.46492387648502
                                  ],
                                  [
                                    18.80041423451494,
                                    47.459647884328355
                                  ],
                                  [
                                    18.79104099318168,
                                    47.4598284982379
                                  ],
                                  [
                                    18.785615720027575,
                                    47.4588726197809
                                  ],
                                  [
                                    18.780248969606458,
                                    47.45680947439273
                                  ],
                                  [
                                    18.771471523071256,
                                    47.45650593433944
                                  ],
                                  [
                                    18.764806897933934,
                                    47.46506785895827
                                  ],
                                  [
                                    18.764683666684043,
                                    47.46581852974291
                                  ],
                                  [
                                    18.764614790787114,
                                    47.4659949677361
                                  ],
                                  [
                                    18.76263337251655,
                                    47.46663740146858
                                  ],
                                  [
                                    18.75765768112031,
                                    47.467567948142765
                                  ],
                                  [
                                    18.755408674942675,
                                    47.464756903637074
                                  ],
                                  [
                                    18.75447775955455,
                                    47.46019165518373
                                  ],
                                  [
                                    18.753117970091264,
                                    47.45613980798671
                                  ],
                                  [
                                    18.751952825866685,
                                    47.452037566531764
                                  ],
                                  [
                                    18.751567062660904,
                                    47.45074309387118
                                  ],
                                  [
                                    18.751222164865485,
                                    47.44708295776373
                                  ],
                                  [
                                    18.751403624393408,
                                    47.44624715253729
                                  ],
                                  [
                                    18.752787924251134,
                                    47.44413298179744
                                  ],
                                  [
                                    18.75310164653747,
                                    47.44402597436606
                                  ],
                                  [
                                    18.75989078861966,
                                    47.44331907502467
                                  ],
                                  [
                                    18.765563864291558,
                                    47.44042657064972
                                  ],
                                  [
                                    18.768044444244115,
                                    47.442309164201134
                                  ],
                                  [
                                    18.778250388777018,
                                    47.44175524310185
                                  ],
                                  [
                                    18.780048307425172,
                                    47.439667469348116
                                  ],
                                  [
                                    18.781169079169768,
                                    47.42901570492878
                                  ],
                                  [
                                    18.783100212834846,
                                    47.42697188535919
                                  ],
                                  [
                                    18.78503134649992,
                                    47.4249280657896
                                  ],
                                  [
                                    18.785802639937174,
                                    47.41426833767243
                                  ],
                                  [
                                    18.783783029840052,
                                    47.41128820763239
                                  ],
                                  [
                                    18.78299216205392,
                                    47.40634555461752
                                  ],
                                  [
                                    18.78276802153821,
                                    47.40462368350313
                                  ],
                                  [
                                    18.782839127248383,
                                    47.403574991008334
                                  ],
                                  [
                                    18.783001925639844,
                                    47.40251034040616
                                  ],
                                  [
                                    18.784213428223335,
                                    47.40151969075056
                                  ],
                                  [
                                    18.784587534411035,
                                    47.40142058414062
                                  ],
                                  [
                                    18.792962194580802,
                                    47.39602869447019
                                  ],
                                  [
                                    18.79323154354449,
                                    47.3843994024395
                                  ],
                                  [
                                    18.793376727804837,
                                    47.380308729884625
                                  ],
                                  [
                                    18.794098559258995,
                                    47.37699186591143
                                  ],
                                  [
                                    18.79419636995624,
                                    47.37688725583808
                                  ],
                                  [
                                    18.79530449052435,
                                    47.37619457778877
                                  ],
                                  [
                                    18.80346143823558,
                                    47.36804408048861
                                  ],
                                  [
                                    18.804783440797735,
                                    47.35942994330121
                                  ],
                                  [
                                    18.80617066734483,
                                    47.356107955566884
                                  ],
                                  [
                                    18.807684828480035,
                                    47.356740253062036
                                  ],
                                  [
                                    18.80989661824728,
                                    47.35775789094414
                                  ],
                                  [
                                    18.81722153942741,
                                    47.34865952185822
                                  ],
                                  [
                                    18.81768510965497,
                                    47.346267157474955
                                  ],
                                  [
                                    18.82165344999484,
                                    47.33884581535136
                                  ],
                                  [
                                    18.825321099102073,
                                    47.33355688020432
                                  ],
                                  [
                                    18.826513848814812,
                                    47.33400886092822
                                  ],
                                  [
                                    18.827863364652885,
                                    47.33462948630709
                                  ],
                                  [
                                    18.836578445949314,
                                    47.336471872983466
                                  ],
                                  [
                                    18.845685076201445,
                                    47.332629149068126
                                  ],
                                  [
                                    18.855918350178076,
                                    47.33177358760899
                                  ],
                                  [
                                    18.862829620860694,
                                    47.32638842310629
                                  ],
                                  [
                                    18.863772932088708,
                                    47.32641597557027
                                  ],
                                  [
                                    18.874931406204922,
                                    47.32450515537386
                                  ],
                                  [
                                    18.877414612013332,
                                    47.32189868478837
                                  ],
                                  [
                                    18.882289934867778,
                                    47.322574668834534
                                  ],
                                  [
                                    18.882488089358034,
                                    47.32269618048016
                                  ],
                                  [
                                    18.88277992297105,
                                    47.325561522216006
                                  ],
                                  [
                                    18.886685197304434,
                                    47.3305225737834
                                  ],
                                  [
                                    18.896213536976543,
                                    47.32500889897045
                                  ],
                                  [
                                    18.900738147662686,
                                    47.31699948721378
                                  ],
                                  [
                                    18.895824974009304,
                                    47.31059521331422
                                  ],
                                  [
                                    18.89523956095473,
                                    47.30933726903075
                                  ],
                                  [
                                    18.896687531528393,
                                    47.306716559152534
                                  ],
                                  [
                                    18.896926882361797,
                                    47.306641759050784
                                  ],
                                  [
                                    18.898963327947897,
                                    47.30702064358746
                                  ],
                                  [
                                    18.90886881997366,
                                    47.30164811602517
                                  ],
                                  [
                                    18.90929195352675,
                                    47.301598931270284
                                  ],
                                  [
                                    18.913396670012364,
                                    47.30305607178282
                                  ],
                                  [
                                    18.91891155701986,
                                    47.30487242412557
                                  ],
                                  [
                                    18.920498019869306,
                                    47.30556525566475
                                  ],
                                  [
                                    18.92294310694818,
                                    47.30630050069923
                                  ],
                                  [
                                    18.924869031641563,
                                    47.3067752129005
                                  ],
                                  [
                                    18.928186841412387,
                                    47.30781813882958
                                  ],
                                  [
                                    18.92848929673222,
                                    47.30814429400657
                                  ],
                                  [
                                    18.937447456629112,
                                    47.30954528664598
                                  ],
                                  [
                                    18.939480998298837,
                                    47.30124840406768
                                  ],
                                  [
                                    18.938182275253162,
                                    47.2992157069623
                                  ],
                                  [
                                    18.94121594424145,
                                    47.29727744679671
                                  ],
                                  [
                                    18.949167329709603,
                                    47.29473566061336
                                  ],
                                  [
                                    18.95454659282011,
                                    47.29556163669014
                                  ],
                                  [
                                    18.95982339863187,
                                    47.28918866284718
                                  ],
                                  [
                                    18.96054264802416,
                                    47.28828739896796
                                  ],
                                  [
                                    18.96270720999354,
                                    47.28703375402537
                                  ],
                                  [
                                    18.963914057055227,
                                    47.287025019807324
                                  ],
                                  [
                                    18.970925330029953,
                                    47.28775120981987
                                  ],
                                  [
                                    18.98079186608097,
                                    47.288070390778046
                                  ],
                                  [
                                    18.98818570456991,
                                    47.282034311055554
                                  ],
                                  [
                                    18.989360866795806,
                                    47.27773773888327
                                  ],
                                  [
                                    18.99323447714375,
                                    47.275339778222
                                  ],
                                  [
                                    18.993928154191746,
                                    47.27525287612637
                                  ],
                                  [
                                    19.00447643627044,
                                    47.274961719704976
                                  ],
                                  [
                                    19.013143789225253,
                                    47.274402273860034
                                  ],
                                  [
                                    19.01426991809867,
                                    47.27782160621598
                                  ],
                                  [
                                    19.026249370476595,
                                    47.277844488083076
                                  ],
                                  [
                                    19.029786144420203,
                                    47.277172751474126
                                  ],
                                  [
                                    19.032412054293797,
                                    47.27649721402476
                                  ],
                                  [
                                    19.040011612108326,
                                    47.27765693726116
                                  ],
                                  [
                                    19.050112477215663,
                                    47.277556204263455
                                  ],
                                  [
                                    19.060205368087892,
                                    47.27446922011261
                                  ],
                                  [
                                    19.062357220342722,
                                    47.27207735601349
                                  ],
                                  [
                                    19.06521171189508,
                                    47.27132123806767
                                  ],
                                  [
                                    19.068003845714763,
                                    47.27154344592988
                                  ],
                                  [
                                    19.07411401457925,
                                    47.27333523645048
                                  ],
                                  [
                                    19.07705795651606,
                                    47.27403761996659
                                  ],
                                  [
                                    19.086312195526304,
                                    47.27818332655714
                                  ],
                                  [
                                    19.08666998828126,
                                    47.278439661045915
                                  ],
                                  [
                                    19.093941542567194,
                                    47.27992297202442
                                  ],
                                  [
                                    19.100279236148744,
                                    47.27503231081829
                                  ],
                                  [
                                    19.104654305403187,
                                    47.27602259740276
                                  ],
                                  [
                                    19.10813839593677,
                                    47.27692875034448
                                  ],
                                  [
                                    19.113506388733423,
                                    47.28415321127564
                                  ],
                                  [
                                    19.12114923222129,
                                    47.28309027828286
                                  ],
                                  [
                                    19.125510132036506,
                                    47.28603536300061
                                  ],
                                  [
                                    19.132631342210754,
                                    47.289203355238776
                                  ],
                                  [
                                    19.143769425792676,
                                    47.28781843032663
                                  ],
                                  [
                                    19.14573572126253,
                                    47.28603061669724
                                  ],
                                  [
                                    19.146606008052977,
                                    47.285617712317105
                                  ],
                                  [
                                    19.153889350380418,
                                    47.286398124696355
                                  ],
                                  [
                                    19.16079649611491,
                                    47.285690623401145
                                  ],
                                  [
                                    19.172399888008073,
                                    47.285196378888315
                                  ],
                                  [
                                    19.175830567205697,
                                    47.285059094097456
                                  ],
                                  [
                                    19.185441034040707,
                                    47.283900742888854
                                  ],
                                  [
                                    19.191254181602392,
                                    47.28314700765659
                                  ],
                                  [
                                    19.19331098703279,
                                    47.283661560134426
                                  ],
                                  [
                                    19.194678951391676,
                                    47.284256490369565
                                  ],
                                  [
                                    19.195957817223366,
                                    47.28610170151193
                                  ],
                                  [
                                    19.19435478133386,
                                    47.28784052034761
                                  ],
                                  [
                                    19.192751745444355,
                                    47.289579339183284
                                  ],
                                  [
                                    19.19165076592172,
                                    47.29077363468386
                                  ],
                                  [
                                    19.187777010919966,
                                    47.29470867015754
                                  ],
                                  [
                                    19.195305417721553,
                                    47.30302757984628
                                  ],
                                  [
                                    19.20568160871677,
                                    47.30275070873972
                                  ],
                                  [
                                    19.211684893560577,
                                    47.29579863653132
                                  ],
                                  [
                                    19.21902712388993,
                                    47.28968975014268
                                  ],
                                  [
                                    19.219673056417225,
                                    47.28901934093003
                                  ],
                                  [
                                    19.22985128745686,
                                    47.287089226799175
                                  ],
                                  [
                                    19.22992436124053,
                                    47.28710331960031
                                  ],
                                  [
                                    19.235891142510813,
                                    47.2946150414198
                                  ],
                                  [
                                    19.23610668038652,
                                    47.29497650585326
                                  ],
                                  [
                                    19.23621011941925,
                                    47.29536693591926
                                  ],
                                  [
                                    19.23977151375574,
                                    47.303613821668264
                                  ],
                                  [
                                    19.24210637652935,
                                    47.30635397053803
                                  ],
                                  [
                                    19.241556734634244,
                                    47.30886359423507
                                  ],
                                  [
                                    19.25023183756124,
                                    47.315192659952416
                                  ],
                                  [
                                    19.25249602535107,
                                    47.3168485744971
                                  ],
                                  [
                                    19.261728643037763,
                                    47.31975609126224
                                  ],
                                  [
                                    19.26774878400255,
                                    47.31585474012518
                                  ],
                                  [
                                    19.26868659523605,
                                    47.31513186568168
                                  ],
                                  [
                                    19.26883320095825,
                                    47.31513446942277
                                  ],
                                  [
                                    19.274238957622572,
                                    47.316938261912476
                                  ],
                                  [
                                    19.27569911765889,
                                    47.31814442105825
                                  ],
                                  [
                                    19.275775196868615,
                                    47.31827158202308
                                  ],
                                  [
                                    19.276400922157087,
                                    47.31981678746413
                                  ],
                                  [
                                    19.275741864300684,
                                    47.321358196149305
                                  ],
                                  [
                                    19.27367600990371,
                                    47.32430645760489
                                  ],
                                  [
                                    19.271557463814858,
                                    47.333668299026826
                                  ],
                                  [
                                    19.28072325493028,
                                    47.337882190728514
                                  ],
                                  [
                                    19.28668159159787,
                                    47.33522717270824
                                  ],
                                  [
                                    19.291825338572163,
                                    47.333268384081535
                                  ],
                                  [
                                    19.295116481061203,
                                    47.330983280855385
                                  ],
                                  [
                                    19.298787367219123,
                                    47.32578659640545
                                  ],
                                  [
                                    19.300992097185766,
                                    47.322940693073605
                                  ],
                                  [
                                    19.30592136988874,
                                    47.323592584678245
                                  ],
                                  [
                                    19.307952244748993,
                                    47.32656504953119
                                  ],
                                  [
                                    19.30876370724237,
                                    47.32855386014127
                                  ],
                                  [
                                    19.308166385627096,
                                    47.33526372228431
                                  ],
                                  [
                                    19.316332672567025,
                                    47.341375361073354
                                  ],
                                  [
                                    19.317783530661405,
                                    47.341885438578785
                                  ],
                                  [
                                    19.32394083795,
                                    47.34398961305354
                                  ],
                                  [
                                    19.32562516179453,
                                    47.347171287641984
                                  ],
                                  [
                                    19.329291308540782,
                                    47.35788456692306
                                  ],
                                  [
                                    19.33417568626913,
                                    47.35578814057436
                                  ],
                                  [
                                    19.336241611120787,
                                    47.3555234278865
                                  ],
                                  [
                                    19.33683549273419,
                                    47.35560268398214
                                  ],
                                  [
                                    19.33930218122958,
                                    47.35741892534342
                                  ],
                                  [
                                    19.33991674974345,
                                    47.36453368411956
                                  ],
                                  [
                                    19.348998582999904,
                                    47.36528261546094
                                  ],
                                  [
                                    19.356246676092624,
                                    47.36598978243782
                                  ],
                                  [
                                    19.365638400416206,
                                    47.373005607767446
                                  ],
                                  [
                                    19.366717474449192,
                                    47.376440079958535
                                  ],
                                  [
                                    19.369074068214594,
                                    47.386089534667796
                                  ],
                                  [
                                    19.36797686443269,
                                    47.39473036509109
                                  ],
                                  [
                                    19.367825589783973,
                                    47.394823656197396
                                  ],
                                  [
                                    19.359316242020892,
                                    47.4009020741548
                                  ],
                                  [
                                    19.356908326208757,
                                    47.40480356938292
                                  ],
                                  [
                                    19.35336519206047,
                                    47.413195793237136
                                  ],
                                  [
                                    19.352509353847235,
                                    47.41669258332989
                                  ],
                                  [
                                    19.35076992007595,
                                    47.416266857492374
                                  ],
                                  [
                                    19.34655090370471,
                                    47.427152789891274
                                  ],
                                  [
                                    19.35807277582762,
                                    47.42925307962376
                                  ],
                                  [
                                    19.36201628235959,
                                    47.425437645396094
                                  ],
                                  [
                                    19.36272874730919,
                                    47.42471299849613
                                  ],
                                  [
                                    19.365295817623313,
                                    47.427236914105336
                                  ],
                                  [
                                    19.367443374796277,
                                    47.42888863534585
                                  ],
                                  [
                                    19.376722014894526,
                                    47.433021061430374
                                  ],
                                  [
                                    19.37963145832225,
                                    47.435141235701714
                                  ],
                                  [
                                    19.383064077785356,
                                    47.43881283725965
                                  ],
                                  [
                                    19.384132465893824,
                                    47.43998870658469
                                  ],
                                  [
                                    19.38590658500654,
                                    47.44192547391608
                                  ],
                                  [
                                    19.387001532994137,
                                    47.4446954957571
                                  ],
                                  [
                                    19.38771547629454,
                                    47.44822399189056
                                  ],
                                  [
                                    19.386912727866356,
                                    47.4493280983891
                                  ],
                                  [
                                    19.381738618923308,
                                    47.458490373622226
                                  ],
                                  [
                                    19.381544183818328,
                                    47.460265508661614
                                  ],
                                  [
                                    19.38206578535654,
                                    47.47154336329636
                                  ],
                                  [
                                    19.383179008878905,
                                    47.473081071203346
                                  ],
                                  [
                                    19.3854644865928,
                                    47.475477699140015
                                  ],
                                  [
                                    19.3852705193968,
                                    47.47732120831863
                                  ],
                                  [
                                    19.384147589595802,
                                    47.478828188999614
                                  ],
                                  [
                                    19.384749520281705,
                                    47.49080093871759
                                  ],
                                  [
                                    19.387386074828026,
                                    47.490410550933944
                                  ],
                                  [
                                    19.387449876072886,
                                    47.4904800031462
                                  ],
                                  [
                                    19.39287699537848,
                                    47.495702264442826
                                  ],
                                  [
                                    19.393117812276813,
                                    47.49929420085951
                                  ],
                                  [
                                    19.392040514381524,
                                    47.499366426953635
                                  ],
                                  [
                                    19.382487847928456,
                                    47.503541010054306
                                  ],
                                  [
                                    19.381568976532375,
                                    47.50702176792544
                                  ],
                                  [
                                    19.37725283038373,
                                    47.51035696840703
                                  ],
                                  [
                                    19.372391920628907,
                                    47.51398431469989
                                  ],
                                  [
                                    19.36903768059635,
                                    47.52115122966554
                                  ],
                                  [
                                    19.37659651405879,
                                    47.52575932189932
                                  ],
                                  [
                                    19.379878288441883,
                                    47.52510901306711
                                  ],
                                  [
                                    19.380999779715243,
                                    47.52489492862198
                                  ],
                                  [
                                    19.38145419781173,
                                    47.52493981564816
                                  ],
                                  [
                                    19.382317270331686,
                                    47.52775691173231
                                  ],
                                  [
                                    19.382042329359127,
                                    47.52801016011438
                                  ],
                                  [
                                    19.37818722065133,
                                    47.53108589081933
                                  ],
                                  [
                                    19.37625702264686,
                                    47.53201257420709
                                  ],
                                  [
                                    19.372122199287514,
                                    47.533579484129724
                                  ],
                                  [
                                    19.36627997953182,
                                    47.541836595994035
                                  ],
                                  [
                                    19.366427866895663,
                                    47.549434124708156
                                  ],
                                  [
                                    19.365409798325143,
                                    47.5513588667379
                                  ],
                                  [
                                    19.363936816542125,
                                    47.5619362825366
                                  ],
                                  [
                                    19.364038244540968,
                                    47.56281931475514
                                  ],
                                  [
                                    19.36400037416351,
                                    47.56652935958756
                                  ],
                                  [
                                    19.36193147629619,
                                    47.57685450214954
                                  ],
                                  [
                                    19.361893053102126,
                                    47.57695990388509
                                  ],
                                  [
                                    19.36179095098755,
                                    47.57708186894105
                                  ],
                                  [
                                    19.359696910224507,
                                    47.57846278686277
                                  ],
                                  [
                                    19.356758893788943,
                                    47.588041962422565
                                  ],
                                  [
                                    19.354617612534867,
                                    47.59819753953092
                                  ],
                                  [
                                    19.35442422646007,
                                    47.59873996774699
                                  ],
                                  [
                                    19.35340620447956,
                                    47.60126344624744
                                  ],
                                  [
                                    19.348840639542527,
                                    47.60364208576036
                                  ],
                                  [
                                    19.344542329453205,
                                    47.60544157606811
                                  ],
                                  [
                                    19.342183639060355,
                                    47.60577606675614
                                  ],
                                  [
                                    19.3349283174756,
                                    47.613301412556275
                                  ],
                                  [
                                    19.334585910287778,
                                    47.613969967249
                                  ],
                                  [
                                    19.334509225863044,
                                    47.613986296708966
                                  ],
                                  [
                                    19.33370911841494,
                                    47.613975205883875
                                  ],
                                  [
                                    19.333673807909484,
                                    47.61396586075864
                                  ],
                                  [
                                    19.33298718592539,
                                    47.61372328236511
                                  ],
                                  [
                                    19.325334307408383,
                                    47.61033739095626
                                  ],
                                  [
                                    19.319303951106924,
                                    47.60899463094511
                                  ],
                                  [
                                    19.3111720094653,
                                    47.61634803674601
                                  ],
                                  [
                                    19.3076834209309,
                                    47.624329745879216
                                  ],
                                  [
                                    19.307850510479792,
                                    47.629226304671604
                                  ],
                                  [
                                    19.307877950678694,
                                    47.63023910710034
                                  ],
                                  [
                                    19.30789154842847,
                                    47.63108601567433
                                  ],
                                  [
                                    19.306979165235557,
                                    47.631684406798726
                                  ],
                                  [
                                    19.305987242729824,
                                    47.63230660226955
                                  ],
                                  [
                                    19.303573553152635,
                                    47.63338416911911
                                  ],
                                  [
                                    19.303172833609107,
                                    47.63326791747378
                                  ],
                                  [
                                    19.302664123956205,
                                    47.63276274150838
                                  ],
                                  [
                                    19.300540765169426,
                                    47.63144453073815
                                  ],
                                  [
                                    19.296528308341216,
                                    47.62868268559556
                                  ],
                                  [
                                    19.291667040598053,
                                    47.639632066032775
                                  ],
                                  [
                                    19.291434652498644,
                                    47.6421850820657
                                  ],
                                  [
                                    19.291050583736002,
                                    47.645304507643424
                                  ],
                                  [
                                    19.29122842509908,
                                    47.64783071397462
                                  ],
                                  [
                                    19.29112605515776,
                                    47.64873222449407
                                  ],
                                  [
                                    19.290388024955636,
                                    47.65165893212029
                                  ],
                                  [
                                    19.28533471589401,
                                    47.657300927286485
                                  ],
                                  [
                                    19.283387466238867,
                                    47.65886833613339
                                  ],
                                  [
                                    19.27844634343869,
                                    47.66249198397708
                                  ],
                                  [
                                    19.270596567988747,
                                    47.666455230412595
                                  ],
                                  [
                                    19.270345282988533,
                                    47.666592400982154
                                  ],
                                  [
                                    19.262811657047134,
                                    47.6680495902935
                                  ],
                                  [
                                    19.25689148611587,
                                    47.67665941847384
                                  ],
                                  [
                                    19.25337156012231,
                                    47.67741448204722
                                  ],
                                  [
                                    19.246012409122535,
                                    47.682248714449244
                                  ],
                                  [
                                    19.240950658410096,
                                    47.68358991228153
                                  ],
                                  [
                                    19.232052531462852,
                                    47.67996138562242
                                  ],
                                  [
                                    19.222731707736447,
                                    47.680679049635806
                                  ],
                                  [
                                    19.222099779001475,
                                    47.68003574805678
                                  ],
                                  [
                                    19.220486521543396,
                                    47.67829186446823
                                  ],
                                  [
                                    19.215270747585684,
                                    47.675380431310394
                                  ],
                                  [
                                    19.208844581899143,
                                    47.68528107546683
                                  ],
                                  [
                                    19.21116830778239,
                                    47.68812816503113
                                  ],
                                  [
                                    19.212840332060978,
                                    47.69011456193836
                                  ],
                                  [
                                    19.214512356339565,
                                    47.69210095884558
                                  ],
                                  [
                                    19.20842286786793,
                                    47.698045319776135
                                  ],
                                  [
                                    19.20584831358456,
                                    47.70056160081011
                                  ],
                                  [
                                    19.200592089548586,
                                    47.707404121901284
                                  ],
                                  [
                                    19.197641275368085,
                                    47.7087186791534
                                  ],
                                  [
                                    19.195318276254042,
                                    47.709076019944824
                                  ],
                                  [
                                    19.19367362443566,
                                    47.7058736582544
                                  ],
                                  [
                                    19.190631040017564,
                                    47.702901739787976
                                  ],
                                  [
                                    19.187557577442746,
                                    47.70008778927856
                                  ],
                                  [
                                    19.182455796179323,
                                    47.69919384670612
                                  ],
                                  [
                                    19.176836150696683,
                                    47.70750223043581
                                  ],
                                  [
                                    19.178604308396313,
                                    47.71063809050112
                                  ],
                                  [
                                    19.17850850150687,
                                    47.712266366304696
                                  ],
                                  [
                                    19.175799519129498,
                                    47.71463731853515
                                  ],
                                  [
                                    19.1657148963955,
                                    47.71940990955712
                                  ],
                                  [
                                    19.159181132727305,
                                    47.726477473064456
                                  ],
                                  [
                                    19.156521270268794,
                                    47.727022997922965
                                  ],
                                  [
                                    19.150175107878876,
                                    47.726902888211676
                                  ],
                                  [
                                    19.140046422766677,
                                    47.73235887393122
                                  ],
                                  [
                                    19.13960185142604,
                                    47.73250554690792
                                  ],
                                  [
                                    19.137319275882934,
                                    47.73288774500279
                                  ],
                                  [
                                    19.137039928592966,
                                    47.73291180431038
                                  ],
                                  [
                                    19.132466032293568,
                                    47.731431027286845
                                  ],
                                  [
                                    19.122253342067882,
                                    47.726597880601176
                                  ],
                                  [
                                    19.121133150780448,
                                    47.72632667119054
                                  ],
                                  [
                                    19.1190470412209,
                                    47.72580788891034
                                  ],
                                  [
                                    19.110402257237062,
                                    47.722575373429144
                                  ],
                                  [
                                    19.105719092984135,
                                    47.72539353267796
                                  ],
                                  [
                                    19.103604277653698,
                                    47.72716524312534
                                  ],
                                  [
                                    19.09928786447024,
                                    47.73133474370444
                                  ],
                                  [
                                    19.09024356809242,
                                    47.733741440890824
                                  ],
                                  [
                                    19.086052158548807,
                                    47.733720587797926
                                  ],
                                  [
                                    19.078751441239483,
                                    47.73141177776552
                                  ],
                                  [
                                    19.07160826466675,
                                    47.726519163106865
                                  ],
                                  [
                                    19.069714042686545,
                                    47.72543342016201
                                  ],
                                  [
                                    19.06794560785257,
                                    47.72442056295242
                                  ],
                                  [
                                    19.060650380936362,
                                    47.7207455521244
                                  ],
                                  [
                                    19.053461211144946,
                                    47.72320877570611
                                  ],
                                  [
                                    19.048613636812142,
                                    47.72661128219645
                                  ],
                                  [
                                    19.04462688434437,
                                    47.726347266242314
                                  ],
                                  [
                                    19.037850460331274,
                                    47.72390011193392
                                  ],
                                  [
                                    19.03473094654932,
                                    47.72210327199553
                                  ],
                                  [
                                    19.025622459468043,
                                    47.71939195241883
                                  ],
                                  [
                                    19.01642524403329,
                                    47.71782263154178
                                  ],
                                  [
                                    19.00711956804881,
                                    47.712125417036475
                                  ],
                                  [
                                    19.000875595447816,
                                    47.709014267439734
                                  ],
                                  [
                                    18.99211438613918,
                                    47.70964410749785
                                  ],
                                  [
                                    18.984110699716233,
                                    47.716515694780504
                                  ],
                                  [
                                    18.974026590732556,
                                    47.714929900693065
                                  ],
                                  [
                                    18.968988704825488,
                                    47.71263851534117
                                  ],
                                  [
                                    18.95803529019721,
                                    47.70800969057337
                                  ],
                                  [
                                    18.946429688523388,
                                    47.709524862943724
                                  ],
                                  [
                                    18.946053927827325,
                                    47.70937742505552
                                  ],
                                  [
                                    18.94316270592948,
                                    47.707643630601
                                  ],
                                  [
                                    18.939301794900786,
                                    47.70105233865348
                                  ],
                                  [
                                    18.933907968687883,
                                    47.69911044561378
                                  ],
                                  [
                                    18.92423280856332,
                                    47.700100086809734
                                  ],
                                  [
                                    18.92366976097101,
                                    47.70028491485334
                                  ],
                                  [
                                    18.917862721600905,
                                    47.69984816775164
                                  ],
                                  [
                                    18.91400027251456,
                                    47.698809937936076
                                  ],
                                  [
                                    18.903683105999992,
                                    47.70282078739082
                                  ],
                                  [
                                    18.89732961624832,
                                    47.70316175138622
                                  ],
                                  [
                                    18.89697336571006,
                                    47.70310858441581
                                  ],
                                  [
                                    18.888988113879023,
                                    47.69860159968663
                                  ],
                                  [
                                    18.878235802925815,
                                    47.69358047627117
                                  ],
                                  [
                                    18.87832312587645,
                                    47.69299279793999
                                  ],
                                  [
                                    18.874644392261402,
                                    47.68348276815593
                                  ],
                                  [
                                    18.867987687846245,
                                    47.68109877131066
                                  ],
                                  [
                                    18.861824671878352,
                                    47.6867151448903
                                  ],
                                  [
                                    18.86110660174851,
                                    47.68720447048621
                                  ],
                                  [
                                    18.858096854030762,
                                    47.68502051980893
                                  ],
                                  [
                                    18.850354507923598,
                                    47.67804177427473
                                  ],
                                  [
                                    18.843611290722368,
                                    47.67557205436755
                                  ],
                                  [
                                    18.842261227206418,
                                    47.674166883437366
                                  ],
                                  [
                                    18.841923772629766,
                                    47.672392072813025
                                  ],
                                  [
                                    18.8423209569747,
                                    47.67056737897775
                                  ],
                                  [
                                    18.843051719501606,
                                    47.6655203246084
                                  ],
                                  [
                                    18.832301167576816,
                                    47.6616791037761
                                  ],
                                  [
                                    18.829635229097736,
                                    47.66271313911956
                                  ],
                                  [
                                    18.824563143648334,
                                    47.66228133294003
                                  ],
                                  [
                                    18.819207088037686,
                                    47.65866638402467
                                  ],
                                  [
                                    18.80881288222191,
                                    47.655863692254954
                                  ],
                                  [
                                    18.80803186093103,
                                    47.65581124250103
                                  ],
                                  [
                                    18.79949545508247,
                                    47.65629882179614
                                  ],
                                  [
                                    18.794599452292086,
                                    47.65527646277543
                                  ],
                                  [
                                    18.78962968317528,
                                    47.64641141580695
                                  ],
                                  [
                                    18.790413185325928,
                                    47.64373720821382
                                  ],
                                  [
                                    18.792187688093488,
                                    47.63289979311564
                                  ],
                                  [
                                    18.782569046473427,
                                    47.63064936269517
                                  ],
                                  [
                                    18.77908004899153,
                                    47.63153643460395
                                  ],
                                  [
                                    18.77901042762962,
                                    47.6312626025121
                                  ],
                                  [
                                    18.77083745831633,
                                    47.62370897733515
                                  ],
                                  [
                                    18.768533648237288,
                                    47.62485125139555
                                  ],
                                  [
                                    18.76680168687788,
                                    47.625996614837774
                                  ],
                                  [
                                    18.76481591558934,
                                    47.622993830731374
                                  ],
                                  [
                                    18.766146088570014,
                                    47.6119972039229
                                  ],
                                  [
                                    18.76695344222888,
                                    47.60576710746962
                                  ],
                                  [
                                    18.760424845579795,
                                    47.59670466184666
                                  ],
                                  [
                                    18.756570091774755,
                                    47.59604447577113
                                  ],
                                  [
                                    18.755004795178483,
                                    47.5960084240735
                                  ],
                                  [
                                    18.754023460909064,
                                    47.59573977703042
                                  ],
                                  [
                                    18.7517572237302,
                                    47.59400930212051
                                  ],
                                  [
                                    18.751411115535756,
                                    47.59363851690734
                                  ],
                                  [
                                    18.750410177699393,
                                    47.592092586403446
                                  ],
                                  [
                                    18.74917843765142,
                                    47.58619064966169
                                  ],
                                  [
                                    18.74846073259747,
                                    47.57551351779223
                                  ],
                                  [
                                    18.74724307001504,
                                    47.56813866853035
                                  ],
                                  [
                                    18.74743279980753,
                                    47.55983566847874
                                  ],
                                  [
                                    18.746800594129873,
                                    47.55412172397622
                                  ],
                                  [
                                    18.74663448663159,
                                    47.549234102609454
                                  ],
                                  [
                                    18.73679590057827,
                                    47.54511357022309
                                  ],
                                  [
                                    18.735427369912863,
                                    47.545488557440876
                                  ],
                                  [
                                    18.734476011738053,
                                    47.542016538197956
                                  ]
                                ]
                              ]
                            },
                            "value": 28000,
                            "area": 0,
                            "reachfactor": 0,
                            "envelope": {
                              "area": 0.3045692749929405,
                              "width": 0.65864180053876,
                              "height": 0.46242020282315366,
                              "minX": 18.734476011738053,
                              "maxX": 19.393117812276813,
                              "minY": 47.27132123806767,
                              "maxY": 47.733741440890824,
                              "null": false
                            },
                            "attributes": null
                          }
                        ],
                        "center": {
                          "x": 19.04973948997866,
                          "y": 47.498825525772126,
                          "z": "NaN"
                        },
                        "graphDate": "2022-06-21T03:32:34Z",
                        "isochronesCount": 1,
                        "empty": false
                      }
                    ],
                    "isochronesCount": 1
                  },
                  "isochroneRequest": {
                    "id": null,
                    "travellers": [
                      {
                        "id": "0",
                        "location": {
                          "x": 19.049745,
                          "y": 47.498826,
                          "z": "NaN"
                        },
                        "locationType": "start",
                        "ranges": [
                          28000
                        ],
                        "rangeType": "DISTANCE",
                        "routeSearchParameters": {
                          "profileType": 17,
                          "weightingMethod": 1,
                          "considerTurnRestrictions": false,
                          "avoidAreas": null,
                          "vehicleType": 0,
                          "bearings": null,
                          "flexibleMode": false,
                          "optimized": true,
                          "extraInfo": 0,
                          "suppressWarnings": false,
                          "avoidCountries": null,
                          "avoidBorders": "NONE",
                          "alternativeRoutesCount": -1,
                          "alternativeRoutesWeightFactor": 1.4,
                          "alternativeRoutesShareFactor": 0.6,
                          "roundTripLength": -1,
                          "roundTripPoints": 2,
                          "roundTripSeed": -1,
                          "maximumSpeed": 0,
                          "options": null,
                          "departure": null,
                          "arrival": null,
                          "avoidFeatureTypes": 0,
                          "maximumRadiuses": null,
                          "profileParameters": null,
                          "profileTypeDriving": false,
                          "profileTypeHeavyVehicle": false,
                          "timeDependent": false
                        },
                        "maximumRange": 28000
                      }
                    ],
                    "calcMethod": "fastisochrone",
                    "units": null,
                    "areaUnits": null,
                    "includeIntersections": false,
                    "attributes": null,
                    "locations": [
                      {
                        "x": 19.049745,
                        "y": 47.498826,
                        "z": "NaN"
                      }
                    ],
                    "profilesForAllTravellers": [
                      "cycling-electric"
                    ],
                    "weightingsForAllTravellers": [
                      "fastest"
                    ],
                    "valid": true
                  },
                  "locations": [
                    [
                      19.049745,
                      47.498826
                    ]
                  ],
                  "range": [
                    28000
                  ],
                  "range_type": "distance"
                },
                "engine": {
                  "version": "6.7.0",
                  "build_date": "2022-01-17T08:23:53Z",
                  "graph_date": "2022-06-21T03:32:34Z"
                }
              }
            },
            "hover_style": {
              "color": "white",
              "dashArray": "0",
              "fillOpacity": 0.5
            },
            "layers": [],
            "name": "",
            "options": [],
            "pane": "",
            "point_style": {},
            "popup": null,
            "popup_max_height": null,
            "popup_max_width": 300,
            "popup_min_width": 50,
            "style": {
              "opacity": 1,
              "dashArray": "9",
              "fillOpacity": 0.1,
              "weight": 1
            },
            "visible": true
          }
        }
      }
    }
  },
  "cells": [
    {
      "cell_type": "markdown",
      "metadata": {
        "id": "view-in-github",
        "colab_type": "text"
      },
      "source": [
        "<a href=\"https://colab.research.google.com/github/mrgarris0n/tier-test/blob/main/tier.ipynb\" target=\"_parent\"><img src=\"https://colab.research.google.com/assets/colab-badge.svg\" alt=\"Open In Colab\"/></a>"
      ]
    },
    {
      "cell_type": "markdown",
      "source": [
        "# Driving range visualization with TIER and OpenRouteService"
      ],
      "metadata": {
        "id": "De1pU1YcX-6W"
      }
    },
    {
      "cell_type": "markdown",
      "source": [
        "This notebook is created to give you quick glimpse of the TIER micromobility API and the OpenRouteservice API. Run the cells one by one."
      ],
      "metadata": {
        "id": "mx-JmWU0YZf8"
      }
    },
    {
      "cell_type": "code",
      "source": [
        "!pip install ipyleaflet"
      ],
      "metadata": {
        "id": "V7-h7jjFKVxT"
      },
      "execution_count": null,
      "outputs": []
    },
    {
      "cell_type": "code",
      "source": [
        "from ipyleaflet import *\n",
        "from ipywidgets import Layout\n",
        "import requests\n",
        "import json\n",
        "import random\n",
        "import time\n",
        "from configparser import ConfigParser"
      ],
      "metadata": {
        "id": "U9mWZgf8KMKl"
      },
      "execution_count": 3,
      "outputs": []
    },
    {
      "cell_type": "code",
      "source": [
        "LAT = 47.4988072\n",
        "LNG = 19.0502223\n",
        "TIER_API_URL = \"https://platform.tier-services.io\"\n"
      ],
      "metadata": {
        "id": "6CwtdaJRKI2F"
      },
      "execution_count": 4,
      "outputs": []
    },
    {
      "cell_type": "code",
      "source": [
        "parser = ConfigParser()\n",
        "_ = parser.read('test.cfg')\n",
        "\n",
        "TIER_API_KEY = parser.get('api', 'tier')\n",
        "ORS_API_KEY = parser.get('api', 'ors')\n"
      ],
      "metadata": {
        "id": "4oC78wg4OU1h"
      },
      "execution_count": 5,
      "outputs": []
    },
    {
      "cell_type": "code",
      "source": [
        "def clear_map(name):\n",
        "  for l in map.layers:\n",
        "    if (type(l).__name__ == name):\n",
        "      map.remove_layer(l)"
      ],
      "metadata": {
        "id": "jtXwkCELEMj5"
      },
      "execution_count": 6,
      "outputs": []
    },
    {
      "cell_type": "code",
      "source": [
        "def get_vehicles_near_pos(lat, lng, radius):\n",
        "    url = f\"{TIER_API_URL}/v2/vehicle?lat={lat}&lng={lng}&radius={radius}\"\n",
        "    # time.sleep(1.0) # security sleep to prevent API overload\n",
        "    headers = {'X-Api-Key': TIER_API_KEY}\n",
        "    results = requests.get(url, headers=headers).json()\n",
        "    return results"
      ],
      "metadata": {
        "id": "G4A3d8jDK_EK"
      },
      "execution_count": 7,
      "outputs": []
    },
    {
      "cell_type": "code",
      "source": [
        "def show_vehicles_on_map(map, vehicledata):\n",
        "    for vehicle in vehicledata['data']:\n",
        "        pos = (vehicle['attributes']['lat'], vehicle['attributes']['lng'])\n",
        "        range = vehicle['attributes']['currentRangeMeters']\n",
        "        battery = vehicle['attributes']['batteryLevel']\n",
        "        title = f\"Battery Level: {battery}%, range: {range/1000} km\"\n",
        "        \n",
        "        marker = Marker(location=pos, draggable=False, opacity=battery/100)\n",
        "        marker.on_click(handle_click)\n",
        "        marker.title = title\n",
        "        map.add_layer(marker)"
      ],
      "metadata": {
        "id": "W5793zolLhYG"
      },
      "execution_count": 8,
      "outputs": []
    },
    {
      "cell_type": "code",
      "source": [
        "def get_ranges(lat, lng, range):\n",
        "  loc = [lng, lat]\n",
        "  \n",
        "  body = {\"locations\":[loc],\"range\":[range],\"range_type\":\"distance\"}\n",
        "\n",
        "  headers = {\n",
        "      'Accept': 'application/json, application/geo+json, application/gpx+xml, img/png; charset=utf-8',\n",
        "      'Authorization': ORS_API_KEY,\n",
        "      'Content-Type': 'application/json; charset=utf-8'\n",
        "  }\n",
        "  \n",
        "  call = requests.post('https://api.openrouteservice.org/v2/isochrones/cycling-electric', json=body, headers=headers)\n",
        "\n",
        "  d = json.loads(call.text)\n",
        "  return d"
      ],
      "metadata": {
        "id": "ADYQwCzXRe-z"
      },
      "execution_count": 9,
      "outputs": []
    },
    {
      "cell_type": "code",
      "source": [
        "def random_color(feature):\n",
        "    return {\n",
        "        'color': 'black',\n",
        "        'fillColor': random.choice(['red', 'yellow', 'green', 'orange']),\n",
        "    }"
      ],
      "metadata": {
        "id": "2nAm74EeTGQa"
      },
      "execution_count": 10,
      "outputs": []
    },
    {
      "cell_type": "code",
      "source": [
        "def handle_click_map(**kwargs):\n",
        "  if kwargs.get('type') == 'click':\n",
        "    lat = kwargs['coordinates'][0]\n",
        "    lng = kwargs['coordinates'][1]\n",
        "\n",
        "    clear_map('Marker')\n",
        "    clear_map('GeoJSON')\n",
        "    \n",
        "    vehicles = get_vehicles_near_pos(lat, lng, 1500)\n",
        "  \n",
        "    show_vehicles_on_map(map, vehicles)"
      ],
      "metadata": {
        "id": "k9ZJ_99NNI2J"
      },
      "execution_count": 11,
      "outputs": []
    },
    {
      "cell_type": "code",
      "source": [
        "def handle_click(**kwargs):\n",
        "    lat = kwargs['coordinates'][0]\n",
        "    lng = kwargs['coordinates'][1]\n",
        "    data = {}\n",
        "    \n",
        "    clear_map('GeoJSON')\n",
        "    \n",
        "    vehicle = get_vehicles_near_pos(lat, lng, 1)\n",
        "    if vehicle['data'] is not None:\n",
        "      range = vehicle['data'][0]['attributes']['currentRangeMeters']\n",
        "      data = get_ranges(lat, lng, range)\n",
        "\n",
        "      geo_json = GeoJSON(\n",
        "          data=data,\n",
        "          style={\n",
        "              'opacity': 1, 'dashArray': '9', 'fillOpacity': 0.1, 'weight': 1\n",
        "          },\n",
        "          hover_style={\n",
        "              'color': 'white', 'dashArray': '0', 'fillOpacity': 0.5\n",
        "          },\n",
        "          style_callback=random_color\n",
        "          )\n",
        "\n",
        "\n",
        "      map.add_layer(geo_json)\n",
        "      \n",
        "\n"
      ],
      "metadata": {
        "id": "-iu490G9LphO"
      },
      "execution_count": 12,
      "outputs": []
    },
    {
      "cell_type": "code",
      "execution_count": 13,
      "metadata": {
        "id": "J-YEkxXiJ3Q6"
      },
      "outputs": [],
      "source": [
        "def create_simple_map():\n",
        "    center = (LAT, LNG)\n",
        "   \n",
        "    new_map = Map(center=center, scroll_wheel_zoom=True, zoom=16, layout=Layout(width='95%', height='1200px'))\n",
        "    \n",
        "    control = LayersControl(position='topright')\n",
        "    new_map.add_control(control)\n",
        "    new_map.on_interaction(handle_click_map)\n",
        "\n",
        "    return new_map"
      ]
    },
    {
      "cell_type": "markdown",
      "source": [
        "If you click somewhere on the map, all the TIER vehicles within 1.5 km range will appear. The opacity of the markers is directly proportional to the battery level. You can check the battery level and the driving range of a vehicle by hovering the mouse over their markers. If you click on a vehicle, an isochrone range will be calculated. This means the hypothetic range which the vehicle can travel with the given charge. \n",
        "\n",
        "Limitations: \n",
        "*   TIER zone constraints and limits are ignored\n",
        "*   Only Budapest and Siófok is working\n",
        "*   E-Bike profile from Openroute service were used, e-scooter characteristics may differ \n",
        "\n",
        "DISCLAIMER: This is for demonstration purposes only, do not use for real route planning!\n",
        "\n"
      ],
      "metadata": {
        "id": "NSz_FcR9Y8eM"
      }
    },
    {
      "cell_type": "code",
      "source": [
        "map = create_simple_map()\n",
        "map"
      ],
      "metadata": {
        "id": "C99ybfdEKc3W",
        "colab": {
          "base_uri": "https://localhost:8080/",
          "height": 1000,
          "referenced_widgets": [
            "dd862fd2ccdb4e1e93543edbb9f88571",
            "777d12a5bce848d18e4dd057acd7c87f",
            "f6b9247c62b143a481e3439ec41c6c93",
            "23ceee18208f4bb29bbd71795d203ff4",
            "1554ff3ba24843958f30de3aefec3d18",
            "16a092d77c884e5b9d8fd4e907a487ea",
            "bc485dddd3934f73a8e29fb93e52c720",
            "b8c957f3982043a5b207519ccd812e26",
            "0503bb9c75e44002a889140881a7130b",
            "62246bc0689448efbbae9ae5ed8d74b8",
            "41b95b3b1493458bb34c02f108b30fb4",
            "9b49c5b8a85c4896ae0705496e0b4713",
            "b965cb3151a645df8afd27ef65069da7",
            "12c7ad01159a4a4a970f29340c01ebe7",
            "065d838243ca40e2ac37f6f01d37e3ca",
            "0f5b850d03b54129bcf1c0313c33303e",
            "0f5d9010aef64feba16bff983b9c7f28",
            "4d67ae3da3894a97a8fd93b7b9526aa4",
            "c824f1a4b12a4c92bb5adda8e596dbbf",
            "48f65e06f7a045c3af9ca2a00103da48",
            "3e4d4731c6754a109bd5bc31f66355c1",
            "ed5279d3f41f4fe7af2f8c1f947c0a7c",
            "b96573bc17414c09b3a1e2024ab016cb",
            "bc0d608bb1be4dca93617a3dc599f12a",
            "c7b956db5b914f23b0c9b0c34c34313a",
            "9045c904dc9642a39f04ef1dddee068f",
            "78bb5c2b3f094f6eb400b38c21eaf749",
            "4c01f61678d842319e286edf6c36a04c",
            "2967a9aa627f4e3497b2e3407473f544",
            "4e00133e4ea34902aca908324dc6f9fd",
            "fc2bfb21730149248852a022719e6271",
            "44d61caf4d4a41f7a9133345a2f848c5",
            "b8d9f2a21f09436dbba95ae30ce70a1c",
            "2e89c732be604a398a1f0160b22121d1",
            "f8e7ff7b66e84b45b8e3dc1599f39a06",
            "106380d46f79413dba77fc170f69e0b5",
            "76b97bb4ff2c4fd0ac58282ed7a76346",
            "883d505ba40540369612126ea53ccd87",
            "f6c20852911d4f468313db667f6d0bf6",
            "b484ae582af64b58bd337f2d78cf7e93",
            "befbccc147524d03b904c4f0a9a86f69",
            "2a566390f1614aa99a0d61e00e7527fb",
            "e846a37fde8948c5bbf63bb8f3e991b1",
            "6c3a0aaba3ab4cd2adcd809225a23c0e",
            "7f4528c3be2d4b94bb041d258bcec690",
            "79ec724b4a0b4635826bb6424eeb796f",
            "5a053713ff7241d287fdc56ddd74156f",
            "a6e5857ea23249e8a6c7cd2ee683e889",
            "b7bdba17911a417c83bdd18df5fca0a7",
            "814f21e28f5e4cc78504babdd85aaed0",
            "883d6ba8f99a42a1ba68e9e908009a75",
            "73062874102548629c065ab1d703c2e5",
            "9d04239ffe964eb0b59d7535b067bf4b",
            "ab94ffb8640f4bacb1d1270e110d2840",
            "a66f2ba64b064f11ad74c1d78e71de58",
            "a67ae06ee24b463a9a7a5fdc95361c2c",
            "68e93bc4b3564f34a6b35e5a927c7548",
            "fdb97f958c0d479ca1487a6f10c70538",
            "a8fec74587f548e2a4c3ed485338b039",
            "d868c633ca3442a1b83dceb5cbf949eb",
            "04c2270bc3094860bc86f8d9416ead1d",
            "e04d3ab4192e4f2d8b4d4f0628154934",
            "2c9883cc7c0b4df1ad466d085da764e3",
            "14ba1ab471074be9930a9c65f681d962",
            "157f4a09d83c42b8a49be42bd17bf2ce",
            "1ca12f03d7ff460392ec98336f985783",
            "b59b304dc5e84d39baa2e1b20f2d76db",
            "20e6dac874714fe5b4619f9e000a99ad",
            "c2d496b0d814473d9011938a2152b93f",
            "f0db64025b064554ae73fec0bad0e1e9",
            "54efeeacca0f4e8ba0237e838ca657b4",
            "bf941dd4d32d493c9145cd6fcdef0aed",
            "47ce1021d7934fa7a6f7c35624d45af1",
            "d05da3f10fc8464cb93d3ea58375e4e6",
            "a1e72e5929be412a934896c0599f563c",
            "94fa36ea1b454cd59ffc87c443f79fda",
            "77e71d2eab4644cda1f3433d14d67161",
            "5dfe33ac074a467b84d716809b6574e3",
            "17982ba1b826409dbbd883dbcccd1776",
            "7f284cd9cfff4d7f9ae745900f23ca62",
            "ede7c46acb74438799da0ee9f15aa744",
            "1d6fc77e67e4434d8ac193e08039ade9",
            "3c5df8c79d2b41fea91d2c2a87c5aa9c",
            "6372d89a13d3428798cd3bf54edb8572",
            "758a18ee428541dea190ae9609460f3d",
            "0841e51ab5b443e58e0ed574e490838d",
            "a796cea6bcae4baf9ed93471c7e33f42",
            "1a4d4692dc524f949ecb100072e36651",
            "d59d0e2641d64571877d434b55358517",
            "4f8f1a8f1015403190df4fd8656b510e",
            "439f6158a1f040fdb22561f919e87127",
            "b259655d0fc84f60859978811f6e8f16",
            "23db5d5ff31745f59a7fc6316c9d9c4d",
            "d154c3a137f34e7b86632c4b57c3c3d4"
          ]
        },
        "outputId": "7e52b165-0df0-4361-ec21-2c99701127f9"
      },
      "execution_count": 14,
      "outputs": [
        {
          "output_type": "display_data",
          "data": {
            "text/plain": [
              "Map(center=[47.4988072, 19.0502223], controls=(ZoomControl(options=['position', 'zoom_in_text', 'zoom_in_title…"
            ],
            "application/vnd.jupyter.widget-view+json": {
              "version_major": 2,
              "version_minor": 0,
              "model_id": "dd862fd2ccdb4e1e93543edbb9f88571"
            }
          },
          "metadata": {
            "application/vnd.jupyter.widget-view+json": {
              "colab": {
                "custom_widget_manager": {
                  "url": "https://ssl.gstatic.com/colaboratory-static/widgets/colab-cdn-widget-manager/d2e234f7cc04bf79/manager.min.js"
                }
              }
            }
          }
        }
      ]
    }
  ]
}